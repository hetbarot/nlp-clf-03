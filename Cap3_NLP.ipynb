{
  "nbformat": 4,
  "nbformat_minor": 0,
  "metadata": {
    "colab": {
      "name": "Cap3_NLP.ipynb",
      "provenance": [],
      "collapsed_sections": [],
      "toc_visible": true
    },
    "kernelspec": {
      "name": "python3",
      "display_name": "Python 3"
    }
  },
  "cells": [
    {
      "cell_type": "code",
      "metadata": {
        "id": "q51hFadsCCya",
        "colab_type": "code",
        "outputId": "d2bc7075-2d28-46bd-92e8-45c890da2c25",
        "colab": {
          "base_uri": "https://localhost:8080/",
          "height": 33
        }
      },
      "source": [
        "import re\n",
        "import scipy\n",
        "import pickle \n",
        "import string\n",
        "import numpy as np\n",
        "import pandas as pd\n",
        "import seaborn as sns\n",
        "import warnings\n",
        "import spacy as spy\n",
        "!pip install joblib\n",
        "warnings.filterwarnings(\"ignore\")\n",
        "from joblib import dump, load\n",
        "import matplotlib.pyplot as plt \n",
        "from sklearn.externals import joblib\n",
        "from astropy.table import Table, Column\n",
        "\n",
        "from sklearn.model_selection import KFold\n",
        "from sklearn.feature_selection import chi2\n",
        "from sklearn.metrics import accuracy_score\n",
        "from sklearn.preprocessing import LabelEncoder\n",
        "#from sklearn.feature_extraction.text import *\n",
        "\n",
        "\n",
        "'''from sklearn.feature_selection import SelectKBest\n",
        "from sklearn.feature_selection import chi2\n",
        "from sklearn.preprocessing import MinMaxScaler\n",
        "from sklearn.metrics import classification_report, confusion_matrix'''\n",
        "\n",
        "\n",
        "from sklearn import model_selection, preprocessing, linear_model, naive_bayes, metrics, svm\n",
        "from sklearn.feature_extraction.text import TfidfVectorizer, CountVectorizer\n",
        "from sklearn import decomposition, ensemble\n",
        "\n",
        "import nltk \n",
        "import pandas, xgboost, numpy, textblob, string\n",
        "from keras.preprocessing import text, sequence\n",
        "from keras import layers, models, optimizers"
      ],
      "execution_count": 0,
      "outputs": [
        {
          "output_type": "stream",
          "text": [
            "Requirement already satisfied: joblib in /usr/local/lib/python3.6/dist-packages (0.14.1)\n"
          ],
          "name": "stdout"
        }
      ]
    },
    {
      "cell_type": "code",
      "metadata": {
        "id": "b5qIpJgHDc1O",
        "colab_type": "code",
        "outputId": "f25b4f48-403a-4c4a-a750-74f6bf2dbc0c",
        "colab": {
          "base_uri": "https://localhost:8080/",
          "height": 976
        }
      },
      "source": [
        "df = pd.read_excel(\"/content/drive/My Drive/Cap3 NLP/TREC_dataset.xlsx\")\n",
        "\n",
        "texts = df[\"Text\"]\n",
        "labels = df[\"Label\"]\n",
        "\n",
        "texts[2:60]\n",
        "#labels.head()"
      ],
      "execution_count": 0,
      "outputs": [
        {
          "output_type": "execute_result",
          "data": {
            "text/plain": [
              "2     manner How can I find a list of celebrities ' ...\n",
              "3     animal What fowl grabs the spotlight after the...\n",
              "4                   exp What is the full form of .com ?\n",
              "5     ind What contemptible scoundrel stole the cork...\n",
              "6     gr What team did baseball 's St. Louis Browns ...\n",
              "7                 title What is the oldest profession ?\n",
              "8                          def What are liver enzymes ?\n",
              "9     ind Name the scar-faced bounty hunter of The O...\n",
              "10                   date When was Ozzy Osbourne born ?\n",
              "11    reason Why do heavier objects travel downhill ...\n",
              "12               ind Who was The Pride of the Yankees ?\n",
              "13                              ind Who killed Gandhi ?\n",
              "14    event What is considered the costliest disaste...\n",
              "15    state What sprawling U.S. state boasts the mos...\n",
              "16    desc What did the only repealed amendment to t...\n",
              "17    count How many Jews were executed in concentra...\n",
              "18                  def What is `` Nine Inch Nails '' ?\n",
              "19              def What is an annotated bibliography ?\n",
              "20                date What is the date of Boxing Day ?\n",
              "21    other What articles of clothing are tokens in ...\n",
              "22                         ind Name 11 famous martyrs .\n",
              "23                     desc What 's the Olympic motto ?\n",
              "24    desc What is the origin of the name ` Scarlett...\n",
              "25    letter What 's the second-most-used vowel in E...\n",
              "26            ind Who was the inventor of silly putty ?\n",
              "27    other What is the highest waterfall in the Uni...\n",
              "28           other Name a golf course in Myrtle Beach .\n",
              "29      state Which two states enclose Chesapeake Bay ?\n",
              "30      exp What does the abbreviation AIDS stand for ?\n",
              "31              other What does a spermologer collect ?\n",
              "32    count How many points make up a perfect fivepi...\n",
              "33    gr Which company that manufactures video-game ...\n",
              "34    count How many Community Chest cards are there...\n",
              "35                       desc What do Mormons believe ?\n",
              "36             date When did the neanderthal man live ?\n",
              "37    religion In what religion was Isis the nature ...\n",
              "38    other Where do the adventures of `` The Swiss ...\n",
              "39    animal What relative of the racoon is sometime...\n",
              "40    manner How can I register my website in Yahoo ...\n",
              "41    other What was cash-conscious Colonel Edwin L....\n",
              "42    count How many people in the world speak French ?\n",
              "43    count How many inches over six feet is the Ven...\n",
              "44    manner How do they find or choose witnesses to...\n",
              "45    ind What 1920s cowboy star rode Tony the Wonde...\n",
              "46    food What cocktail inspired John Doxat to writ...\n",
              "47                gr What ISPs exist in the Caribbean ?\n",
              "48    manner How do you ask a total stranger out on ...\n",
              "49    other What weapon is the mythological characte...\n",
              "50    country What country do the Galapagos Islands ...\n",
              "51                               def What is ethology ?\n",
              "52       ind Who was the prophet of the Muslim people ?\n",
              "53       desc Where did the term `` 86ed '' come from ?\n",
              "54                    ind Who is Snoopy 's arch-enemy ?\n",
              "55                 def What is the nature of learning ?\n",
              "56    color What 's the only color Johnny Cash wears...\n",
              "57            termeq What 's the term for a young fox ?\n",
              "58        state What U.S. state lived under six flags ?\n",
              "59                      def What is the Kashmir issue ?\n",
              "Name: Text, dtype: object"
            ]
          },
          "metadata": {
            "tags": []
          },
          "execution_count": 119
        }
      ]
    },
    {
      "cell_type": "code",
      "metadata": {
        "id": "2rj6HurXs8Tg",
        "colab_type": "code",
        "outputId": "5913d942-aba2-40a6-dd4f-6dc85a562d3e",
        "colab": {
          "base_uri": "https://localhost:8080/",
          "height": 53
        }
      },
      "source": [
        "Sentences =[str(texts)]\n",
        "\n",
        "\n",
        "words =[sentence.split() for sentence in Sentences]\n",
        "\n",
        "Sentences[0]\n",
        "#print(Sentences)\n",
        "#print(words)"
      ],
      "execution_count": 0,
      "outputs": [
        {
          "output_type": "execute_result",
          "data": {
            "text/plain": [
              "\"0       manner How did serfdom develop in and then lea...\\n1       cremat What films featured the character Popey...\\n2       manner How can I find a list of celebrities ' ...\\n3       animal What fowl grabs the spotlight after the...\\n4                     exp What is the full form of .com ?\\n                              ...                        \\n5447        other What 's the shape of a camel 's spine ?\\n5448    currency What type of currency is used in China ?\\n5449                 temp What is the temperature today ?\\n5450           temp What is the temperature for cooking ?\\n5451        currency What currency is used in Australia ?\\nName: Text, Length: 5452, dtype: object\""
            ]
          },
          "metadata": {
            "tags": []
          },
          "execution_count": 120
        }
      ]
    },
    {
      "cell_type": "code",
      "metadata": {
        "id": "qsgHzMWuMiNz",
        "colab_type": "code",
        "outputId": "2335c163-9727-4ea9-d72b-7aac73bc5d03",
        "colab": {
          "base_uri": "https://localhost:8080/",
          "height": 333
        }
      },
      "source": [
        "labels.value_counts()\n",
        "plt.figure(figsize = (10,5))\n",
        "sns.countplot(data= df, x = \"Label\")\n",
        "\n",
        "plt.show()\n",
        "\n"
      ],
      "execution_count": 0,
      "outputs": [
        {
          "output_type": "display_data",
          "data": {
            "image/png": "[encoded data removed]",
            "text/plain": [
              "<Figure size 720x360 with 1 Axes>"
            ]
          },
          "metadata": {
            "tags": []
          }
        }
      ]
    },
    {
      "cell_type": "code",
      "metadata": {
        "id": "RWiUUPWdLao7",
        "colab_type": "code",
        "outputId": "a6a73032-b9d0-4364-baca-fb2bf9bfc5cb",
        "colab": {
          "base_uri": "https://localhost:8080/",
          "height": 191
        }
      },
      "source": [
        "df.head()"
      ],
      "execution_count": 0,
      "outputs": [
        {
          "output_type": "execute_result",
          "data": {
            "text/html": [
              "<div>\n",
              "<style scoped>\n",
              "    .dataframe tbody tr th:only-of-type {\n",
              "        vertical-align: middle;\n",
              "    }\n",
              "\n",
              "    .dataframe tbody tr th {\n",
              "        vertical-align: top;\n",
              "    }\n",
              "\n",
              "    .dataframe thead th {\n",
              "        text-align: right;\n",
              "    }\n",
              "</style>\n",
              "<table border=\"1\" class=\"dataframe\">\n",
              "  <thead>\n",
              "    <tr style=\"text-align: right;\">\n",
              "      <th></th>\n",
              "      <th>Label</th>\n",
              "      <th>Text</th>\n",
              "    </tr>\n",
              "  </thead>\n",
              "  <tbody>\n",
              "    <tr>\n",
              "      <th>0</th>\n",
              "      <td>DESC</td>\n",
              "      <td>manner How did serfdom develop in and then lea...</td>\n",
              "    </tr>\n",
              "    <tr>\n",
              "      <th>1</th>\n",
              "      <td>ENTY</td>\n",
              "      <td>cremat What films featured the character Popey...</td>\n",
              "    </tr>\n",
              "    <tr>\n",
              "      <th>2</th>\n",
              "      <td>DESC</td>\n",
              "      <td>manner How can I find a list of celebrities ' ...</td>\n",
              "    </tr>\n",
              "    <tr>\n",
              "      <th>3</th>\n",
              "      <td>ENTY</td>\n",
              "      <td>animal What fowl grabs the spotlight after the...</td>\n",
              "    </tr>\n",
              "    <tr>\n",
              "      <th>4</th>\n",
              "      <td>ABBR</td>\n",
              "      <td>exp What is the full form of .com ?</td>\n",
              "    </tr>\n",
              "  </tbody>\n",
              "</table>\n",
              "</div>"
            ],
            "text/plain": [
              "  Label                                               Text\n",
              "0  DESC  manner How did serfdom develop in and then lea...\n",
              "1  ENTY  cremat What films featured the character Popey...\n",
              "2  DESC  manner How can I find a list of celebrities ' ...\n",
              "3  ENTY  animal What fowl grabs the spotlight after the...\n",
              "4  ABBR                exp What is the full form of .com ?"
            ]
          },
          "metadata": {
            "tags": []
          },
          "execution_count": 122
        }
      ]
    },
    {
      "cell_type": "code",
      "metadata": {
        "id": "nmOEb0GcbyJ8",
        "colab_type": "code",
        "outputId": "f4fb08d2-0439-4d16-ad63-4b3118ef175c",
        "colab": {
          "base_uri": "https://localhost:8080/",
          "height": 66
        }
      },
      "source": [
        "nltk.download('punkt')"
      ],
      "execution_count": 0,
      "outputs": [
        {
          "output_type": "stream",
          "text": [
            "[nltk_data] Downloading package punkt to /root/nltk_data...\n",
            "[nltk_data]   Package punkt is already up-to-date!\n"
          ],
          "name": "stdout"
        },
        {
          "output_type": "execute_result",
          "data": {
            "text/plain": [
              "True"
            ]
          },
          "metadata": {
            "tags": []
          },
          "execution_count": 123
        }
      ]
    },
    {
      "cell_type": "code",
      "metadata": {
        "id": "pThvqS6x4D4I",
        "colab_type": "code",
        "colab": {}
      },
      "source": [
        "df['Question_len'] = df['Text'].astype(str).apply(len)\n",
        "df['word_count'] = df['Text'].apply(lambda x: len(str(x).split()))"
      ],
      "execution_count": 0,
      "outputs": []
    },
    {
      "cell_type": "code",
      "metadata": {
        "id": "iLH_e4Ri6pt7",
        "colab_type": "code",
        "colab": {}
      },
      "source": [
        "from google.colab import files\n",
        "df.to_csv('wordCount_Trec.csv') \n",
        "files.download('wordCount_Trec.csv')"
      ],
      "execution_count": 0,
      "outputs": []
    },
    {
      "cell_type": "code",
      "metadata": {
        "id": "kLsT_jt-4QXd",
        "colab_type": "code",
        "outputId": "4cfa6d68-a3eb-435d-b348-5e638f1f0ec3",
        "colab": {
          "base_uri": "https://localhost:8080/",
          "height": 191
        }
      },
      "source": [
        "df.head()"
      ],
      "execution_count": 0,
      "outputs": [
        {
          "output_type": "execute_result",
          "data": {
            "text/html": [
              "<div>\n",
              "<style scoped>\n",
              "    .dataframe tbody tr th:only-of-type {\n",
              "        vertical-align: middle;\n",
              "    }\n",
              "\n",
              "    .dataframe tbody tr th {\n",
              "        vertical-align: top;\n",
              "    }\n",
              "\n",
              "    .dataframe thead th {\n",
              "        text-align: right;\n",
              "    }\n",
              "</style>\n",
              "<table border=\"1\" class=\"dataframe\">\n",
              "  <thead>\n",
              "    <tr style=\"text-align: right;\">\n",
              "      <th></th>\n",
              "      <th>Label</th>\n",
              "      <th>Text</th>\n",
              "      <th>Question_len</th>\n",
              "      <th>word_count</th>\n",
              "    </tr>\n",
              "  </thead>\n",
              "  <tbody>\n",
              "    <tr>\n",
              "      <th>0</th>\n",
              "      <td>DESC</td>\n",
              "      <td>manner How did serfdom develop in and then lea...</td>\n",
              "      <td>57</td>\n",
              "      <td>11</td>\n",
              "    </tr>\n",
              "    <tr>\n",
              "      <th>1</th>\n",
              "      <td>ENTY</td>\n",
              "      <td>cremat What films featured the character Popey...</td>\n",
              "      <td>55</td>\n",
              "      <td>9</td>\n",
              "    </tr>\n",
              "    <tr>\n",
              "      <th>2</th>\n",
              "      <td>DESC</td>\n",
              "      <td>manner How can I find a list of celebrities ' ...</td>\n",
              "      <td>58</td>\n",
              "      <td>13</td>\n",
              "    </tr>\n",
              "    <tr>\n",
              "      <th>3</th>\n",
              "      <td>ENTY</td>\n",
              "      <td>animal What fowl grabs the spotlight after the...</td>\n",
              "      <td>75</td>\n",
              "      <td>14</td>\n",
              "    </tr>\n",
              "    <tr>\n",
              "      <th>4</th>\n",
              "      <td>ABBR</td>\n",
              "      <td>exp What is the full form of .com ?</td>\n",
              "      <td>35</td>\n",
              "      <td>9</td>\n",
              "    </tr>\n",
              "  </tbody>\n",
              "</table>\n",
              "</div>"
            ],
            "text/plain": [
              "  Label  ... word_count\n",
              "0  DESC  ...         11\n",
              "1  ENTY  ...          9\n",
              "2  DESC  ...         13\n",
              "3  ENTY  ...         14\n",
              "4  ABBR  ...          9\n",
              "\n",
              "[5 rows x 4 columns]"
            ]
          },
          "metadata": {
            "tags": []
          },
          "execution_count": 126
        }
      ]
    },
    {
      "cell_type": "code",
      "metadata": {
        "id": "6VpGvKN7bTKh",
        "colab_type": "code",
        "colab": {}
      },
      "source": [
        "texts =str(texts)\n",
        "tokens = nltk.word_tokenize(texts)\n",
        "text = nltk.Text(tokens)\n"
      ],
      "execution_count": 0,
      "outputs": []
    },
    {
      "cell_type": "code",
      "metadata": {
        "id": "rfKz5hmaYRO7",
        "colab_type": "code",
        "outputId": "5d2f6f80-1407-499e-cb9b-bd8d8644597c",
        "colab": {
          "base_uri": "https://localhost:8080/",
          "height": 50
        }
      },
      "source": [
        "print(len(text))\n",
        "\n",
        "text.concordance(\"Where\")"
      ],
      "execution_count": 0,
      "outputs": [
        {
          "output_type": "stream",
          "text": [
            "113\n",
            "No matches\n"
          ],
          "name": "stdout"
        }
      ]
    },
    {
      "cell_type": "code",
      "metadata": {
        "id": "OAirk63OcmpM",
        "colab_type": "code",
        "colab": {}
      },
      "source": [
        "type(text)\n",
        "text.count(\"What\")"
      ],
      "execution_count": 0,
      "outputs": []
    },
    {
      "cell_type": "code",
      "metadata": {
        "id": "RXwJRvE_YRhJ",
        "colab_type": "code",
        "outputId": "8338841c-9d4a-456b-f285-98a87673d704",
        "colab": {
          "base_uri": "https://localhost:8080/",
          "height": 295
        }
      },
      "source": [
        "text.dispersion_plot([\"How\"])"
      ],
      "execution_count": 0,
      "outputs": [
        {
          "output_type": "display_data",
          "data": {
            "image/png": "[encoded data removed]",
            "text/plain": [
              "<Figure size 432x288 with 1 Axes>"
            ]
          },
          "metadata": {
            "tags": []
          }
        }
      ]
    },
    {
      "cell_type": "code",
      "metadata": {
        "id": "-hmmL-8GJSHn",
        "colab_type": "code",
        "colab": {}
      },
      "source": [
        "train_x, valid_x, train_y, valid_y = model_selection.train_test_split(df['Text'], df['Label'])\n"
      ],
      "execution_count": 0,
      "outputs": []
    },
    {
      "cell_type": "code",
      "metadata": {
        "id": "R6uXPkBUMBas",
        "colab_type": "code",
        "outputId": "c16770f3-8877-47f1-cfa2-1082fe45f302",
        "colab": {
          "base_uri": "https://localhost:8080/",
          "height": 212
        }
      },
      "source": [
        "#train_x.head()\n",
        "valid_x.head()\n",
        "train_y\n",
        "#valid_y.head()\n",
        "\n",
        "#valid_y.value_counts()"
      ],
      "execution_count": 0,
      "outputs": [
        {
          "output_type": "execute_result",
          "data": {
            "text/plain": [
              "3079    ENTY\n",
              "3810     NUM\n",
              "4809     LOC\n",
              "3961     HUM\n",
              "3484     LOC\n",
              "        ... \n",
              "2258    DESC\n",
              "449     DESC\n",
              "2049     LOC\n",
              "3745     HUM\n",
              "831      HUM\n",
              "Name: Label, Length: 4089, dtype: object"
            ]
          },
          "metadata": {
            "tags": []
          },
          "execution_count": 132
        }
      ]
    },
    {
      "cell_type": "code",
      "metadata": {
        "id": "fjjwhnIKNwN_",
        "colab_type": "code",
        "outputId": "9adbacf7-91cf-47ca-ffe1-9cd39397898f",
        "colab": {
          "base_uri": "https://localhost:8080/",
          "height": 33
        }
      },
      "source": [
        "encoder = preprocessing.LabelEncoder()\n",
        "train_y = encoder.fit_transform(train_y)\n",
        "valid_y = encoder.fit_transform(valid_y)\n",
        "\n",
        "train_y"
      ],
      "execution_count": 0,
      "outputs": [
        {
          "output_type": "execute_result",
          "data": {
            "text/plain": [
              "array([2, 5, 4, ..., 4, 3, 3])"
            ]
          },
          "metadata": {
            "tags": []
          },
          "execution_count": 133
        }
      ]
    },
    {
      "cell_type": "code",
      "metadata": {
        "id": "abax6LHvOQAs",
        "colab_type": "code",
        "outputId": "d2254711-bb8f-4c4b-8fff-bad9f47749f4",
        "colab": {
          "base_uri": "https://localhost:8080/",
          "height": 53
        }
      },
      "source": [
        "#CountVectors\n",
        "\n",
        "#count_vect = CountVectorizer(analyzer='word', token_pattern=r'\\w{1,}')\n",
        "#count_vect.fit(df['Text'])\n",
        "\n",
        "count_vect = CountVectorizer(analyzer='word')\n",
        "count_vect.fit(df['Text'])\n",
        "\n",
        "print(count_vect.get_feature_names())\n",
        "\n",
        "\n",
        "\n",
        "#print(xtrain_count)\n"
      ],
      "execution_count": 0,
      "outputs": [
        {
          "output_type": "stream",
          "text": [
            "['000', '000th', '007', '10', '100', '103', '11', '111', '11th', '12', '123', '12601', '13', '137', '139', '14', '15', '155', '1562', '15th', '16', '1603', '1642', '1649', '165', '1669', '168', '1699', '16th', '17', '172', '173', '175', '1767', '1779', '1781', '1787', '1789', '1797', '18', '1800s', '1812', '1815', '1830', '1832', '1834', '1835', '1842', '1847', '1849', '185', '1853', '1857', '1863', '1865', '1866', '1870', '1872', '1873', '1879', '187s', '188', '1880', '1881', '1885', '1886', '1891', '1892', '1893', '1895', '1896', '1898', '1899', '19', '1900s', '191', '1912', '1913', '1915', '1916', '1919', '192', '1920s', '1922', '1923', '1925', '1926', '1927', '1928', '1929', '193', '1930s', '1931', '1932', '1933', '1935', '1936', '1937', '1939', '194', '1940', '1940s', '1941', '1942', '1943', '1945', '1946', '1948', '195', '1950', '1951', '1952', '1953', '1954', '1955', '1956', '1957', '1958', '1959', '196', '1960', '1960s', '1961', '1962', '1963', '1964', '1965', '1966', '1967', '1968', '1969', '197', '1970s', '1971', '1972', '1973', '1974', '1975', '1976', '1977', '1978', '1979', '198', '1980', '1980s', '1981', '1982', '1983', '1984', '1985', '1988', '1989', '199', '1990', '1990s', '1991', '1992', '1993', '1994', '1996', '1997', '1998', '1999', '19th', '1st', '20', '200', '2000', '2001', '2010', '2020', '20th', '21', '2112', '219', '22', '227', '23', '239', '24', '25', '25th', '26', '27', '28', '280', '287', '2th', '31', '313', '32', '327', '33', '35', '36893', '37803', '387', '39', '3rd', '401', '42', '43rd', '455', '45mhz', '46', '468', '47', '48', '48th', '49', '4th', '500', '50s', '52', '528', '54c', '55', '56', '576', '5943', '5th', '600', '61', '64', '69', '6th', '70', '72', '732', '737', '740', '755', '76', '7847', '7th', '80', '836', '84', '85', '86', '864', '86ed', '8th', '90', '900', '924', '95', '98', '985', '9971', '999', '9th', 'a_tisket', 'aaa', 'aaron', 'abacus', 'abandoned', 'abb', 'abbey', 'abbie', 'abbreviate', 'abbreviated', 'abbreviation', 'abby', 'abdication', 'abdominal', 'abigail', 'abilities', 'ability', 'abner', 'abolished', 'abolitionists', 'abominable', 'aborigines', 'about', 'abraham', 'absolute', 'abstract', 'abundant', 'abuse', 'abzug', 'academy', 'acceptance', 'accepted', 'access', 'accessory', 'accident', 'accidents', 'accommodate', 'accompanied', 'accompanying', 'according', 'account', 'accused', 'ace', 'acetylsalicylic', 'acheive', 'achievement', 'achievements', 'achieves', 'acid', 'acidic', 'aclu', 'acne', 'acoustic', 'acquaintance', 'acquitted', 'acreage', 'acres', 'acronym', 'across', 'act', 'acted', 'acting', 'action', 'activated', 'active', 'activity', 'actor', 'actors', 'actress', 'actual', 'actually', 'ad', 'adam', 'adapter', 'add', 'added', 'adding', 'address', 'addresses', 'adenauer', 'adjacent', 'adjoining', 'adjournment', 'administration', 'admiral', 'admit', 'admitted', 'admonition', 'ado', 'adopt', 'adopted', 'adoptive', 'adorns', 'ads', 'adult', 'adults', 'advanced', 'advantages', 'adventours', 'adventures', 'adventuring', 'advertise', 'advertised', 'advertises', 'advertising', 'advertizing', 'advised', 'advisory', 'advocate', 'aerodynamics', 'aesop', 'aeul', 'affair', 'affairs', 'affect', 'affected', 'affectionate', 'affiant', 'afflict', 'afghanistan', 'afoot', 'afraid', 'africa', 'african', 'afs', 'after', 'afternoon', 'aftra', 'again', 'against', 'age', 'aged', 'agencies', 'agency', 'agent', 'agents', 'ages', 'aging', 'ago', 'agra', 'agree', 'agreement', 'agricultural', 'ahead', 'aid', 'aids', 'ailment', 'aim', 'aimed', 'air', 'aircraft', 'airforce', 'airline', 'airliners', 'airman', 'airplane', 'airplanes', 'airport', 'airports', 'airwaves', 'akita', 'al', 'alabama', 'aladdin', 'alamein', 'alan', 'alaska', 'albee', 'albert', 'album', 'albums', 'alcatraz', 'alcohol', 'alcoholic', 'alda', 'aldous', 'aldrin', 'alexander', 'alexandra', 'alexandre', 'algeria', 'algiers', 'ali', 'alice', 'alive', 'all', 'allah', 'allan', 'alleged', 'allegedly', 'allen', 'alley', 'alliance', 'allies', 'allow', 'allowed', 'alloy', 'allsburg', 'ally', 'almanac', 'almost', 'alone', 'along', 'alpert', 'alpha', 'alphabet', 'alphabetical', 'alphabetically', 'also', 'altered', 'alternate', 'alternative', 'alternator', 'alveoli', 'alvin', 'always', 'alyssa', 'am', 'amaretto', 'amateur', 'amazing', 'amazon', 'amazonis', 'amazons', 'ambassador', 'ambassadorial', 'amelia', 'amen', 'amended', 'amendements', 'amendment', 'america', 'american', 'americans', 'americas', 'amezaiku', 'amherst', 'amicable', 'amish', 'among', 'amount', 'amphibians', 'amsterdam', 'amtrak', 'an', 'analysis', 'analyst', 'ancestral', 'ancient', 'ancients', 'and', 'anderson', 'andie', 'andorra', 'andrea', 'andress', 'andrew', 'andrews', 'andy', 'anesthetic', 'aneurysm', 'angel', 'angela', 'angeles', 'angelica', 'angels', 'angelus', 'angles', 'anglican', 'anglicans', 'animal', 'animals', 'animated', 'anita', 'anka', 'ankle', 'anna', 'anne', 'annie', 'anniversary', 'annotated', 'announce', 'announced', 'annual', 'anopheles', 'anorexia', 'another', 'answers', 'antarctica', 'ante', 'anteater', 'anthem', 'anthony', 'anti', 'antichrist', 'antidisestablishmentarianism', 'antigua', 'antilles', 'antonia', 'antonio', 'ants', 'anus', 'any', 'anybody', 'anymore', 'anyone', 'anything', 'anzus', 'aol', 'aortic', 'apache', 'apart', 'apartheid', 'apartment', 'apartments', 'apocalypse', 'apollo', 'apostle', 'appalachian', 'apparel', 'appear', 'appearance', 'appearances', 'appeared', 'appears', 'appendix', 'apple', 'apples', 'application', 'applied', 'appoint', 'appointed', 'appointing', 'appointments', 'approaches', 'approaching', 'appropriate', 'appropriately', 'appropriates', 'approval', 'approximate', 'approximately', 'apricot', 'april', 'apso', 'aquatic', 'arab', 'arabia', 'arabian', 'arabic', 'arcadia', 'arcane', 'arch', 'archenemy', 'archer', 'archery', 'arches', 'archie', 'archimedes', 'architect', 'architecture', 'archy', 'arctic', 'are', 'area', 'areas', 'argentina', 'argentine', 'argon', 'argonauts', 'aristotle', 'ark', 'arkansas', 'arles', 'armed', 'armor', 'arms', 'armstrong', 'army', 'arnold', 'arometherapy', 'around', 'aroused', 'arrested', 'arriving', 'arrow', 'arsenal', 'arson', 'art', 'artemis', 'arthur', 'article', 'articles', 'artificial', 'artist', 'artists', 'arts', 'as', 'ash', 'ashen', 'asia', 'asian', 'asiento', 'ask', 'asked', 'asleep', 'aspartame', 'assassin', 'assassinate', 'assassinated', 'assassination', 'assassinations', 'assembly', 'assent', 'assign', 'assigned', 'assisi', 'associated', 'associates', 'association', 'associaton', 'assume', 'astaire', 'asthma', 'astor', 'astronaut', 'astronauts', 'astronomer', 'astronomical', 'astroturf', 'at', 'atari', 'athens', 'athlete', 'athletes', 'athletic', 'atlantic', 'atlas', 'atm', 'atmosphere', 'atom', 'attack', 'attacked', 'attacks', 'attempt', 'attempts', 'attend', 'attendance', 'attendant', 'attends', 'attic', 'attire', 'attorney', 'attorneys', 'attract', 'attraction', 'attractions', 'attracts', 'auberge', 'audience', 'audio', 'audrey', 'auerstadt', 'august', 'auh2o', 'aunt', 'aurora', 'austerlitz', 'australia', 'australian', 'austria', 'author', 'authorities', 'authors', 'auto', 'autobiography', 'autoimmune', 'automation', 'automobile', 'automobiles', 'autry', 'available', 'avalanche', 'avenue', 'average', 'avery', 'aviator', 'aviv', 'avoid', 'awakes', 'award', 'awarded', 'awards', 'away', 'ayer', 'aykroyd', 'aztec', 'aztecs', 'b12', 'babar', 'babe', 'baby', 'bacall', 'bachelor', 'back', 'backgammon', 'background', 'backstreet', 'backup', 'bacon', 'bad', 'badaling', 'badge', 'badgers', 'badly', 'badu', 'baffin', 'bagdad', 'bagels', 'baggins', 'baghdad', 'bailey', 'bails', 'baja', 'baker', 'bakery', 'baking', 'balance', 'bald', 'ball', 'ballad', 'ballcock', 'ballet', 'balloon', 'ballots', 'balls', 'baltic', 'banana', 'band', 'bandit', 'bandleader', 'bands', 'bang', 'bank', 'banking', 'bankruptcy', 'banks', 'banned', 'banner', 'bar', 'barbados', 'barbara', 'barbary', 'barbeque', 'barbershop', 'barbie', 'bare', 'baretta', 'barkis', 'barney', 'barnstorming', 'barnum', 'barr', 'barred', 'barrett', 'barrier', 'barroom', 'barrymore', 'bars', 'barton', 'baryshnikov', 'base', 'baseball', 'based', 'baseemen', 'baseman', 'basic', 'basidiomycetes', 'basilica', 'basketball', 'baskin', 'basophobic', 'basque', 'bastille', 'bat', 'batcycle', 'bateau', 'bathing', 'bathroom', 'batman', 'batmobile', 'batteries', 'battery', 'battle', 'battlefield', 'battles', 'battleship', 'bavaria', 'bavarian', 'bay', 'bayer', 'be', 'beach', 'beaches', 'beak', 'beanie', 'beans', 'beany', 'bear', 'beard', 'bearer', 'bears', 'beasley', 'beast', 'beat', 'beata', 'beating', 'beatles', 'beatrix', 'beats', 'beautiful', 'beauty', 'beaver', 'bebrenia', 'became', 'because', 'becket', 'become', 'becomes', 'becoming', 'bed', 'bedroom', 'bee', 'beef', 'been', 'beer', 'beers', 'bees', 'beethoven', 'beetle', 'befell', 'before', 'began', 'begin', 'beginning', 'begins', 'begun', 'behavior', 'behind', 'beholder', 'being', 'belgium', 'belgrade', 'believe', 'believed', 'belize', 'bell', 'bella', 'belle', 'bells', 'bellworts', 'belly', 'belmont', 'belong', 'belonged', 'below', 'belt', 'belushi', 'ben', 'bend', 'bendix', 'bends', 'beneath', 'benedict', 'benefits', 'benelux', 'benjamin', 'benny', 'benson', 'bentos', 'bergen', 'bergeres', 'bergman', 'bering', 'berlin', 'bermuda', 'bernadette', 'bernard', 'bernardo', 'bernini', 'bernoulli', 'bernstein', 'berry', 'bert', 'berth', 'beryl', 'beside', 'besides', 'bess', 'best', 'bestowed', 'bestselling', 'bet', 'betrayed', 'betsy', 'bette', 'better', 'betting', 'betty', 'between', 'beverly', 'bible', 'bibles', 'biblical', 'bibliographies', 'bibliography', 'bic', 'biceps', 'bicornate', 'bid', 'big', 'bigfoot', 'bigger', 'biggest', 'bikini', 'bilbo', 'bill', 'billiards', 'billie', 'billingsgate', 'billion', 'billionth', 'bills', 'billy', 'biloxi', 'bingo', 'binomial', 'biochemists', 'biographer', 'biography', 'biologist', 'biorhythm', 'bios', 'bird', 'birds', 'biritch', 'birth', 'birthdate', 'birthday', 'birthplace', 'births', 'birthstone', 'biscay', 'biscuits', 'bishop', 'bisset', 'bite', 'bith', 'bitmap', 'biz', 'bjorn', 'black', 'blackhawk', 'blackhawks', 'blackjack', 'blacks', 'bladerunner', 'blair', 'blaise', 'blanc', 'blank', 'blasted', 'blatty', 'bleach', 'blend', 'bless', 'blew', 'bligh', 'blind', 'blinking', 'blob', 'blobbo', 'block', 'blockade', 'blonde', 'blondes', 'blood', 'bloodhound', 'bloom', 'blow', 'blows', 'blue', 'blues', 'blunder', 'blush', 'blythe', 'bmw', 'board', 'boarders', 'boards', 'boardwalk', 'boasts', 'boat', 'boats', 'bob', 'bobby', 'boc', 'bocci', 'bodies', 'body', 'boeing', 'bog', 'bogart', 'bogs', 'bohannon', 'boheme', 'boil', 'boiled', 'boilermaker', 'boleyn', 'bolivia', 'bolt', 'bomb', 'bombay', 'bombing', 'bombshell', 'bond', 'bonds', 'bone', 'bones', 'bonnie', 'boob', 'book', 'books', 'bookshop', 'boom', 'boomer', 'boop', 'boost', 'boosters', 'booth', 'borden', 'border', 'bordering', 'borders', 'borg', 'boris', 'born', 'borrow', 'boru', 'boss', 'boston', 'botanical', 'both', 'bottle', 'bottled', 'bottles', 'bottom', 'bought', 'boulevard', 'bounded', 'bounty', 'bourbon', 'bourdon', 'bourgeoisie', 'bouvier', 'bovine', 'bow', 'bowl', 'bowler', 'bowling', 'bowls', 'box', 'boxcars', 'boxer', 'boxes', 'boxing', 'boy', 'boycott', 'boycotted', 'boyfriend', 'boys', 'bph', 'bra', 'bradbury', 'bradley', 'braille', 'brain', 'brake', 'brakes', 'brand', 'brandenburg', 'brandt', 'bras', 'brass', 'braun', 'brave', 'brazil', 'brazilian', 'bread', 'break', 'breakfast', 'breaking', 'breath', 'breathe', 'breed', 'breeding', 'breeds', 'bremer', 'brenner', 'breony', 'brethren', 'brew', 'breweries', 'brian', 'bricks', 'bridge', 'bridges', 'brief', 'brigham', 'brightest', 'brilliant', 'brillo', 'brimstone', 'bring', 'bristol', 'britain', 'british', 'britney', 'broadcast', 'broadcasting', 'broadway', 'brodie', 'broke', 'broken', 'brontosauruses', 'bronze', 'brooklyn', 'brooks', 'bros', 'brothel', 'brother', 'brothers', 'brought', 'brown', 'browns', 'browser', 'bruce', 'bruegel', 'brunei', 'brunettes', 'brunswick', 'brush', 'bryant', 'btu', 'bubble', 'bubblegum', 'bucher', 'bucks', 'bud', 'buda', 'budapest', 'buddy', 'buds', 'budweis', 'budweiser', 'buffalo', 'buffett', 'bug', 'bugs', 'build', 'builder', 'builders', 'building', 'buildings', 'builds', 'built', 'bulbs', 'bulgaricus', 'bulge', 'bull', 'bulletin', 'bullets', 'bullfighting', 'bullheads', 'bullock', 'bulls', 'bullseye', 'bullwinkle', 'bums', 'bunch', 'bunker', 'bunyan', 'bureau', 'bureaucracy', 'burglar', 'burglary', 'burial', 'buried', 'burkina', 'burma', 'burn', 'burned', 'burnford', 'burns', 'burnt', 'burr', 'burroughs', 'burst', 'bus', 'buses', 'bush', 'busiest', 'business', 'businesses', 'businessman', 'bust', 'but', 'butch', 'butcher', 'butler', 'butt', 'butter', 'butterfield', 'button', 'buttons', 'buxom', 'buy', 'buys', 'buzz', 'by', 'bytes', 'byzantine', 'cabarnet', 'caber', 'cabinet', 'cabinetmaker', 'cabinets', 'cable', 'cables', 'caboose', 'cache', 'cactus', 'cad', 'cadmium', 'caesar', 'caffeinated', 'caffeine', 'cage', 'caine', 'cairo', 'cake', 'calcium', 'calculate', 'calculator', 'calcutta', 'calder', 'caldera', 'caldwell', 'calendar', 'calgary', 'calhoun', 'caliente', 'california', 'call', 'called', 'calleda', 'callosum', 'calls', 'calluses', 'calories', 'calvin', 'calypso', 'camaro', 'cambodia', 'camcorders', 'camden', 'came', 'camel', 'camels', 'camera', 'cameras', 'camp', 'campaign', 'campbell', 'camps', 'camptown', 'can', 'canada', 'canadian', 'canadians', 'canal', 'canals', 'canary', 'cancer', 'candice', 'candle', 'candlemas', 'candy', 'cane', 'canfield', 'canine', 'canker', 'cannabis', 'canning', 'cannon', 'canon', 'canonize', 'cans', 'canyon', 'cap', 'capita', 'capital', 'capitalism', 'capitalizes', 'capone', 'capp', 'capricorns', 'caps', 'captain', 'captained', 'captive', 'capture', 'captured', 'car', 'carbon', 'carcinogens', 'card', 'cardinal', 'cards', 'care', 'career', 'carefreeness', 'carelessness', 'caribbean', 'carl', 'carmania', 'carol', 'carolina', 'carolingian', 'caroll', 'carpal', 'carpenter', 'carpet', 'carre', 'carried', 'carrier', 'carriers', 'carries', 'carroll', 'carry', 'carrying', 'cars', 'carson', 'carta', 'carter', 'cartesian', 'cartier', 'cartoon', 'cartoondom', 'cartoonist', 'cartoons', 'casablanca', 'cascade', 'case', 'cases', 'casey', 'cash', 'casinos', 'casper', 'cassidey', 'castellated', 'casting', 'castle', 'castles', 'castor', 'castro', 'cat', 'catalogues', 'catch', 'categorized', 'category', 'cathedral', 'catherine', 'catholic', 'cats', 'catsup', 'caucasian', 'caught', 'caul', 'caulfield', 'cauliflower', 'cause', 'caused', 'causes', 'causing', 'cavaliers', 'cave', 'cawdor', 'cayman', 'cbs', 'cc', 'cct', 'cd', 'cds', 'ce', 'cecil', 'cecum', 'celebrated', 'celebrations', 'celebrities', 'celebrity', 'celestial', 'celestials', 'cells', 'cellulose', 'celtic', 'cement', 'cemetery', 'cent', 'center', 'centers', 'centigrade', 'central', 'cents', 'centurion', 'century', 'cereal', 'ceremony', 'certain', 'certified', 'cervantes', 'chablis', 'chain', 'chair', 'chairbound', 'chairman', 'chairs', 'challenge', 'challenged', 'challengers', 'chamber', 'champion', 'champions', 'championship', 'chance', 'chancellor', 'chancery', 'chances', 'chandler', 'change', 'changed', 'changes', 'channel', 'chapel', 'chaplin', 'chapman', 'chappellet', 'chapter', 'character', 'characteristics', 'characters', 'characterstics', 'charcoal', 'charcter', 'charge', 'charles', 'charley', 'charlie', 'chartered', 'check', 'checkmate', 'cheeks', 'cheerios', 'cheery', 'cheese', 'cheetahs', 'chef', 'chefs', 'chemical', 'chemicals', 'chemiosmotic', 'chernobyl', 'cherokee', 'cherry', 'cherubs', 'chesapeake', 'chess', 'chessboard', 'chest', 'chevrolet', 'chewing', 'chiang', 'chicago', 'chick', 'chickadee', 'chicken', 'chickenpoxs', 'chickens', 'chicks', 'chief', 'chiefly', 'chiefs', 'chiffons', 'chihuahuas', 'child', 'childbirth', 'childhood', 'children', 'chile', 'chilean', 'chilly', 'chin', 'china', 'chinese', 'chino', 'chip', 'chiricahua', 'chiropodist', 'chivington', 'chloroplasts', 'chocolate', 'chocolates', 'choice', 'cholera', 'chomper', 'choo', 'choose', 'chop', 'chops', 'chosen', 'chow', 'chris', 'christ', 'christi', 'christian', 'christina', 'christine', 'christmas', 'christopher', 'chromatology', 'chromosome', 'chronic', 'chronicled', 'chronicles', 'chuck', 'church', 'churches', 'churchill', 'cid', 'cigar', 'cigarette', 'cincinnati', 'cinzano', 'circle', 'circulation', 'circulatory', 'circumcision', 'circumnavigator', 'circumorbital', 'circus', 'cisalpine', 'cisco', 'cities', 'citizen', 'citizens', 'city', 'civil', 'civilization', 'claim', 'claimed', 'claiming', 'claims', 'clara', 'clarabell', 'clark', 'class', 'classic', 'classical', 'classification', 'classified', 'claus', 'clause', 'claws', 'clay', 'clean', 'cleaner', 'clear', 'clearer', 'cleaveland', 'cleopatra', 'cleveland', 'cliff', 'climate', 'climb', 'climbed', 'climbing', 'climbs', 'clinic', 'clinton', 'clip', 'clitoridectomy', 'clitoris', 'clock', 'clockwise', 'clone', 'close', 'closed', 'closest', 'closing', 'clot', 'cloth', 'clothes', 'clothing', 'cloud', 'clouds', 'clown', 'club', 'clubs', 'clue', 'clyde', 'cnn', 'co', 'coach', 'coaching', 'coal', 'coast', 'coastal', 'coastline', 'coastlines', 'cob', 'cobain', 'cobb', 'cobol', 'coca', 'cocaine', 'cockatoo', 'cockroaches', 'cocktail', 'coconut', 'coddle', 'code', 'codes', 'cody', 'coefficients', 'coffee', 'cognac', 'cohan', 'coho', 'coin', 'coined', 'cola', 'cold', 'cole', 'coleman', 'colin', 'collabrative', 'collapsed', 'collect', 'collectible', 'collection', 'collective', 'collector', 'college', 'colleges', 'collided', 'collier', 'collins', 'cologne', 'colombia', 'colonel', 'colonial', 'colonies', 'colonists', 'colony', 'color', 'colorado', 'colored', 'colorful', 'colors', 'colt', 'columbia', 'columbus', 'com', 'comaneci', 'combat', 'combatting', 'combinations', 'combined', 'combustion', 'come', 'comedian', 'comedienne', 'comediennes', 'comedy', 'comes', 'comfortable', 'comic', 'comics', 'coming', 'command', 'commandant', 'commanded', 'commander', 'commanders', 'commandments', 'commentary', 'commerce', 'commercial', 'commercially', 'commercials', 'commission', 'commissioner', 'commit', 'committee', 'commodity', 'common', 'commonly', 'commonplace', 'commonwealth', 'commune', 'communications', 'communist', 'community', 'companies', 'companion', 'company', 'compaq', 'compare', 'compared', 'comparisons', 'compass', 'compatible', 'compete', 'competition', 'competitor', 'compile', 'compiled', 'complemented', 'complete', 'completed', 'complex', 'components', 'composer', 'composition', 'compound', 'compounds', 'comprised', 'comprises', 'computer', 'computers', 'conceived', 'conceiving', 'concentration', 'conception', 'concerning', 'concert', 'concerts', 'concoct', 'concorde', 'concrete', 'condemn', 'condensed', 'condiment', 'condition', 'conditioner', 'conditioning', 'conditions', 'condoms', 'condor', 'conductor', 'cone', 'coney', 'confederate', 'conference', 'confession', 'conflicts', 'conformist', 'confucius', 'congo', 'congress', 'congressional', 'congressman', 'conifer', 'conjugations', 'conjured', 'connected', 'connecticut', 'connection', 'conquered', 'conrad', 'conscious', 'consciousness', 'consecutive', 'consecutively', 'conservancy', 'conservation', 'conservationist', 'consider', 'considered', 'considering', 'consist', 'consisting', 'consortium', 'constantly', 'constellation', 'constipation', 'constitute', 'constitutes', 'constitution', 'constructed', 'construction', 'consumption', 'contact', 'contagious', 'contain', 'contained', 'contains', 'contemplating', 'contemporary', 'contemptible', 'contents', 'conterminous', 'contest', 'contestant', 'contibution', 'continent', 'continental', 'continents', 'continuing', 'contra', 'contraceptives', 'contract', 'contribute', 'contributed', 'contributions', 'control', 'controls', 'converge', 'conversion', 'convert', 'converting', 'convicted', 'cook', 'cookbook', 'cookers', 'cookie', 'cookies', 'cooking', 'cool', 'cooler', 'cooling', 'cooper', 'coordinate', 'coot', 'cop', 'copacabana', 'copier', 'copies', 'copper', 'coppertop', 'coprolite', 'copy', 'copyright', 'copyrighted', 'coral', 'corbett', 'corgi', 'cork', 'corn', 'cornell', 'corner', 'corners', 'coronado', 'corporal', 'corporate', 'corporation', 'corps', 'corpus', 'correct', 'correctly', 'correspondent', 'corresponding', 'corridors', 'corsica', 'cortez', 'corvette', 'cos', 'cosmology', 'cost', 'costa', 'costliest', 'costner', 'costs', 'costume', 'costumed', 'cotrubas', 'cotton', 'cough', 'could', 'coulee', 'council', 'count', 'counterclockwise', 'counterpart', 'counties', 'countries', 'country', 'county', 'coup', 'couple', 'coupled', 'courage', 'courier', 'course', 'court', 'cousin', 'cousins', 'cousteau', 'cover', 'covered', 'covers', 'covrefeu', 'cow', 'cowardly', 'cowboy', 'cowboys', 'cowrote', 'cows', 'coyote', 'cozumel', 'cpr', 'crabgrass', 'crabs', 'crack', 'cracker', 'crackle', 'craft', 'craig', 'cranberry', 'cranes', 'craps', 'crash', 'crave', 'crayola', 'crayon', 'crazy', 'cream', 'creams', 'create', 'created', 'creating', 'creation', 'creative', 'creator', 'creature', 'creatures', 'credit', 'credited', 'credits', 'creek', 'creeps', 'cremat', 'crew', 'crewel', 'crib', 'cribbage', 'cricket', 'cricketer', 'crime', 'crimean', 'criminal', 'criminologist', 'crisscrosses', 'critical', 'criticism', 'criticizing', 'crocodile', 'crokinole', 'cromwell', 'crooner', 'crop', 'crops', 'cross', 'crossed', 'crosstalk', 'crossword', 'crouching', 'crowd', 'crown', 'crowned', 'crows', 'crucifixion', 'cruel', 'cruise', 'cruiser', 'crusaders', 'crust', 'cry', 'crypt', 'crystals', 'ct', 'ctbt', 'cuba', 'cube', 'cubic', 'cuckoo', 'cuckquean', 'cucumber', 'cullion', 'cullions', 'cult', 'cultivated', 'cultural', 'culture', 'cumin', 'cunnilingus', 'cup', 'cupboard', 'cured', 'curies', 'curious', 'curl', 'currency', 'current', 'currently', 'currents', 'cushman', 'custody', 'cut', 'cwt', 'cyberspace', 'cyclist', 'cyclone', 'cystic', 'czar', 'czech', 'da', 'daily', 'dairy', 'daisy', 'dakota', 'dale', 'dali', 'dam', 'damage', 'dame', 'daminozide', 'damocles', 'dams', 'dan', 'dana', 'danced', 'dancer', 'dancing', 'dandy', 'dane', 'dangles', 'dangling', 'daniel', 'dannon', 'danube', 'danza', 'dare', 'daring', 'darius', 'darkness', 'darla', 'darn', 'darning', 'dartboard', 'darth', 'dartmouth', 'darts', 'darwin', 'data', 'database', 'date', 'dates', 'dating', 'daughter', 'daughters', 'david', 'davies', 'davis', 'daws', 'dawson', 'daxam', 'day', 'daycare', 'daylight', 'days', 'dbf', 'dc', 'de', 'deacon', 'dead', 'deadliest', 'deadly', 'deadrise', 'deadwood', 'deal', 'dealer', 'dealing', 'deals', 'dealt', 'dear', 'death', 'debate', 'debbie', 'debt', 'debts', 'debut', 'decade', 'decathlon', 'december', 'decided', 'decision', 'deck', 'declaration', 'declare', 'declared', 'decompose', 'deconstructionism', 'decorations', 'decrees', 'deep', 'deepest', 'deer', 'deere', 'deet', 'def', 'defeat', 'defects', 'defense', 'defensive', 'define', 'defined', 'definition', 'defreeze', 'defunct', 'degas', 'degree', 'degrees', 'delaware', 'delegate', 'delegation', 'delhi', 'delicacy', 'delicate', 'delilah', 'delivered', 'deltiologist', 'dem', 'democratic', 'dena', 'denied', 'denmark', 'dennis', 'dennison', 'denote', 'dental', 'dentist', 'denver', 'deodorant', 'department', 'departments', 'depended', 'depicted', 'deployed', 'deposit', 'depreciates', 'depression', 'deranged', 'derby', 'derived', 'derogatory', 'desc', 'descendents', 'describe', 'describes', 'describing', 'desert', 'deserts', 'design', 'designate', 'designed', 'designer', 'desire', 'desk', 'desmond', 'despondent', 'destination', 'destroyed', 'destroyers', 'detailed', 'details', 'detect', 'detective', 'detectors', 'detergent', 'determine', 'determined', 'determines', 'determinism', 'detroit', 'develop', 'developed', 'developing', 'development', 'developmental', 'develops', 'deveopment', 'device', 'devices', 'devil', 'devo', 'devoured', 'dew', 'dextropropoxyphen', 'diabetes', 'diagnose', 'diagram', 'dial', 'dialect', 'dialing', 'dialog', 'dialogue', 'diameter', 'diamond', 'diamonds', 'diana', 'diane', 'diary', 'dice', 'dick', 'dicken', 'dickens', 'dictator', 'did', 'didn', 'die', 'died', 'diego', 'diet', 'difference', 'differences', 'different', 'dig', 'digital', 'digitalis', 'digits', 'dikembe', 'dimaggio', 'dime', 'dimension', 'dimensions', 'diminutive', 'dimly', 'dined', 'dingoes', 'dinner', 'dinosaur', 'dioxide', 'dip', 'diphallic', 'diplomacy', 'diplomatic', 'dipper', 'dipsomaniac', 'direct', 'directed', 'direction', 'directions', 'directly', 'director', 'directorial', 'directors', 'dirkson', 'dirty', 'disabilities', 'disaccharide', 'disappear', 'disappeared', 'disaster', 'disc', 'discontinued', 'discover', 'discovered', 'disease', 'diseases', 'dish', 'disk', 'diskettes', 'disks', 'dismed', 'dismissed', 'disney', 'disneyland', 'dispatched', 'display', 'displays', 'disposable', 'dissented', 'dissolved', 'dist', 'distance', 'distilling', 'distinct', 'distinction', 'distinctive', 'distinguish', 'distinguishing', 'distribute', 'distributions', 'district', 'districts', 'dita', 'diver', 'divers', 'divide', 'divided', 'divides', 'diving', 'division', 'divorce', 'dixville', 'dna', 'do', 'docklands', 'doctor', 'doctorate', 'doctors', 'document', 'doegs', 'does', 'doesn', 'dog', 'dogs', 'dogsledding', 'dogtown', 'doing', 'doll', 'dollar', 'dollars', 'dolly', 'dolomites', 'dolphin', 'dolphins', 'domestic', 'domestica', 'domesticated', 'domestication', 'dominica', 'dominoes', 'dominos', 'don', 'donald', 'donate', 'donated', 'donating', 'donation', 'dondi', 'done', 'donor', 'doo', 'dooby', 'doodle', 'doody', 'doodyville', 'doomed', 'doonesbury', 'door', 'doorstep', 'doria', 'doris', 'dorsets', 'dose', 'dostoevski', 'dot', 'dots', 'double', 'doubleheader', 'doubles', 'doublespeak', 'doughboys', 'doughnut', 'douglas', 'dow', 'down', 'downhill', 'download', 'downstairs', 'doxat', 'doyle', 'dozen', 'dr', 'dracula', 'draft', 'drafted', 'drag', 'dragged', 'dragonflies', 'drain', 'drake', 'dramatized', 'draw', 'draws', 'dream', 'dreamed', 'dreams', 'dresden', 'dressed', 'drew', 'drill', 'drilling', 'drills', 'drink', 'drinker', 'drinking', 'drinks', 'dripper', 'drive', 'driven', 'drivers', 'driving', 'dropped', 'dropping', 'droppings', 'drops', 'drought', 'drug', 'drugs', 'drunk', 'drunken', 'dry', 'dsl', 'dt', 'dtmf', 'dual', 'duane', 'dubai', 'dubbed', 'dubliners', 'ducats', 'duck', 'duckling', 'dudley', 'due', 'duel', 'duke', 'dumas', 'dumb', 'dumbest', 'dumbo', 'dummy', 'dumont', 'dumplings', 'dumpty', 'dunes', 'dungri', 'dunk', 'durante', 'during', 'dust', 'dustbowl', 'dutch', 'duvalier', 'dwarf', 'dwarfs', 'dwellers', 'dwight', 'dyck', 'dye', 'dying', 'dyke', 'dylan', 'dynasty', 'dysostosis', 'each', 'eagle', 'eagles', 'ear', 'earhart', 'early', 'earn', 'earned', 'earns', 'ears', 'earth', 'earthquake', 'earthquakes', 'earthworms', 'easiest', 'easily', 'east', 'easter', 'eastern', 'eastward', 'easy', 'eat', 'eaten', 'eating', 'eats', 'ebb', 'echidna', 'eckley', 'eclairs', 'ecological', 'econoline', 'economic', 'economist', 'economists', 'economy', 'eczema', 'ed', 'edberg', 'edentulous', 'edessa', 'edgar', 'edge', 'edinburgh', 'edison', 'edith', 'edition', 'editor', 'edmonton', 'edmund', 'edo', 'eduard', 'education', 'educational', 'edward', 'edwin', 'eels', 'eenty', 'effect', 'effective', 'effects', 'efficiency', 'efficient', 'egg', 'eggs', 'egypt', 'egyptians', 'eh', 'eidologist', 'eiffel', 'eight', 'eighth', 'einstein', 'eisenhower', 'ejaculate', 'ejaculation', 'ekg', 'el', 'eldercare', 'elders', 'elect', 'elected', 'election', 'elections', 'electoral', 'electric', 'electrical', 'electricity', 'electronic', 'electronics', 'element', 'elements', 'elephant', 'elephants', 'elevation', 'elevators', 'eleven', 'eli', 'elicit', 'eligible', 'eliminates', 'eliot', 'elizabeth', 'elizabethian', 'ella', 'ellipse', 'elm', 'elongated', 'elroy', 'else', 'elvis', 'elysium', 'em', 'email', 'embassy', 'embedded', 'emblazoned', 'emblem', 'embracing', 'emergency', 'emil', 'eminem', 'emma', 'emmigrate', 'emotional', 'emperor', 'emperors', 'empire', 'employ', 'employed', 'employee', 'employees', 'employment', 'empty', 'enchanted', 'enclose', 'encounters', 'encyclopedia', 'end', 'endangered', 'ended', 'endometriosis', 'ends', 'endurance', 'enemies', 'enemy', 'energy', 'enforce', 'engine', 'engineer', 'engineering', 'engines', 'england', 'english', 'englishman', 'englishmen', 'englishwoman', 'enhance', 'enigmatic', 'enlist', 'enlivens', 'enola', 'enormous', 'enough', 'enrolled', 'entail', 'entebbe', 'enter', 'entered', 'entering', 'enterprise', 'enters', 'entertainer', 'entertainment', 'enthalpy', 'entire', 'entirely', 'entries', 'environment', 'environmental', 'enzymes', 'epic', 'epicenter', 'episode', 'equal', 'equals', 'equation', 'equator', 'equilibrium', 'equinox', 'equipment', 'equity', 'equivalence', 'equivalent', 'era', 'erase', 'erected', 'erica', 'erich', 'ericson', 'eriksen', 'erle', 'ermal', 'ernest', 'ernie', 'ernst', 'erotic', 'ers', 'erupt', 'eruption', 'erupts', 'erwin', 'erykah', 'esa', 'escape', 'eskimo', 'esperanto', 'espionage', 'espn', 'esquire', 'est', 'establish', 'established', 'estate', 'estimated', 'estonia', 'estuary', 'etat', 'etc', 'etched', 'eternity', 'ethel', 'ethnic', 'ethnological', 'ethology', 'ethylene', 'etta', 'euchre', 'eunice', 'europe', 'european', 'europeans', 'evaporate', 'even', 'evening', 'event', 'events', 'ever', 'everest', 'everett', 'every', 'everybody', 'everyday', 'everything', 'evidence', 'evil', 'ewoks', 'ex', 'exact', 'exactly', 'example', 'examples', 'exceeded', 'excellence', 'except', 'exchange', 'excite', 'excluded', 'exclusive', 'exclusively', 'excuse', 'executed', 'execution', 'executioner', 'executive', 'executor', 'exercise', 'exercises', 'exhibit', 'exile', 'exist', 'existence', 'exp', 'expansion', 'expect', 'expectancy', 'expectant', 'expedition', 'expelled', 'expensive', 'experience', 'experienced', 'experiment', 'experimenting', 'expert', 'experts', 'explore', 'explorer', 'explorers', 'exploring', 'explosion', 'explosive', 'export', 'exports', 'exposed', 'exposition', 'expression', 'extant', 'extended', 'extends', 'extension', 'extensions', 'extensively', 'exterminate', 'extinct', 'extinction', 'extraordinary', 'extremes', 'exxon', 'eye', 'eyebrows', 'eyes', 'ezra', 'f25', 'faber', 'fable', 'fabric', 'face', 'faced', 'faces', 'facial', 'facility', 'facing', 'factor', 'factors', 'factory', 'facts', 'fahrenheit', 'failed', 'failure', 'fair', 'fairground', 'fairy', 'faith', 'falconers', 'falklands', 'fall', 'fallen', 'falls', 'false', 'falwell', 'fame', 'famed', 'families', 'family', 'famine', 'famous', 'famously', 'fan', 'fang', 'fans', 'fantastic', 'far', 'fare', 'faring', 'farm', 'farmer', 'farmers', 'farouk', 'farri', 'farrier', 'farrow', 'farther', 'farthest', 'farthings', 'fascinated', 'fascist', 'faso', 'fast', 'fastener', 'faster', 'fastest', 'fat', 'fatal', 'fatalism', 'fate', 'fated', 'father', 'fathom', 'fatman', 'fats', 'faults', 'favorite', 'favoured', 'fawaz', 'fax', 'fbi', 'fcc', 'fdr', 'fe', 'fear', 'fears', 'feat', 'feather', 'feathered', 'feature', 'featured', 'features', 'february', 'federal', 'feed', 'feeding', 'feeling', 'feet', 'fein', 'felicity', 'fell', 'fellatio', 'fellow', 'felt', 'female', 'feminine', 'feminist', 'fergie', 'fermont', 'ferret', 'ferry', 'fertile', 'festival', 'feud', 'feudal', 'fever', 'feynman', 'fi', 'fiber', 'fibrosis', 'fickle', 'fiction', 'fictional', 'ficus', 'fiddlers', 'fidelis', 'fiedler', 'field', 'fields', 'fiesta', 'fifth', 'fig', 'fight', 'fighting', 'figs', 'figure', 'figures', 'fiji', 'file', 'filenes', 'files', 'filling', 'film', 'filmmakers', 'films', 'filter', 'filthiest', 'final', 'finally', 'financial', 'find', 'finds', 'fine', 'fined', 'finger', 'fingernails', 'fingers', 'fingertips', 'finish', 'finland', 'finn', 'finnish', 'fire', 'fired', 'firehole', 'firemen', 'fireplace', 'fireplug', 'fires', 'firestorm', 'firewall', 'firm', 'first', 'fischer', 'fish', 'fishing', 'fishmarket', 'fit', 'fitzgerald', 'five', 'fivepin', 'fix', 'fixed', 'flab', 'flag', 'flags', 'flakes', 'flame', 'flash', 'flat', 'flatfish', 'flavor', 'flavors', 'flea', 'fleming', 'fletcher', 'flew', 'flier', 'flies', 'flight', 'flightless', 'flights', 'flintknapping', 'flintstones', 'float', 'floating', 'flog', 'flogged', 'flood', 'floods', 'floor', 'floors', 'flora', 'florence', 'florida', 'flourish', 'flow', 'flower', 'flowers', 'flowing', 'flows', 'floyd', 'flu', 'fluorine', 'flush', 'fly', 'flyer', 'flying', 'flytrap', 'fodor', 'fogs', 'folic', 'folies', 'folk', 'folklore', 'follow', 'followed', 'following', 'fondness', 'fontaine', 'fontanne', 'food', 'foods', 'fool', 'foot', 'football', 'footballs', 'footed', 'footwear', 'for', 'force', 'forced', 'forces', 'ford', 'fordham', 'foreclosure', 'forehand', 'forehead', 'foreign', 'foreigner', 'foreman', 'forerunner', 'forest', 'forests', 'forever', 'foreword', 'forfeited', 'forged', 'form', 'format', 'formation', 'formed', 'former', 'forms', 'formula', 'forsyth', 'fort', 'forties', 'fortifications', 'fortran', 'fortune', 'forward', 'fossilizes', 'fossils', 'foster', 'fought', 'foul', 'found', 'foundation', 'founded', 'founder', 'founders', 'founding', 'fountain', 'four', 'fourteenth', 'fourth', 'fowl', 'fox', 'fractal', 'fraction', 'frames', 'france', 'francis', 'francisco', 'frank', 'frankenstein', 'frankfurt', 'frankie', 'franklin', 'franz', 'fraudulent', 'fray', 'fraze', 'freckles', 'fred', 'freddie', 'freddy', 'frederick', 'free', 'freed', 'freedy', 'freeman', 'freeway', 'freezing', 'freidreich', 'freleng', 'french', 'frenchman', 'frequency', 'frequent', 'fresh', 'freshen', 'freud', 'frickett', 'friction', 'friend', 'friendliness', 'friendly', 'friends', 'fries', 'fringe', 'frito', 'friz', 'frobisher', 'frog', 'frogs', 'from', 'frommer', 'front', 'frontier', 'frosted', 'frozen', 'fruit', 'fruits', 'frustrated', 'fu', 'fubu', 'fuel', 'full', 'fulton', 'fun', 'function', 'fund', 'funded', 'funeral', 'fungal', 'funk', 'funky', 'funnel', 'funny', 'fur', 'furlongs', 'furth', 'further', 'fury', 'fusion', 'future', 'g2', 'g7', 'gabel', 'gaelic', 'gain', 'gained', 'gaja', 'galapagos', 'galaxy', 'gallery', 'galliano', 'gallon', 'gallons', 'galloping', 'gama', 'gamble', 'gambler', 'gambling', 'game', 'games', 'gametophytic', 'gaming', 'gandhi', 'gandy', 'gang', 'gangland', 'gangster', 'gangsters', 'garcia', 'garden', 'gardner', 'garfield', 'garland', 'garmat', 'garment', 'garrett', 'garry', 'garth', 'garvey', 'gas', 'gasoline', 'gate', 'gates', 'gateway', 'gathering', 'gatsby', 'gaulle', 'gave', 'gay', 'gaza', 'ge', 'geckos', 'geese', 'gehrig', 'gemini', 'gemstone', 'gender', 'gene', 'general', 'generals', 'generation', 'generator', 'genesis', 'genetic', 'genetics', 'genie', 'genius', 'genome', 'geographic', 'geographical', 'geological', 'george', 'georgetown', 'georgia', 'geoscientist', 'gerald', 'german', 'germanic', 'germany', 'germs', 'gestapo', 'gestation', 'gesture', 'get', 'getting', 'gettysburg', 'ghana', 'ghost', 'giant', 'giants', 'gibson', 'gifford', 'gift', 'gilbert', 'gillette', 'gills', 'gimli', 'gin', 'gina', 'giraffe', 'girl', 'girlfriend', 'girls', 'gitchee', 'give', 'given', 'gives', 'giving', 'giza', 'glacier', 'gladiator', 'glamis', 'glamorous', 'gland', 'glasgow', 'glass', 'gleason', 'glen', 'gliding', 'glitters', 'global', 'globe', 'glory', 'glove', 'glowsticks', 'gm', 'go', 'goal', 'goalie', 'goals', 'goat', 'god', 'goddess', 'godfather', 'godiva', 'gods', 'goering', 'goes', 'gogh', 'going', 'gold', 'golden', 'goldenseal', 'goldfinger', 'goldfish', 'goldfus', 'goldie', 'goldilocks', 'golf', 'golfer', 'golfers', 'golfing', 'gompers', 'gone', 'good', 'goodall', 'goodness', 'goosebumps', 'gopher', 'gorbachev', 'gordon', 'gore', 'gosfield', 'got', 'gotham', 'gothic', 'goulash', 'gould', 'gourd', 'gourmet', 'governed', 'government', 'governmental', 'governor', 'gown', 'gr', 'grab', 'grabs', 'grace', 'graced', 'graces', 'grader', 'graders', 'grades', 'gradual', 'graduate', 'graffiti', 'gram', 'grammys', 'gran', 'granary', 'grand', 'grandeur', 'grandfather', 'grandma', 'grange', 'granite', 'grant', 'granted', 'grape', 'grapes', 'graphic', 'grass', 'graveyard', 'gravity', 'gray', 'great', 'greatest', 'greece', 'greek', 'green', 'greenfield', 'greenland', 'greenstreet', 'greenwich', 'greeting', 'gregorian', 'grenada', 'gretel', 'gretzky', 'grilled', 'grimace', 'grimes', 'grinch', 'gringo', 'grocer', 'grooves', 'gross', 'ground', 'groundshog', 'group', 'groups', 'grow', 'growing', 'grown', 'growth', 'guadalcanal', 'guam', 'guernsey', 'guerrilla', 'guess', 'guidance', 'guide', 'guild', 'guinea', 'guitar', 'guitarist', 'guiteau', 'gulf', 'gulliver', 'gum', 'gumee', 'gummed', 'gunboat', 'gunpowder', 'gustav', 'gusto', 'gutenberg', 'guy', 'guys', 'gymnast', 'gymnastics', 'gymnophobia', 'habeas', 'habitat', 'habits', 'haboob', 'hackers', 'had', 'haifa', 'hail', 'hair', 'hairdryer', 'hairless', 'hairs', 'hairy', 'hajo', 'half', 'hall', 'hallie', 'halloween', 'ham', 'hamblen', 'hamburger', 'hamburgers', 'hamed', 'hamill', 'hamilton', 'hamlet', 'hammer', 'hampshire', 'hand', 'handed', 'handful', 'handheld', 'handicapped', 'handicraft', 'handle', 'hands', 'handwriting', 'hang', 'hank', 'hanks', 'hanover', 'hans', 'hansel', 'happen', 'happened', 'happens', 'happy', 'hara', 'harbor', 'hard', 'hardening', 'hardest', 'hardware', 'hardy', 'harlow', 'harmful', 'harness', 'harold', 'harper', 'harriet', 'harrison', 'harry', 'harvey', 'has', 'hasidic', 'hass', 'hastings', 'hat', 'hatchet', 'hate', 'hates', 'haunt', 'haunted', 'havana', 'have', 'haven', 'haversian', 'havilland', 'having', 'havlicek', 'havoc', 'hawaii', 'hawaiian', 'hawkeye', 'hawking', 'hawkins', 'hawks', 'hawn', 'hayden', 'hayworth', 'hazel', 'hazmat', 'hdlc', 'he', 'head', 'headaches', 'headed', 'headquartered', 'headquarters', 'heads', 'healer', 'health', 'healthy', 'hear', 'hearing', 'hearings', 'hearst', 'heart', 'hearts', 'heat', 'heating', 'heaven', 'heavier', 'heaviest', 'heavily', 'heavyweight', 'hebephrenia', 'height', 'heimlich', 'heineken', 'heir', 'held', 'helen', 'helens', 'helicopter', 'heliologist', 'helium', 'hell', 'help', 'helped', 'helps', 'hematoma', 'hemingway', 'hemisphere', 'hen', 'hence', 'hendecasyllabic', 'henderson', 'hendrix', 'henry', 'hepburn', 'hepcats', 'heptagon', 'her', 'herb', 'herbert', 'herbs', 'herculoids', 'here', 'heretic', 'herm', 'hermann', 'hermit', 'hermitage', 'hermits', 'hernando', 'hero', 'heroine', 'hesse', 'heuristic', 'hibernia', 'hiccup', 'hide', 'hiding', 'hiemal', 'high', 'higher', 'highest', 'highlands', 'highschool', 'highway', 'highways', 'hijack', 'hijacked', 'hijacking', 'hike', 'hiking', 'hill', 'hillary', 'hillbillies', 'hills', 'hilton', 'him', 'himself', 'hinckley', 'hinduism', 'hirohito', 'hirsch', 'his', 'hispaniola', 'historical', 'historically', 'history', 'hit', 'hitler', 'hits', 'hitting', 'hiv', 'hive', 'hives', 'hobby', 'hockey', 'hocks', 'hoffman', 'hog', 'hohenzollerns', 'hold', 'holden', 'holds', 'hole', 'holes', 'holiday', 'holidays', 'holland', 'holly', 'hollywood', 'holmes', 'holstrum', 'holy', 'home', 'homelite', 'homeostasis', 'homer', 'homerian', 'homes', 'honda', 'honduras', 'honecker', 'honey', 'honeymooners', 'hong', 'honor', 'honorary', 'honors', 'hoo', 'hood', 'hook', 'hooked', 'hooligans', 'hooters', 'hoover', 'hope', 'horlick', 'hormone', 'hornby', 'horologist', 'horoscope', 'horrors', 'horse', 'horsemen', 'horsepower', 'horses', 'horseshoes', 'horton', 'hospital', 'host', 'hostage', 'hostages', 'hosted', 'hot', 'hotel', 'houdini', 'hound', 'hour', 'hourglass', 'hourly', 'hours', 'house', 'household', 'houseplants', 'houses', 'housewarming', 'housewife', 'houston', 'how', 'howard', 'howdy', 'hoya', 'html', 'hub', 'huckleberry', 'hudson', 'hughes', 'hugo', 'hulk', 'human', 'humanitarian', 'humans', 'humbert', 'humidity', 'hummingbird', 'humor', 'hump', 'humphrey', 'humps', 'humpty', 'hundred', 'hungarian', 'hungary', 'hungry', 'hunter', 'hunting', 'hurdle', 'hurley', 'hurricane', 'hurt', 'hurting', 'husband', 'husbands', 'hussain', 'hussein', 'hustle', 'huston', 'huxley', 'hyatt', 'hyde', 'hydroelectric', 'hydroelectricity', 'hydrogen', 'hydrosulfite', 'hyenas', 'hymn', 'hyperlink', 'hyperopia', 'hypertension', 'hypertext', 'hypnotherapy', 'ian', 'iberia', 'iberian', 'ibm', 'ice', 'iceland', 'idea', 'idealab', 'identify', 'identity', 'idiot', 'iditarod', 'idle', 'if', 'ignores', 'igor', 'iguana', 'ii', 'iii', 'ileana', 'ill', 'illegally', 'illinois', 'illustrated', 'image', 'imaginary', 'imam', 'imitations', 'immaculate', 'immigration', 'immortals', 'impact', 'impenetrable', 'imperial', 'import', 'importance', 'important', 'imported', 'importer', 'importers', 'imposed', 'impossible', 'impress', 'imprisoned', 'imprisoning', 'improve', 'improved', 'impulse', 'in', 'inaugurated', 'inauguration', 'inc', 'inch', 'inches', 'incident', 'include', 'included', 'includes', 'including', 'income', 'incompetent', 'incorporate', 'increase', 'incredible', 'incubate', 'ind', 'indelicately', 'independence', 'independent', 'india', 'indian', 'indiana', 'indianapolis', 'indians', 'indicate', 'indicator', 'indies', 'indiglo', 'indira', 'individual', 'individuals', 'indonesia', 'indoor', 'inducted', 'industrial', 'industrialized', 'industry', 'inescapable', 'infamous', 'infant', 'infatuation', 'infection', 'infectious', 'inferno', 'infinity', 'influences', 'info', 'infomatics', 'information', 'infrared', 'inga', 'ingmar', 'ingredient', 'ingredients', 'inhabit', 'inhumans', 'initial', 'initials', 'injection', 'injectors', 'injuries', 'injury', 'ink', 'inkhorn', 'inning', 'innings', 'innocent', 'inoco', 'inoperative', 'inri', 'insanity', 'insb', 'insects', 'insert', 'inside', 'insisted', 'inspector', 'inspiration', 'inspirational', 'inspired', 'install', 'instead', 'institute', 'instru', 'instructor', 'instrument', 'instruments', 'insurance', 'insured', 'intake', 'intelligence', 'intercourse', 'interesting', 'intergovernmental', 'interlace', 'interlata', 'internal', 'international', 'internet', 'internet2', 'interrupted', 'interview', 'intestine', 'intestines', 'into', 'intractable', 'intranet', 'introduce', 'introduced', 'inuit', 'inuits', 'invade', 'invaded', 'invasion', 'invent', 'invented', 'invention', 'inventions', 'inventor', 'inventors', 'investigation', 'involved', 'involves', 'ioc', 'ion', 'iowa', 'ip', 'ipanema', 'iq', 'iran', 'iraq', 'iraqi', 'iraqis', 'irate', 'ireland', 'iris', 'irish', 'irkutsk', 'irl', 'iron', 'irwin', 'is', 'isadora', 'ishmael', 'isis', 'islam', 'islamic', 'island', 'islands', 'isle', 'ismail', 'isn', 'isolationist', 'isosceles', 'isps', 'israel', 'israeli', 'issue', 'issues', 'isthmus', 'it', 'italian', 'italians', 'italy', 'itch', 'item', 'its', 'itself', 'iv', 'ivan', 'ivy', 'jack', 'jackal', 'jackass', 'jackie', 'jackson', 'jaco', 'jacqueline', 'jacques', 'jail', 'jake', 'james', 'jamiroquai', 'jan', 'jane', 'janelle', 'janet', 'janis', 'january', 'janurary', 'japan', 'japanese', 'jar', 'java', 'jaws', 'jay', 'jayne', 'jazz', 'jdr3', 'jealous', 'jealousy', 'jean', 'jeans', 'jeep', 'jeff', 'jefferson', 'jell', 'jellicle', 'jellies', 'jena', 'jenna', 'jennifer', 'jeremy', 'jericho', 'jerk', 'jerks', 'jeroboams', 'jerry', 'jersey', 'jesse', 'jessica', 'jesus', 'jets', 'jett', 'jewelry', 'jewish', 'jews', 'jfk', 'jiggy', 'jim', 'jimi', 'jimmy', 'jinnah', 'jj', 'joad', 'joan', 'job', 'jobs', 'jockey', 'jodie', 'joe', 'joel', 'jogging', 'jogis', 'john', 'johnnie', 'johnny', 'johnson', 'johnsons', 'johnston', 'join', 'joined', 'joining', 'joins', 'joint', 'joke', 'jokes', 'jolly', 'jolson', 'jonathan', 'jones', 'jong', 'joplin', 'jordan', 'joseph', 'josie', 'journal', 'journalism', 'journalist', 'journey', 'joy', 'joyce', 'jpeg', 'jpl', 'jr', 'juan', 'judaism', 'jude', 'judge', 'judged', 'judiciary', 'judith', 'judo', 'judson', 'judy', 'juice', 'juices', 'jules', 'julie', 'july', 'jump', 'june', 'jung', 'jungle', 'junk', 'jurassic', 'jury', 'just', 'justice', 'justify', 'justin', 'kafka', 'kahn', 'kai', 'kalahari', 'kamchatka', 'kane', 'kangaroo', 'kansas', 'kappa', 'karenna', 'karl', 'karnak', 'karsh', 'kashmir', 'kasparov', 'katharine', 'kathie', 'kathryn', 'katie', 'katy', 'kay', 'kdge', 'keaton', 'keck', 'keep', 'keeping', 'keeps', 'keller', 'kelly', 'kemper', 'kennedy', 'kentucky', 'kenya', 'kenyan', 'kept', 'keratoma', 'kevin', 'key', 'keyboard', 'khaki', 'khan', 'khrushchev', 'khyber', 'kicked', 'kickoff', 'kid', 'kidnaped', 'kidnaping', 'kids', 'kilamanjaro', 'kill', 'killed', 'killer', 'killing', 'kills', 'kilowatt', 'kilroy', 'kilvington', 'kim', 'kimpo', 'kind', 'kindergarden', 'kindergarten', 'kinds', 'king', 'kingdom', 'kings', 'kinks', 'kinsey', 'kippur', 'kiss', 'kissed', 'kisser', 'kitchen', 'kite', 'klan', 'klein', 'klondike', 'klux', 'knicks', 'knife', 'knight', 'knighted', 'knock', 'know', 'known', 'knowpost', 'knows', 'knox', 'knute', 'kodak', 'kong', 'konigsberg', 'konopka', 'konrad', 'koran', 'korea', 'korean', 'koresh', 'kosovo', 'krajina', 'kramer', 'kreme', 'kremlin', 'krypton', 'ku', 'kubla', 'kubrick', 'kung', 'kurt', 'kuwait', 'kwai', 'kyriakos', 'kythnos', 'la', 'label', 'labels', 'labianca', 'labor', 'laboratory', 'lacan', 'lachaise', 'lack', 'lactobacillus', 'lady', 'ladybugs', 'lagoon', 'lagos', 'lai', 'laid', 'lake', 'lakehurst', 'lakes', 'lambs', 'laments', 'lan', 'land', 'landed', 'landing', 'landlocked', 'landmark', 'lane', 'lang', 'langerhans', 'langston', 'language', 'languages', 'lantern', 'laos', 'lap', 'laptop', 'lapwarmers', 'large', 'larger', 'largest', 'larry', 'larynx', 'las', 'laser', 'last', 'lasts', 'lata', 'late', 'latent', 'later', 'latin', 'latitude', 'laugh', 'launched', 'laundry', 'laureate', 'lauren', 'lavoir', 'law', 'lawn', 'lawnmower', 'lawrence', 'laws', 'lawsuit', 'lawyer', 'lawyers', 'lay', 'layer', 'layers', 'lcd', 'le', 'lead', 'leader', 'leaders', 'leading', 'leads', 'league', 'leaky', 'leaps', 'learn', 'learned', 'learning', 'least', 'leave', 'leaving', 'lebanon', 'led', 'lee', 'left', 'leftovers', 'leg', 'legal', 'legally', 'legend', 'legendary', 'legged', 'legs', 'lehmann', 'leia', 'leichhardt', 'leif', 'lemmon', 'lemon', 'lemurs', 'lends', 'length', 'lengths', 'lenny', 'leno', 'lens', 'lent', 'leo', 'leon', 'leonardo', 'leoncavallo', 'leos', 'leper', 'leprosy', 'lesbos', 'leslie', 'less', 'lesson', 'let', 'lethal', 'letter', 'letterman', 'letters', 'leukemia', 'level', 'leverkusen', 'levine', 'levitation', 'lew', 'lewis', 'lhasa', 'li', 'liability', 'liberated', 'liberty', 'libraries', 'library', 'libya', 'lice', 'licensed', 'lickin', 'lie', 'lies', 'life', 'lifelong', 'lifesaver', 'lifetime', 'lifter', 'lifting', 'light', 'lightest', 'lightning', 'lights', 'ligurian', 'like', 'liked', 'likely', 'likes', 'lilly', 'limbo', 'lime', 'limelight', 'limestone', 'limit', 'limited', 'limits', 'lincoln', 'lincolns', 'lindbergh', 'line', 'liner', 'liners', 'lines', 'lingo', 'linked', 'links', 'linus', 'linux', 'lion', 'lions', 'lips', 'lipstick', 'liquid', 'lisa', 'list', 'listen', 'listeners', 'listing', 'liston', 'lists', 'lit', 'lite', 'literal', 'literary', 'literature', 'litmus', 'little', 'live', 'lived', 'liver', 'liverpool', 'lives', 'livestock', 'living', 'livingstone', 'liz', 'lizzie', 'll', 'lloyd', 'lmds', 'lo', 'lobster', 'lobsters', 'located', 'location', 'locations', 'lock', 'lockerbie', 'locking', 'loco', 'locomotive', 'log', 'logan', 'logarithmic', 'logic', 'logo', 'lol', 'lombardi', 'london', 'long', 'longer', 'longest', 'longitude', 'longtime', 'look', 'looked', 'looking', 'loomis', 'loop', 'loosely', 'lord', 'los', 'lose', 'loss', 'lost', 'lot', 'lotion', 'lottery', 'lou', 'loud', 'louie', 'louis', 'louise', 'louisiana', 'louse', 'love', 'loveable', 'loved', 'lovell', 'lovely', 'lovers', 'low', 'lowest', 'lowlands', 'lp', 'lsd', 'lucas', 'lucelly', 'lucia', 'lucille', 'luck', 'lucky', 'lucy', 'ludwig', 'luggage', 'luis', 'luke', 'lump', 'lunch', 'lund', 'lung', 'lunt', 'lust', 'lustrum', 'luther', 'lutine', 'luxury', 'lying', 'lynmouth', 'lynn', 'lyricist', 'lyrics', 'm16', 'm3', 'mac', 'macaroni', 'macarthur', 'macbeth', 'macdonald', 'macdowell', 'machiavelli', 'machine', 'machinery', 'machines', 'mack', 'mackenzie', 'mackinaw', 'maclaine', 'macneil', 'macy', 'mad', 'madame', 'madding', 'maddox', 'made', 'madeira', 'madilyn', 'madonna', 'madre', 'madrid', 'madsen', 'mae', 'magazine', 'magazines', 'magee', 'magellan', 'magenta', 'maggio', 'magi', 'magic', 'magna', 'magnate', 'magnesium', 'magnet', 'magnetar', 'magnetic', 'magnets', 'magoo', 'mahal', 'maid', 'maiden', 'maids', 'mail', 'mailing', 'mailman', 'main', 'mainland', 'mainly', 'maintain', 'majal', 'major', 'majority', 'make', 'makepeace', 'maker', 'makes', 'makeup', 'making', 'malawi', 'malaysia', 'maldive', 'male', 'males', 'malick', 'mall', 'malls', 'malta', 'maltese', 'mama', 'mammal', 'mammals', 'mammoth', 'man', 'manager', 'managing', 'manatees', 'manche', 'manchester', 'manchukuo', 'mandibulofacial', 'mandrake', 'mandy', 'maneuver', 'manfred', 'manhatten', 'manicure', 'manifest', 'mankiewicz', 'mankind', 'manned', 'manner', 'mansfield', 'manson', 'manuel', 'manufacture', 'manufactured', 'manufacturer', 'manufacturers', 'manufactures', 'manufacturing', 'many', 'mao', 'map', 'mapping', 'mar', 'marbella', 'marble', 'marbles', 'march', 'marching', 'marciano', 'marco', 'marcos', 'marcus', 'mare', 'margaret', 'maria', 'marijuana', 'marilyn', 'marine', 'marino', 'marion', 'maris', 'mark', 'marked', 'market', 'marketed', 'markets', 'marks', 'marl', 'marley', 'marlin', 'marlowe', 'marquesas', 'marriage', 'married', 'marrow', 'marry', 'mars', 'marshal', 'marshall', 'martha', 'martial', 'martialled', 'martian', 'martin', 'martini', 'martinis', 'martyrs', 'marvel', 'marvelous', 'marvin', 'marx', 'marxism', 'mary', 'maryland', 'marzipan', 'mascot', 'masons', 'masquerade', 'mass', 'massachusetts', 'massacre', 'massage', 'massive', 'mast', 'master', 'masters', 'masterson', 'match', 'matchbook', 'mate', 'material', 'materials', 'math', 'mathematical', 'mathematician', 'matt', 'matter', 'matterhorn', 'mature', 'maturity', 'mau', 'maudie', 'mauis', 'maurice', 'mauritania', 'maurizio', 'max', 'maximo', 'maximum', 'may', 'maya', 'mayan', 'mayans', 'mayfly', 'mayo', 'mayonnaise', 'mayor', 'mc2', 'mcarthur', 'mcbeal', 'mccain', 'mccall', 'mccarren', 'mccheese', 'mcdonald', 'mcgwire', 'mckinley', 'mclean', 'mcpugg', 'mcqueen', 'me', 'mean', 'meanie', 'meaning', 'means', 'meant', 'measure', 'measured', 'measures', 'meat', 'mechanical', 'mechanism', 'med', 'medal', 'medals', 'median', 'medical', 'medication', 'medicinal', 'medicine', 'medieval', 'medina', 'mediterranean', 'medium', 'meerkat', 'meet', 'meeting', 'megan', 'megawatts', 'mehitabel', 'mel', 'melancholy', 'melbourne', 'melissa', 'melman', 'melodies', 'melt', 'melts', 'member', 'members', 'membership', 'memory', 'memphis', 'men', 'menace', 'mendelevium', 'menstruation', 'mentioned', 'mentor', 'menu', 'menus', 'mercenaries', 'merchandise', 'merchant', 'mercury', 'merged', 'merrick', 'merrie', 'mess', 'message', 'met', 'meta', 'metabolize', 'metal', 'metalious', 'metamorphosis', 'meter', 'meters', 'method', 'methodist', 'methods', 'metric', 'metropolis', 'mevacor', 'mexican', 'mexico', 'meyer', 'mgm', 'mia', 'miami', 'michael', 'michaelangelo', 'michagin', 'michelangelo', 'michener', 'michigan', 'micro', 'microcontrollers', 'micronauts', 'microprocessors', 'microscope', 'microsoft', 'microverse', 'microwaves', 'mid', 'middle', 'mideast', 'midi', 'midsummer', 'midwest', 'midwife', 'mig', 'might', 'mighty', 'migrates', 'mikhail', 'milano', 'mildew', 'mile', 'miles', 'military', 'milk', 'milking', 'milky', 'mill', 'millenium', 'millennium', 'miller', 'milligrams', 'millimeter', 'millimeters', 'million', 'millionaire', 'millions', 'millionth', 'milliseconds', 'mills', 'milo', 'milt', 'milton', 'mind', 'minded', 'mine', 'mined', 'mineral', 'mines', 'miniature', 'minimum', 'mining', 'minister', 'minneapolis', 'minnesota', 'minor', 'minow', 'mint', 'minute', 'minutes', 'miracles', 'mirror', 'miss', 'missile', 'mission', 'missionary', 'missions', 'mississippi', 'missouri', 'mistakenly', 'mistletoe', 'mitty', 'mix', 'mixable', 'mixing', 'mixture', 'mla', 'mob', 'moby', 'model', 'modem', 'moderated', 'modern', 'modestly', 'mojave', 'mold', 'molecules', 'molly', 'molybdenum', 'mona', 'monaco', 'monarch', 'monarchs', 'monarchy', 'monet', 'money', 'mongol', 'monitor', 'monk', 'monkey', 'monopolies', 'monopoly', 'monroe', 'monster', 'monsters', 'mont', 'montana', 'montenegro', 'monterey', 'month', 'monthly', 'months', 'montmartre', 'monument', 'moo', 'moog', 'moon', 'moore', 'moorish', 'moral', 'morale', 'morality', 'moran', 'more', 'morgan', 'morley', 'mormon', 'mormons', 'morning', 'morris', 'mortem', 'mortgage', 'mosaic', 'moscow', 'moses', 'mosquito', 'mosquitoes', 'moss', 'most', 'mostly', 'moth', 'mother', 'motion', 'motor', 'motorcycle', 'motorcycles', 'motors', 'motown', 'motto', 'mount', 'mountain', 'mountainous', 'mountains', 'mounted', 'mourning', 'mouse', 'mouth', 'move', 'movement', 'movie', 'movies', 'moving', 'moxie', 'mozambique', 'mpilo', 'mr', 'mrs', 'ms', 'msg', 'mt', 'mtv', 'much', 'muffins', 'muhammad', 'mules', 'multicolored', 'multicultural', 'multilingual', 'multimedia', 'multiple', 'multiplexer', 'multitalented', 'mummified', 'munching', 'munich', 'muppets', 'murder', 'murdered', 'murdering', 'murdock', 'musca', 'muscle', 'muscles', 'museum', 'mushroom', 'music', 'musical', 'musician', 'musketeers', 'muslim', 'muslims', 'must', 'mustachioed', 'mustard', 'mutiny', 'mutombo', 'mvp', 'my', 'mykonos', 'myrtle', 'myself', 'mystery', 'mystical', 'mystique', 'myth', 'mythical', 'mythological', 'mythology', 'naacp', 'nabokov', 'nadia', 'nafta', 'nail', 'nails', 'naked', 'namath', 'name', 'named', 'names', 'nancy', 'nanometer', 'nantucket', 'napalm', 'naples', 'napolean', 'napoleon', 'napoleonic', 'napsylate', 'narcolepsy', 'narragansett', 'narrates', 'nasa', 'nasdaq', 'naseem', 'nasty', 'natalie', 'natchitoches', 'nathan', 'natick', 'nation', 'national', 'nationality', 'nations', 'native', 'natives', 'nato', 'natural', 'nature', 'nautical', 'nautilus', 'naval', 'navy', 'nazi', 'nazis', 'nba', 'nbc', 'neal', 'neanderthal', 'near', 'nearest', 'nearsightedness', 'nebbish', 'nebraska', 'nebuchadnezzar', 'necessarily', 'necessary', 'necklaces', 'necrosis', 'need', 'needed', 'needle', 'needles', 'needs', 'neighborhood', 'neil', 'nelson', 'nematode', 'neoclassical', 'neon', 'nepal', 'nephew', 'nero', 'nerve', 'nestled', 'nests', 'net', 'network', 'neurasthenia', 'neurological', 'neuromancer', 'neurons', 'neurosurgeon', 'neurotic', 'nevada', 'never', 'nevermind', 'nevil', 'new', 'newly', 'news', 'newscast', 'newsmen', 'newspaper', 'newton', 'newtons', 'next', 'nfl', 'nhl', 'niagara', 'niagra', 'niche', 'nicholas', 'nickel', 'nicklaus', 'nickname', 'nicknamed', 'nicois', 'nicolet', 'nicolo', 'niece', 'nielsen', 'night', 'nightclubs', 'nightingale', 'nightmare', 'nihilist', 'niigata', 'nike', 'nikita', 'nile', 'nina', 'nine', 'ninety', 'ninjitsu', 'nino', 'nintendo', 'nipsy', 'nitrates', 'nitrogen', 'nitrox', 'nixon', 'nj', 'nn', 'nnp', 'nns', 'no', 'noah', 'nobel', 'noble', 'node', 'noir', 'noise', 'nomadic', 'nominated', 'nominations', 'nominee', 'non', 'nonaggression', 'nonchlorine', 'nonconsecutive', 'none', 'nones', 'noodle', 'nora', 'nordic', 'noriega', 'normal', 'normally', 'normans', 'north', 'northeast', 'northernmost', 'northwestern', 'norway', 'norwegian', 'nose', 'nostradamus', 'nostrum', 'not', 'notch', 'notes', 'nothing', 'notre', 'noun', 'nouns', 'novel', 'novelist', 'novels', 'november', 'now', 'nowadays', 'nuclear', 'number', 'numbered', 'numbers', 'numeral', 'numerals', 'nun', 'nuremberg', 'nurse', 'nursery', 'nutrients', 'nutrition', 'nuts', 'ny', 'nylon', 'oakland', 'oas', 'oat', 'oath', 'obelisk', 'object', 'objects', 'obote', 'obscene', 'observances', 'observed', 'observing', 'obtained', 'occam', 'occupation', 'occupy', 'occur', 'occurred', 'occurrence', 'occurs', 'ocean', 'oceania', 'oceans', 'ocho', 'octavius', 'octopus', 'odds', 'oddsmaker', 'odin', 'odor', 'odors', 'of', 'off', 'offer', 'offered', 'offers', 'office', 'officer', 'offices', 'official', 'officially', 'often', 'oftentimes', 'ogre', 'oh', 'ohio', 'oil', 'oilers', 'oilseeds', 'oj', 'oklahoma', 'old', 'older', 'oldest', 'oldtime', 'olestra', 'olive', 'olives', 'olivia', 'olsen', 'olympia', 'olympic', 'olympics', 'omni', 'on', 'onassis', 'once', 'one', 'ones', 'onetime', 'onion', 'online', 'only', 'oompas', 'oop', 'open', 'opened', 'opener', 'opening', 'opens', 'opera', 'operant', 'operate', 'operating', 'operation', 'operations', 'opponent', 'opponents', 'opposed', 'opposite', 'opposition', 'optical', 'or', 'orange', 'orbit', 'orca', 'ord', 'order', 'ordered', 'organ', 'organic', 'organism', 'organization', 'organizational', 'organized', 'organs', 'orgasm', 'orgin', 'oriented', 'origin', 'original', 'originally', 'originate', 'originated', 'orinoco', 'orkney', 'orleans', 'orly', 'ornaments', 'orphans', 'orthopedics', 'osbourne', 'oscar', 'oscars', 'osmosis', 'ossining', 'osteichthyes', 'ostrich', 'ostriches', 'oswald', 'other', 'others', 'ottawa', 'otters', 'otto', 'ouagadougou', 'ouarterly', 'ouija', 'our', 'ousted', 'out', 'outcome', 'outer', 'outfit', 'outline', 'output', 'outside', 'outstanding', 'ouzo', 'ove', 'oven', 'over', 'overalls', 'overcome', 'overflow', 'overlook', 'overlooking', 'overthrow', 'owe', 'owed', 'own', 'owned', 'owner', 'owning', 'owns', 'ox', 'oxfords', 'oxidation', 'oxide', 'oxygen', 'oyl', 'oyster', 'oysters', 'oz', 'ozone', 'ozymandias', 'ozzie', 'ozzy', 'pacer', 'pacific', 'packages', 'packers', 'packin', 'pact', 'pad', 'padres', 'paganini', 'page', 'pageant', 'pages', 'paid', 'pail', 'pain', 'paine', 'painful', 'paint', 'paintball', 'painted', 'painter', 'painters', 'painting', 'pairs', 'pajamas', 'palace', 'palate', 'paleontologist', 'paleozoic', 'palindromic', 'pallbearer', 'palmer', 'palmiped', 'palms', 'palpatine', 'pampas', 'pamplona', 'pan', 'panama', 'pandoro', 'panel', 'pangaea', 'panic', 'panoramic', 'panther', 'panties', 'papal', 'paper', 'papers', 'par', 'paracetamol', 'parachute', 'parade', 'paradise', 'paraguay', 'parasites', 'parents', 'paris', 'park', 'parker', 'parking', 'parks', 'parma', 'parrot', 'part', 'parthenon', 'participle', 'particular', 'particularly', 'partition', 'partner', 'partnership', 'parton', 'parts', 'party', 'pas', 'pascal', 'paso', 'pass', 'passed', 'passenger', 'passing', 'past', 'pasta', 'pasternak', 'pastorius', 'pasture', 'patent', 'patented', 'patents', 'paths', 'patients', 'patricia', 'patrons', 'patti', 'paul', 'paulo', 'pay', 'paying', 'pc', 'pea', 'peabody', 'peace', 'peachy', 'peacocks', 'peak', 'peanut', 'peanuts', 'pearl', 'pearls', 'peas', 'peasant', 'pebbles', 'pecan', 'pecos', 'pedestrians', 'pedometer', 'peel', 'peggy', 'pegnitz', 'pekka', 'pellegrin', 'peller', 'peloponnesian', 'pelt', 'pelvic', 'penalty', 'pencey', 'pencil', 'pendulum', 'penetrate', 'penguins', 'peninsula', 'penis', 'penn', 'penned', 'pennsylvania', 'penny', 'pens', 'pentagon', 'people', 'pepper', 'pepsi', 'per', 'perc', 'percent', 'percentage', 'percival', 'pere', 'perfect', 'perfectly', 'perform', 'performed', 'performer', 'perfume', 'pergament', 'period', 'periodic', 'permanent', 'permanently', 'permitted', 'permutations', 'perpetual', 'perpetually', 'perry', 'persian', 'person', 'personal', 'personality', 'personas', 'peruvian', 'pesth', 'pet', 'peter', 'peters', 'petersburg', 'petrified', 'petrograd', 'petroleum', 'pets', 'peugeot', 'ph', 'phalanx', 'pharmacists', 'phenomenon', 'pheonix', 'phil', 'philadelphia', 'philanthropist', 'philatelist', 'philby', 'philebus', 'philip', 'philippine', 'philippines', 'phillip', 'philosophized', 'philosophy', 'phobophobe', 'phoenix', 'phone', 'phonograph', 'photograph', 'photographer', 'photographs', 'photoshop', 'photosynthesis', 'phrase', 'physical', 'physically', 'physician', 'physics', 'pi', 'pia', 'piano', 'pianos', 'piazza', 'pibb', 'picasso', 'piccadilly', 'picked', 'pickering', 'picking', 'pickled', 'pictorial', 'picts', 'picture', 'pictured', 'pictures', 'pie', 'piece', 'pies', 'pig', 'pigeons', 'piggy', 'pigment', 'pigs', 'pike', 'piles', 'pilgrim', 'pillar', 'pilot', 'pilots', 'pimp', 'pin', 'pinatubo', 'pineapple', 'pines', 'ping', 'pink', 'pins', 'piracy', 'pirate', 'pissarro', 'pistol', 'pit', 'pita', 'pitch', 'pitched', 'pitcher', 'pitchers', 'pitches', 'pittsburgh', 'piven', 'pizarro', 'pizza', 'place', 'placed', 'plagued', 'plagues', 'plain', 'plains', 'plan', 'plane', 'planet', 'planned', 'plans', 'plant', 'plantar', 'plantation', 'planted', 'plants', 'plastic', 'platinum', 'play', 'playboy', 'played', 'player', 'players', 'playing', 'plays', 'playstation', 'playwright', 'plc', 'plea', 'please', 'pleasure', 'plo', 'plot', 'plugged', 'plumbism', 'plural', 'pluribus', 'plymouth', 'pneumonia', 'pocahontas', 'pocket', 'poconos', 'poe', 'poem', 'poet', 'poetic', 'poetry', 'poets', 'poing', 'point', 'pointed', 'points', 'pointsettia', 'poison', 'poisoning', 'poke', 'pokemon', 'poker', 'poland', 'pole', 'police', 'policeman', 'policy', 'polio', 'polis', 'polish', 'political', 'politics', 'polka', 'poll', 'pollen', 'pollock', 'pollution', 'pollux', 'polo', 'polyester', 'polynesian', 'polyorchid', 'pomegranate', 'pomegranates', 'pompeii', 'pony', 'poodle', 'pooh', 'pookie', 'poop', 'poor', 'poorly', 'pop', 'popcorn', 'pope', 'popeye', 'poppins', 'pops', 'popular', 'popularized', 'popularly', 'populated', 'population', 'populous', 'porgy', 'porphyria', 'port', 'portal', 'porter', 'portly', 'portrait', 'portraits', 'portrayed', 'portraying', 'portrays', 'ports', 'portuguese', 'pos', 'posh', 'position', 'positions', 'possessed', 'possession', 'possible', 'possum', 'post', 'postage', 'postal', 'poster', 'potatoes', 'potential', 'pothooks', 'potlatch', 'potsdam', 'potter', 'pound', 'pounds', 'pow', 'powder', 'powdered', 'powell', 'power', 'powered', 'powerful', 'powers', 'powhatan', 'pox', 'practical', 'practice', 'prankster', 'prayer', 'preacher', 'predators', 'predict', 'predicted', 'predominant', 'preface', 'preferably', 'preference', 'prefix', 'pregnacy', 'pregnancies', 'pregnancy', 'pregnant', 'prehistoric', 'prelude', 'premier', 'premiered', 'prenatal', 'prep', 'prepared', 'prequel', 'prescription', 'present', 'preservation', 'preserve', 'presided', 'presidency', 'president', 'presidential', 'presidents', 'presley', 'press', 'pressure', 'pressured', 'preston', 'prevailing', 'prevent', 'prevents', 'previous', 'prewett', 'prewitt', 'price', 'prices', 'pride', 'priest', 'priestley', 'primal', 'primary', 'primate', 'prime', 'primitives', 'prince', 'princess', 'principal', 'principle', 'principles', 'print', 'printing', 'prinze', 'prism', 'prison', 'prisoner', 'prisoners', 'private', 'prix', 'prize', 'prizes', 'pro', 'probability', 'problem', 'problems', 'procedure', 'proceed', 'process', 'processing', 'processor', 'procter', 'produce', 'produced', 'producer', 'producers', 'produces', 'producing', 'product', 'production', 'products', 'profession', 'professional', 'professor', 'proficient', 'profit', 'profits', 'program', 'programming', 'project', 'projects', 'proliferation', 'prologue', 'promising', 'promote', 'promoters', 'promotion', 'prompted', 'pronoun', 'pronounce', 'pronounced', 'proof', 'propaganda', 'propellers', 'proper', 'properly', 'properties', 'prophecies', 'prophet', 'proposition', 'prosecutor', 'prostitute', 'protagonist', 'protanopia', 'protect', 'protecting', 'protection', 'protects', 'protein', 'protestant', 'protestors', 'proud', 'proverb', 'provide', 'provided', 'provider', 'provides', 'province', 'provo', 'prussia', 'prussian', 'pseudonym', 'psi', 'psoriasis', 'psorisis', 'psychiatric', 'psychologically', 'psychology', 'pub', 'public', 'publication', 'publish', 'published', 'publisher', 'puccini', 'pudding', 'puddle', 'puerto', 'pugilist', 'pulaski', 'pulitzer', 'pull', 'pulls', 'pulp', 'pulse', 'pump', 'punch', 'punchbowl', 'punctuation', 'punishment', 'puppy', 'purchase', 'purchased', 'purified', 'purina', 'purple', 'purpose', 'purposes', 'pursued', 'pursuit', 'purveyor', 'pushed', 'pusher', 'pushes', 'pushy', 'pussycats', 'put', 'putting', 'putty', 'puzzle', 'pym', 'pyramid', 'pyrotechnic', 'pythagoras', 'qatar', 'qigong', 'qintex', 'quadruplets', 'qualifications', 'quality', 'quantity', 'quantum', 'quart', 'quarter', 'quarterbacks', 'quarters', 'quarts', 'quebec', 'queen', 'queensland', 'quelling', 'quencher', 'queries', 'question', 'questions', 'quetzalcoatl', 'quick', 'quicker', 'quickest', 'quickly', 'quilting', 'quintillion', 'quirk', 'quisling', 'quit', 'quixote', 'quiz', 'quotation', 'quotes', 'rabbit', 'rabbits', 'rabies', 'race', 'raced', 'racehorse', 'races', 'racetrack', 'racing', 'racism', 'racoon', 'radiation', 'radio', 'radioactive', 'radiographer', 'radius', 'raging', 'rah', 'raid', 'raider', 'raiders', 'rail', 'railroad', 'railway', 'railways', 'rain', 'rainbow', 'rainfall', 'rainstorm', 'raise', 'raised', 'raising', 'raja', 'rallying', 'ram', 'rams', 'ran', 'ranch', 'randolph', 'randy', 'range', 'ranger', 'ranges', 'rank', 'ranking', 'ranks', 'rann', 'rare', 'rarely', 'rarest', 'rascals', 'rate', 'rated', 'rathaus', 'ratified', 'rating', 'ratio', 'ravens', 'rawhide', 'ray', 'rayburn', 'razor', 'rca', 'rcd', 're', 'reach', 'reaches', 'reaction', 'reactivity', 'read', 'readers', 'reading', 'ready', 'reagan', 'real', 'reality', 'really', 'realm', 'rear', 'rearranged', 'reason', 'reb', 'rebellion', 'rebellions', 'rebounds', 'recalled', 'recapture', 'receive', 'received', 'recently', 'recessed', 'recession', 'recetrack', 'rechargeable', 'recharged', 'recipe', 'recognition', 'recognize', 'recomended', 'recommend', 'recommended', 'record', 'recorded', 'records', 'recounts', 'recovery', 'recreational', 'recruited', 'recruitment', 'recruits', 'rectum', 'recycled', 'red', 'redford', 'redness', 'rednitz', 'redskin', 'reed', 'refer', 'referees', 'reference', 'referring', 'refers', 'reflections', 'reflectors', 'refrain', 'refuge', 'refugee', 'refuse', 'refusing', 'regained', 'regan', 'regarding', 'regardless', 'regenerate', 'region', 'register', 'registers', 'registration', 'regular', 'regulate', 'regulation', 'reign', 'reims', 'reinstate', 'rejection', 'relate', 'related', 'relations', 'relationship', 'relative', 'relatives', 'relax', 'release', 'released', 'relevant', 'reliable', 'relief', 'reliever', 'religion', 'religions', 'remain', 'remains', 'remake', 'remembered', 'remembrance', 'remote', 'remove', 'removed', 'renaissance', 'renaud', 'renoir', 'renown', 'rent', 'repealed', 'repeating', 'repeats', 'replaced', 'replica', 'replied', 'replies', 'report', 'reports', 'repossession', 'represent', 'representative', 'representatives', 'represented', 'represents', 'reproduce', 'reptiles', 'republic', 'reputation', 'reputed', 'required', 'requirement', 'requirements', 'requires', 'research', 'researches', 'resembled', 'reserve', 'residence', 'resident', 'residents', 'resignation', 'resistance', 'resource', 'resources', 'respirator', 'respond', 'respones', 'responsible', 'rest', 'restaurant', 'resting', 'restore', 'restored', 'resulting', 'results', 'resurrectionist', 'retired', 'retirement', 'retrievers', 'retrograde', 'return', 'returned', 'reunified', 'reunited', 'reuter', 'rev', 'revelation', 'review', 'reviews', 'revival', 'revive', 'revolt', 'revolution', 'revolutionaries', 'revolutionary', 'revolutions', 'revolve', 'rex', 'rey', 'reynolds', 'rhett', 'rhine', 'rhinestone', 'rhode', 'rhodes', 'rhomboideus', 'rhyme', 'rhymes', 'ribavirin', 'ribbon', 'rica', 'rice', 'rich', 'richard', 'richards', 'richest', 'richthofen', 'rick', 'rico', 'rid', 'ridden', 'ridder', 'ride', 'rider', 'ridge', 'ridges', 'riding', 'rifle', 'rifleman', 'rigati', 'right', 'rights', 'ring', 'ringo', 'rings', 'rios', 'riots', 'ripe', 'ripening', 'rise', 'rises', 'rising', 'risk', 'rita', 'rites', 'river', 'rivers', 'road', 'roads', 'roaring', 'roasts', 'robb', 'robbers', 'robbins', 'robert', 'robertson', 'robin', 'robinson', 'robust', 'rock', 'rockefeller', 'rocket', 'rockettes', 'rockin', 'rockne', 'rocks', 'rocky', 'rococo', 'rodder', 'rode', 'rodeo', 'roe', 'roger', 'rogers', 'role', 'roles', 'rolfe', 'roll', 'roller', 'rolling', 'rolls', 'rom', 'roman', 'romania', 'romans', 'romantic', 'romanticism', 'rome', 'rommel', 'ron', 'rona', 'ronald', 'rooftops', 'room', 'roommates', 'roosevelt', 'roosters', 'root', 'roots', 'rosa', 'rosanna', 'rosanne', 'rose', 'rosemary', 'roses', 'ross', 'rossetti', 'rossini', 'rossner', 'rostropovich', 'rotary', 'rotunda', 'roulette', 'round', 'rounded', 'rousseau', 'routinely', 'row', 'rowan', 'rowing', 'rows', 'roy', 'royal', 'royce', 'rubber', 'rubble', 'rubens', 'rubik', 'rubin', 'ruble', 'ruby', 'ruckus', 'rude', 'rugby', 'rugs', 'ruin', 'rule', 'rulebook', 'ruled', 'rules', 'rum', 'ruminant', 'rummy', 'run', 'runner', 'running', 'runs', 'rupee', 'rural', 'rush', 'russell', 'russia', 'russian', 'russians', 'rust', 'ruth', 'rwanda', 'sabres', 'sabrina', 'sacred', 'saddam', 'safari', 'safe', 'safest', 'safety', 'sagebrush', 'saharan', 'said', 'sailed', 'sailing', 'sailor', 'sailors', 'saint', 'saks', 'salary', 'sale', 'sales', 'salesman', 'saline', 'saliva', 'salk', 'sally', 'salmon', 'salonen', 'saloons', 'salt', 'saltpeter', 'salvador', 'salzburg', 'sam', 'same', 'sampling', 'samson', 'samuel', 'san', 'sand', 'sandra', 'sang', 'sank', 'santa', 'santos', 'sao', 'sap', 'sara', 'saratoga', 'sardonyx', 'sarge', 'sark', 'sartorial', 'satelite', 'satellites', 'satirized', 'satisfaction', 'satisfactory', 'saturday', 'sauce', 'saudi', 'saute', 'sauvignon', 'save', 'saved', 'saves', 'savings', 'saw', 'sawyer', 'saxophone', 'say', 'saying', 'says', 'scale', 'scalene', 'scales', 'scan', 'scandal', 'scandinavian', 'scar', 'scares', 'scarlet', 'scarlett', 'scars', 'scene', 'scenes', 'schematics', 'schnitzel', 'scholar', 'school', 'schoolhouse', 'schooling', 'schools', 'schoolteacher', 'schwarzenegger', 'sci', 'science', 'scientific', 'scientists', 'scientology', 'scooby', 'scopes', 'score', 'scored', 'scores', 'scorpion', 'scotch', 'scotland', 'scott', 'scottish', 'scoundrel', 'scouts', 'scrabble', 'scratch', 'scream', 'screen', 'screening', 'screenplay', 'screens', 'screensaver', 'scrooge', 'scrum', 'scruples', 'scsi', 'sculptress', 'sculpture', 'scythe', 'sea', 'seafarers', 'seafaring', 'seagull', 'seal', 'seaport', 'search', 'seas', 'seashell', 'season', 'seasons', 'seat', 'seats', 'seattle', 'seawater', 'seaweed', 'sebastian', 'seborrhea', 'seccession', 'second', 'secondary', 'secret', 'secretary', 'section', 'securities', 'security', 'sed', 'see', 'seed', 'seeing', 'seek', 'seeking', 'seen', 'sees', 'seine', 'seized', 'seizure', 'select', 'selecting', 'selective', 'self', 'sell', 'selleck', 'seller', 'sellers', 'selling', 'sells', 'semper', 'sen', 'senate', 'senator', 'send', 'sennett', 'sense', 'senses', 'sensitive', 'sent', 'sentence', 'separated', 'separates', 'september', 'sequel', 'sequencing', 'serfdom', 'sergeant', 'serial', 'series', 'serigraph', 'seriously', 'seriphos', 'serve', 'served', 'server', 'servers', 'serves', 'service', 'services', 'serving', 'session', 'sessions', 'set', 'setting', 'settle', 'settlement', 'seuss', 'seven', 'seventeen', 'seventh', 'several', 'sewer', 'sex', 'sexiest', 'sexual', 'sexy', 'shadow', 'shadows', 'shady', 'shag', 'shake', 'shaken', 'shakespeare', 'shakespearean', 'shall', 'shallow', 'shalom', 'shampoo', 'shape', 'share', 'shared', 'shark', 'sharks', 'sharon', 'sharp', 'shave', 'shawn', 'shays', 'she', 'shea', 'sheath', 'sheboygan', 'sheep', 'sheika', 'sheila', 'shek', 'shelf', 'shelleen', 'shelley', 'shelves', 'sheri', 'sherlock', 'sherman', 'shetland', 'shevardnadze', 'shia', 'shield', 'shiest', 'shifting', 'shillings', 'shimerda', 'shine', 'ship', 'shipment', 'ships', 'shipwreck', 'shipyard', 'shirley', 'shirts', 'shirtwaist', 'shiver', 'shock', 'shoe', 'shoes', 'shoot', 'shooting', 'shoplifts', 'shopping', 'shoreline', 'shores', 'shorn', 'short', 'shortage', 'shortest', 'shortstop', 'shostakovich', 'shot', 'shots', 'should', 'shoulder', 'shouldn', 'shouts', 'show', 'showed', 'shower', 'showers', 'shown', 'shows', 'showtimes', 'shroud', 'shrubs', 'shute', 'shuttle', 'shylock', 'sic', 'sicilian', 'sicily', 'side', 'sideburns', 'sided', 'sides', 'sidewinder', 'sidney', 'sids', 'sierra', 'sigmund', 'sign', 'signals', 'signature', 'signed', 'significant', 'signs', 'silence', 'silent', 'silk', 'silkworm', 'silly', 'silver', 'silvers', 'silversmith', 'silversmiths', 'similar', 'simon', 'simple', 'simpler', 'simpson', 'simpsons', 'sinatra', 'since', 'sinclair', 'sine', 'sinemet', 'sing', 'singer', 'singing', 'single', 'singles', 'sings', 'singular', 'sink', 'sinn', 'sinning', 'sins', 'sioux', 'siphnos', 'sir', 'sired', 'siskel', 'sisley', 'sister', 'sisters', 'sisterðcity', 'sistine', 'sit', 'sitcom', 'site', 'sites', 'six', 'sixties', 'size', 'sizes', 'skateboarding', 'skater', 'skating', 'ski', 'skiing', 'skim', 'skin', 'skittles', 'skrunch', 'skull', 'skunks', 'sky', 'skyline', 'skywalker', 'slam', 'slane', 'slang', 'slaughter', 'slave', 'slavery', 'slaves', 'sled', 'sleep', 'sleeping', 'sleepless', 'sleeps', 'sleet', 'sleeve', 'slide', 'slightly', 'slim', 'slime', 'slinky', 'slits', 'slogan', 'slotbacks', 'slow', 'slowest', 'slows', 'small', 'smallest', 'smartnet', 'smell', 'smelly', 'smile', 'smith', 'smithsonian', 'smokey', 'smoking', 'smothers', 'snack', 'snafu', 'snail', 'snake', 'snakebite', 'snakes', 'snap', 'snarly', 'snatches', 'sneeze', 'sneezing', 'snickers', 'snoogans', 'snoopy', 'snore', 'snoring', 'snow', 'snowballs', 'snowboard', 'snowboarding', 'snowiest', 'snowman', 'snyder', 'so', 'soap', 'soccer', 'social', 'socialism', 'society', 'socioeconomic', 'socrates', 'socratic', 'soda', 'sodium', 'soft', 'softball', 'softest', 'software', 'solar', 'sold', 'soldier', 'soldiers', 'solid', 'solo', 'solomon', 'solve', 'somalia', 'some', 'somebody', 'somene', 'someone', 'something', 'sometimes', 'somme', 'son', 'sondheim', 'song', 'songs', 'sonic', 'sonnets', 'sonny', 'sons', 'sony', 'sores', 'sort', 'soto', 'sought', 'souls', 'sound', 'sounded', 'soundtrack', 'soup', 'source', 'sourness', 'south', 'southdowns', 'southeast', 'southern', 'southernmost', 'southwestern', 'soviet', 'soy', 'space', 'spaceball', 'spacecraft', 'spaces', 'spacewalk', 'spade', 'spaghetti', 'spahn', 'spain', 'spamming', 'span', 'spangled', 'spanish', 'sparkles', 'sparkling', 'spartacus', 'spartanburg', 'spawned', 'speak', 'speaker', 'speaking', 'speaks', 'spears', 'special', 'specializing', 'species', 'specific', 'specifically', 'specimen', 'spectacle', 'spectrum', 'speech', 'speed', 'speeds', 'spelled', 'spelling', 'spend', 'spent', 'sperm', 'spermologer', 'sphere', 'spice', 'spices', 'spicey', 'spider', 'spielberg', 'spill', 'spin', 'spine', 'spins', 'spiracles', 'spiritual', 'splatterpunk', 'split', 'spock', 'spoke', 'spoken', 'spokesman', 'spokespeople', 'spokesperson', 'sponsor', 'sport', 'sporting', 'sports', 'spotlight', 'spouting', 'sprain', 'sprawling', 'spray', 'sprayed', 'spread', 'springfield', 'springs', 'spritsail', 'spritz', 'spritzer', 'sprocket', 'sprouted', 'sprouts', 'spumante', 'spy', 'sql', 'square', 'squares', 'squats', 'squeaky', 'srpska', 'st', 'stadium', 'staff', 'stage', 'stagecoach', 'stages', 'stained', 'stains', 'stairway', 'stake', 'stakes', 'stalag', 'stalin', 'stalker', 'stalled', 'stallone', 'stamp', 'stamps', 'stand', 'standard', 'standards', 'stands', 'stanford', 'stanley', 'star', 'stardom', 'stardust', 'starred', 'starring', 'stars', 'starship', 'start', 'started', 'starting', 'starts', 'starving', 'stassen', 'stat', 'state', 'stated', 'statement', 'states', 'station', 'stationed', 'stations', 'statistical', 'statistics', 'statue', 'statues', 'status', 'stay', 'steakburgers', 'steal', 'stealing', 'steam', 'steamboat', 'steel', 'steepest', 'steeplechase', 'steering', 'stefan', 'stein', 'steinbeck', 'stem', 'stephen', 'steps', 'stereo', 'sterilize', 'stern', 'stethoscope', 'steve', 'steven', 'stevens', 'stevenson', 'stevie', 'stewart', 'stick', 'stickers', 'still', 'stinger', 'stingers', 'stings', 'stirred', 'stitch', 'stock', 'stockings', 'stocks', 'stockyards', 'stole', 'stolen', 'stomach', 'stone', 'stonehenge', 'stones', 'stonewall', 'stood', 'stop', 'stopped', 'stops', 'store', 'stored', 'stores', 'stories', 'storm', 'storms', 'story', 'stove', 'stradivarius', 'straight', 'strait', 'strange', 'stranger', 'strap', 'strasbourg', 'stratocaster', 'stratton', 'streak', 'street', 'streetcar', 'streets', 'stretch', 'stricken', 'strikes', 'stringed', 'strings', 'strip', 'stripe', 'stripes', 'stripped', 'strips', 'stroke', 'strokes', 'strong', 'stronger', 'strontium', 'struck', 'structure', 'struggle', 'stuart', 'stubborn', 'stuck', 'student', 'students', 'studio', 'studios', 'study', 'style', 'styloid', 'styron', 'sub', 'subaru', 'subject', 'submarine', 'submarines', 'submerged', 'substance', 'subtitled', 'suburb', 'suburban', 'subversive', 'subway', 'succeed', 'succeeded', 'success', 'successful', 'successfully', 'succession', 'succotash', 'such', 'sued', 'suey', 'suffer', 'suffering', 'suffrage', 'sugar', 'suicides', 'suit', 'suite', 'sulfur', 'sullivan', 'sultan', 'sum', 'summer', 'summit', 'sun', 'sundaes', 'sundance', 'sunday', 'sunflowers', 'sung', 'sunk', 'sunlight', 'sunnyside', 'sunset', 'super', 'superb', 'superbowl', 'superbowls', 'supercontinent', 'supergirl', 'superman', 'superstar', 'supper', 'supplement', 'supplier', 'support', 'supporting', 'supports', 'supposed', 'supremacy', 'supreme', 'surface', 'surfboard', 'surfing', 'surge', 'surgeon', 'surname', 'surnames', 'surpassing', 'surrender', 'surrendered', 'surroundings', 'surrounds', 'surveyor', 'survival', 'survivor', 'survivors', 'suspect', 'suspension', 'sussex', 'sutcliffe', 'sutter', 'suzette', 'suzy', 'svga', 'svhs', 'swallow', 'swamp', 'swampy', 'swap', 'swapped', 'swastika', 'swatch', 'sweaty', 'sweden', 'sweet', 'sweeter', 'sweetheart', 'swim', 'swimmer', 'swimming', 'swims', 'swing', 'swiss', 'switch', 'switzerland', 'sword', 'sydney', 'syllables', 'symbol', 'symbolize', 'symbolizes', 'symphony', 'symptom', 'symptoms', 'syndrome', 'synonym', 'synonymous', 'synthesizer', 'syrian', 'syringe', 'syrup', 'sysrq', 'system', 'systems', 'syzygy', 'tab', 'table', 'tablespoon', 'tabs', 'tabulates', 'tackle', 'tadeus', 'taft', 'tail', 'tailbacks', 'tailoring', 'tailors', 'tails', 'taiwan', 'taiwanese', 'taj', 'tak', 'take', 'taken', 'takes', 'taking', 'tale', 'talk', 'talking', 'tall', 'taller', 'tallest', 'tammy', 'tampa', 'tampon', 'tanker', 'tannins', 'tap', 'tape', 'tarantula', 'target', 'tarnished', 'task', 'tasket', 'tasman', 'taste', 'tastes', 'tasting', 'tatiana', 'tattoo', 'taught', 'tax', 'taxed', 'taxi', 'taylor', 'tbk', 'tea', 'teachers', 'teaching', 'team', 'teams', 'tears', 'teaspoon', 'teaspoons', 'teats', 'techmeth', 'technical', 'technique', 'technology', 'ted', 'teddy', 'tee', 'teen', 'teenage', 'teenager', 'teenagers', 'teeth', 'teflon', 'tel', 'telecast', 'telegraph', 'telephone', 'telephones', 'telescope', 'televised', 'television', 'tell', 'tells', 'temp', 'tempelhol', 'temperance', 'temperature', 'temperatures', 'temple', 'ten', 'tenants', 'tend', 'tender', 'tenderness', 'tennessee', 'tennis', 'tenpin', 'tenses', 'tent', 'tenths', 'tequila', 'terabyte', 'terata', 'term', 'termed', 'termeq', 'terms', 'terrence', 'terrible', 'terrier', 'terrific', 'terrified', 'territories', 'territory', 'terror', 'terrorism', 'terrorist', 'terrorized', 'terry', 'tesla', 'test', 'testament', 'tested', 'tetrinet', 'tex', 'texas', 'text', 'textile', 'textiles', 'tft', 'thackeray', 'thai', 'thalassemia', 'thalia', 'than', 'thank', 'thanksgiving', 'that', 'thatcher', 'the', 'theater', 'theatre', 'theatrical', 'thee', 'thefts', 'their', 'them', 'theme', 'themes', 'themselves', 'then', 'theo', 'theodore', 'theorem', 'theories', 'theory', 'theotokopoulos', 'therapy', 'there', 'theresa', 'thermal', 'these', 'theses', 'theta', 'they', 'thickness', 'thighs', 'thin', 'thine', 'thing', 'things', 'think', 'thinking', 'third', 'thirds', 'thirst', 'this', 'thomas', 'thompson', 'thor', 'those', 'thought', 'thousands', 'threat', 'three', 'thrilled', 'thrillers', 'throat', 'throne', 'through', 'throw', 'throwing', 'thru', 'thucydides', 'thumb', 'thunder', 'thurgood', 'thursday', 'ticker', 'ticket', 'ticklish', 'tide', 'tie', 'tied', 'tiffany', 'tiger', 'tile', 'tiles', 'tim', 'time', 'times', 'timor', 'tin', 'tiny', 'tip', 'tips', 'tirana', 'tire', 'tissue', 'titanic', 'titanium', 'titans', 'title', 'titled', 'titles', 'titus', 'to', 'toast', 'today', 'toes', 'toilet', 'tokens', 'tokyo', 'told', 'tolkien', 'toll', 'tolling', 'tolstoy', 'tom', 'tomato', 'ton', 'tongue', 'tonne', 'tons', 'tonsils', 'tony', 'too', 'took', 'tools', 'tooth', 'toothbrush', 'toothpaste', 'tootin', 'tootsie', 'top', 'topic', 'topophobic', 'topped', 'topple', 'toppling', 'tornado', 'tornadoes', 'tornados', 'tossing', 'total', 'touch', 'touchbacks', 'touchdowns', 'touched', 'touching', 'toulmin', 'tour', 'touring', 'tourism', 'tourist', 'tourists', 'tournament', 'tournaments', 'tours', 'tout', 'touted', 'toward', 'tower', 'town', 'toy', 'toys', 'trace', 'track', 'tractors', 'tracy', 'trade', 'traded', 'trademark', 'trademarks', 'trader', 'trading', 'tradition', 'traditional', 'traditions', 'trafalgar', 'traffic', 'tragedy', 'tragic', 'trail', 'train', 'trainer', 'training', 'traits', 'tramped', 'trans', 'transcript', 'transistor', 'transistors', 'translate', 'translated', 'translation', 'translations', 'transmitted', 'transparent', 'transplant', 'transplants', 'transport', 'transported', 'travel', 'traveled', 'travelers', 'traveling', 'travelling', 'travels', 'traversed', 'treason', 'treasure', 'treasury', 'treat', 'treated', 'treatment', 'treatments', 'tree', 'treehouse', 'trees', 'trek', 'trial', 'trials', 'triangle', 'tribe', 'tribes', 'tried', 'tries', 'trigonometry', 'trillion', 'trilogy', 'trinidad', 'trinitrotoluene', 'trip', 'triple', 'triplets', 'tristan', 'tristar', 'trivial', 'troilism', 'trojan', 'troop', 'troops', 'trophy', 'tropical', 'truck', 'true', 'truly', 'truman', 'truth', 'try', 'trying', 'tsetse', 'tub', 'tube', 'tuberculosis', 'tubetti', 'tucson', 'tufts', 'tulip', 'tumbled', 'tumbling', 'tune', 'tungsten', 'tunnel', 'turbulent', 'turin', 'turkey', 'turks', 'turn', 'turned', 'turner', 'turning', 'turnkey', 'turns', 'turret', 'tussaud', 'tutankhamun', 'tutu', 'tv', 'twain', 'tweety', 'tweezers', 'twelve', 'twenty', 'twice', 'twin', 'twins', 'twirl', 'two', 'ty', 'tyler', 'tylo', 'type', 'types', 'typewriter', 'typhoid', 'typical', 'typically', 'typing', 'typist', 'tyrannosaurus', 'tyvek', 'tzimisce', 'uber', 'ugly', 'uk', 'ukraine', 'ukrainians', 'ukulele', 'ultimate', 'ultraviolet', 'ulysses', 'umbrellas', 'un', 'unaccounted', 'unanswerable', 'unarmed', 'uncle', 'under', 'underage', 'underground', 'understand', 'underwater', 'underworld', 'unemployment', 'unfamiliar', 'unification', 'uniform', 'uniforms', 'union', 'unique', 'united', 'universal', 'universe', 'university', 'unknown', 'unleashed', 'unsafe', 'unsuccessful', 'until', 'untouchables', 'unum', 'unusual', 'uol', 'up', 'uplands', 'upon', 'upper', 'uprising', 'upstaged', 'upstairs', 'urals', 'urban', 'urged', 'urgent', 'uris', 'url', 'urologist', 'ursula', 'uruguay', 'us', 'usa', 'usage', 'usb', 'use', 'used', 'useful', 'usenet', 'user', 'users', 'uses', 'using', 'ussr', 'usually', 'utah', 'utensils', 'utilities', 'v1', 'vacations', 'vaccine', 'vacuum', 'vader', 'vagina', 'valdez', 'valentine', 'valley', 'valuable', 'value', 'values', 'valve', 'vamp', 'van', 'vapor', 'varian', 'variations', 'varieties', 'variety', 'various', 'vasco', 'vatican', 'vats', 'vb', 'vbp', 'vcr', 'vdrl', 've', 'veal', 'vegas', 'vegetable', 'vegetables', 'vegetation', 'veh', 'vehicle', 'vehicles', 'veins', 'vending', 'venetian', 'venice', 'ventura', 'venture', 'venus', 'vera', 'verdandi', 'verdict', 'verification', 'vermicilli', 'vermont', 'vermouth', 'vernal', 'verne', 'veronica', 'verse', 'verses', 'version', 'very', 'vessel', 'vessels', 'vesting', 'vesuvius', 'veterans', 'vhf', 'vhs', 'via', 'viagra', 'vice', 'viceroy', 'vichy', 'vichyssoise', 'victim', 'victims', 'victor', 'victoria', 'victorian', 'victory', 'video', 'videotape', 'vienna', 'vietnam', 'vietnamese', 'viewing', 'viii', 'viking', 'village', 'villain', 'villainous', 'villi', 'vince', 'vincent', 'vinci', 'vineyard', 'violates', 'violent', 'violins', 'virgin', 'virginia', 'virtual', 'virtues', 'virus', 'viscosity', 'visible', 'visine', 'visit', 'visited', 'visiting', 'visitors', 'visual', 'vitamin', 'vitamins', 'vitreous', 'vladimir', 'vlaja', 'vocal', 'vocalist', 'vocals', 'vodka', 'voice', 'voices', 'void', 'volcano', 'volcanoes', 'volkswagen', 'volley', 'volleyball', 'volsize', 'volume', 'von', 'voorhees', 'vote', 'voter', 'votes', 'voting', 'vowel', 'voyage', 'voyager', 'vs', 'vw', 'waco', 'wade', 'wage', 'wake', 'wakefield', 'walden', 'walk', 'walked', 'walker', 'walking', 'walks', 'wall', 'wallbanger', 'wallpaper', 'walls', 'walt', 'walter', 'wander', 'wang', 'wanna', 'want', 'war', 'warfare', 'warhol', 'warlock', 'warm', 'warmup', 'warn', 'warned', 'warner', 'warp', 'warren', 'wars', 'wart', 'was', 'wash', 'washed', 'washington', 'wasn', 'wasps', 'wassermann', 'waste', 'watch', 'watchers', 'watching', 'watchman', 'water', 'waterfall', 'watergate', 'waterways', 'watts', 'waugh', 'wave', 'waved', 'waverly', 'wax', 'way', 'wayne', 'waynesburg', 'ways', 'we', 'weakest', 'weakness', 'weaknesses', 'wealthiest', 'weapon', 'weapons', 'wear', 'wearing', 'wears', 'weather', 'web', 'weber', 'webpage', 'website', 'websites', 'webster', 'wedding', 'wee', 'week', 'weekend', 'weeks', 'weft', 'weigh', 'weight', 'weir', 'weird', 'well', 'wells', 'wembley', 'wenceslas', 'wendy', 'went', 'were', 'werewolf', 'west', 'western', 'westernmost', 'westview', 'westward', 'wet', 'whale', 'wharton', 'what', 'whatever', 'wheat', 'wheatfield', 'wheel', 'wheels', 'when', 'where', 'which', 'while', 'whip', 'whiskers', 'whisky', 'whist', 'whitcomb', 'white', 'whitetail', 'who', 'whoever', 'whole', 'whom', 'whorehouse', 'whose', 'why', 'wick', 'wicket', 'wide', 'widely', 'widmark', 'wielded', 'wiener', 'wife', 'wiggins', 'wilbur', 'wild', 'wilder', 'wilderness', 'wilding', 'wildlife', 'wile', 'wilhelm', 'wilkes', 'will', 'william', 'williams', 'willie', 'willin', 'wills', 'willy', 'wilson', 'wimbledon', 'win', 'wind', 'windmills', 'window', 'windows', 'winds', 'windshield', 'windsor', 'wine', 'wines', 'wing', 'wings', 'wingspan', 'winkerbean', 'winkie', 'winner', 'winners', 'winnie', 'winning', 'wins', 'winslow', 'winston', 'winter', 'winters', 'wiper', 'wisconsin', 'wise', 'wished', 'witch', 'witches', 'with', 'within', 'without', 'witness', 'witnesses', 'wittenberg', 'wives', 'wiz', 'wizard', 'wladyslaw', 'woke', 'wolfe', 'wolfman', 'wolfsheim', 'wolverine', 'woman', 'women', 'won', 'wonder', 'wonderbra', 'wonderland', 'wonders', 'woo', 'wood', 'woodpecker', 'woodpeckers', 'woodrow', 'woods', 'woodstock', 'woodward', 'woody', 'wop', 'word', 'words', 'wordsworth', 'work', 'worked', 'workers', 'working', 'world', 'worlds', 'worldwide', 'worm', 'worms', 'worst', 'worth', 'would', 'wound', 'wrap', 'wrath', 'wreaked', 'wreaks', 'wreckage', 'wrestler', 'wrestling', 'wright', 'wrist', 'writ', 'write', 'writer', 'writers', 'writing', 'written', 'wrote', 'wu', 'wwf', 'wwi', 'wwii', 'www', 'wyoming', 'xoxoxox', 'xv', 'ya', 'yacht', 'yachts', 'yahoo', 'yakutsk', 'yale', 'yalta', 'yank', 'yankee', 'yankees', 'yard', 'yards', 'yaroslavl', 'ybarra', 'year', 'yearly', 'years', 'yeat', 'yell', 'yellow', 'yellowstone', 'yemen', 'yes', 'yesterdays', 'yet', 'yiddish', 'yield', 'yo', 'yogi', 'yogurt', 'yohimbine', 'yom', 'yoo', 'york', 'yorktown', 'yos', 'you', 'yougurt', 'young', 'younger', 'youngest', 'youngman', 'youngsters', 'younis', 'your', 'yous', 'yousuf', 'youth', 'yugoslavians', 'yukon', 'zadora', 'zapper', 'zatanna', 'zealand', 'zebras', 'zebulon', 'zenger', 'zeppelin', 'zero', 'zeros', 'zimbabwe', 'zionism', 'zip', 'zipper', 'zitoni', 'zodiac', 'zodiacal', 'zolotow', 'zone', 'zones', 'zoo', 'zoological', 'zoonose', 'zorro']\n"
          ],
          "name": "stdout"
        }
      ]
    },
    {
      "cell_type": "code",
      "metadata": {
        "id": "Do-ioKkDY5XU",
        "colab_type": "code",
        "outputId": "569f865c-9442-401b-fa02-b7826269d010",
        "colab": {
          "base_uri": "https://localhost:8080/",
          "height": 53
        }
      },
      "source": [
        "\n",
        "count_vect = CountVectorizer(analyzer='word', stop_words = 'english',token_pattern=r'\\w{1,}')\n",
        "count_vect.fit(df['Text'])\n",
        "\n",
        "print(count_vect.get_feature_names())"
      ],
      "execution_count": 0,
      "outputs": [
        {
          "output_type": "stream",
          "text": [
            "['0', '000', '000th', '007', '1', '10', '100', '103', '11', '111', '11th', '12', '123', '12601', '13', '137', '139', '14', '15', '155', '1562', '15th', '16', '1603', '1642', '1649', '165', '1669', '168', '1699', '16th', '17', '172', '173', '175', '1767', '1779', '1781', '1787', '1789', '1797', '18', '1800s', '1812', '1815', '1830', '1832', '1834', '1835', '1842', '1847', '1849', '185', '1853', '1857', '1863', '1865', '1866', '1870', '1872', '1873', '1879', '187s', '188', '1880', '1881', '1885', '1886', '1891', '1892', '1893', '1895', '1896', '1898', '1899', '19', '1900s', '191', '1912', '1913', '1915', '1916', '1919', '192', '1920s', '1922', '1923', '1925', '1926', '1927', '1928', '1929', '193', '1930s', '1931', '1932', '1933', '1935', '1936', '1937', '1939', '194', '1940', '1940s', '1941', '1942', '1943', '1945', '1946', '1948', '195', '1950', '1951', '1952', '1953', '1954', '1955', '1956', '1957', '1958', '1959', '196', '1960', '1960s', '1961', '1962', '1963', '1964', '1965', '1966', '1967', '1968', '1969', '197', '1970s', '1971', '1972', '1973', '1974', '1975', '1976', '1977', '1978', '1979', '198', '1980', '1980s', '1981', '1982', '1983', '1984', '1985', '1988', '1989', '199', '1990', '1990s', '1991', '1992', '1993', '1994', '1996', '1997', '1998', '1999', '19th', '1st', '2', '20', '200', '2000', '2001', '2010', '2020', '20th', '21', '2112', '219', '22', '227', '23', '239', '24', '25', '25th', '26', '27', '28', '280', '287', '2th', '3', '31', '313', '32', '327', '33', '35', '36893', '37803', '387', '39', '3rd', '4', '401', '42', '43rd', '455', '45mhz', '46', '468', '47', '48', '48th', '49', '4th', '5', '500', '50s', '52', '528', '54c', '55', '56', '576', '5943', '5th', '6', '600', '61', '64', '69', '6th', '7', '70', '72', '732', '737', '740', '755', '76', '7847', '7th', '8', '80', '836', '84', '85', '86', '864', '86ed', '8th', '9', '90', '900', '924', '95', '98', '985', '9971', '999', '9th', 'a_tisket', 'aaa', 'aaron', 'abacus', 'abandoned', 'abb', 'abbey', 'abbie', 'abbreviate', 'abbreviated', 'abbreviation', 'abby', 'abdication', 'abdominal', 'abigail', 'abilities', 'ability', 'abner', 'abolished', 'abolitionists', 'abominable', 'aborigines', 'abraham', 'absolute', 'abstract', 'abundant', 'abuse', 'abzug', 'academy', 'acceptance', 'accepted', 'access', 'accessory', 'accident', 'accidents', 'accommodate', 'accompanied', 'accompanying', 'according', 'account', 'accused', 'ace', 'acetylsalicylic', 'acheive', 'achievement', 'achievements', 'achieves', 'acid', 'acidic', 'aclu', 'acne', 'acoustic', 'acquaintance', 'acquitted', 'acreage', 'acres', 'acronym', 'act', 'acted', 'acting', 'action', 'activated', 'active', 'activity', 'actor', 'actors', 'actress', 'actual', 'actually', 'ad', 'adam', 'adapter', 'add', 'added', 'adding', 'address', 'addresses', 'adenauer', 'adjacent', 'adjoining', 'adjournment', 'administration', 'admiral', 'admit', 'admitted', 'admonition', 'ado', 'adopt', 'adopted', 'adoptive', 'adorns', 'ads', 'adult', 'adults', 'advanced', 'advantages', 'adventours', 'adventures', 'adventuring', 'advertise', 'advertised', 'advertises', 'advertising', 'advertizing', 'advised', 'advisory', 'advocate', 'aerodynamics', 'aesop', 'aeul', 'affair', 'affairs', 'affect', 'affected', 'affectionate', 'affiant', 'afflict', 'afghanistan', 'afoot', 'afraid', 'africa', 'african', 'afs', 'afternoon', 'aftra', 'age', 'aged', 'agencies', 'agency', 'agent', 'agents', 'ages', 'aging', 'ago', 'agra', 'agree', 'agreement', 'agricultural', 'ahead', 'aid', 'aids', 'ailment', 'aim', 'aimed', 'air', 'aircraft', 'airforce', 'airline', 'airliners', 'airman', 'airplane', 'airplanes', 'airport', 'airports', 'airwaves', 'akita', 'al', 'alabama', 'aladdin', 'alamein', 'alan', 'alaska', 'albee', 'albert', 'album', 'albums', 'alcatraz', 'alcohol', 'alcoholic', 'alda', 'aldous', 'aldrin', 'alexander', 'alexandra', 'alexandre', 'algeria', 'algiers', 'ali', 'alice', 'alive', 'allah', 'allan', 'alleged', 'allegedly', 'allen', 'alley', 'alliance', 'allies', 'allow', 'allowed', 'alloy', 'allsburg', 'ally', 'almanac', 'alpert', 'alpha', 'alphabet', 'alphabetical', 'alphabetically', 'altered', 'alternate', 'alternative', 'alternator', 'alveoli', 'alvin', 'alyssa', 'amaretto', 'amateur', 'amazing', 'amazon', 'amazonis', 'amazons', 'ambassador', 'ambassadorial', 'amelia', 'amen', 'amended', 'amendements', 'amendment', 'america', 'american', 'americans', 'americas', 'amezaiku', 'amherst', 'amicable', 'amish', 'amphibians', 'amsterdam', 'amtrak', 'analysis', 'analyst', 'ancestral', 'ancient', 'ancients', 'anderson', 'andie', 'andorra', 'andrea', 'andress', 'andrew', 'andrews', 'andy', 'anesthetic', 'aneurysm', 'angel', 'angela', 'angeles', 'angelica', 'angels', 'angelus', 'angles', 'anglican', 'anglicans', 'animal', 'animals', 'animated', 'anita', 'anka', 'ankle', 'anna', 'anne', 'annie', 'anniversary', 'annotated', 'announce', 'announced', 'annual', 'anopheles', 'anorexia', 'answers', 'antarctica', 'ante', 'anteater', 'anthem', 'anthony', 'anti', 'antichrist', 'antidisestablishmentarianism', 'antigua', 'antilles', 'antonia', 'antonio', 'ants', 'anus', 'anybody', 'anymore', 'anzus', 'aol', 'aortic', 'apache', 'apart', 'apartheid', 'apartment', 'apartments', 'apocalypse', 'apollo', 'apostle', 'appalachian', 'apparel', 'appear', 'appearance', 'appearances', 'appeared', 'appears', 'appendix', 'apple', 'apples', 'application', 'applied', 'appoint', 'appointed', 'appointing', 'appointments', 'approaches', 'approaching', 'appropriate', 'appropriately', 'appropriates', 'approval', 'approximate', 'approximately', 'apricot', 'april', 'apso', 'aquatic', 'arab', 'arabia', 'arabian', 'arabic', 'arcadia', 'arcane', 'arch', 'archenemy', 'archer', 'archery', 'arches', 'archie', 'archimedes', 'architect', 'architecture', 'archy', 'arctic', 'area', 'areas', 'argentina', 'argentine', 'argon', 'argonauts', 'aristotle', 'ark', 'arkansas', 'arles', 'armed', 'armor', 'arms', 'armstrong', 'army', 'arnold', 'arometherapy', 'aroused', 'arrested', 'arriving', 'arrow', 'arsenal', 'arson', 'art', 'artemis', 'arthur', 'article', 'articles', 'artificial', 'artist', 'artists', 'arts', 'ash', 'ashen', 'asia', 'asian', 'asiento', 'ask', 'asked', 'asleep', 'aspartame', 'assassin', 'assassinate', 'assassinated', 'assassination', 'assassinations', 'assembly', 'assent', 'assign', 'assigned', 'assisi', 'associated', 'associates', 'association', 'associaton', 'assume', 'astaire', 'asthma', 'astor', 'astronaut', 'astronauts', 'astronomer', 'astronomical', 'astroturf', 'atari', 'athens', 'athlete', 'athletes', 'athletic', 'atlantic', 'atlas', 'atm', 'atmosphere', 'atom', 'attack', 'attacked', 'attacks', 'attempt', 'attempts', 'attend', 'attendance', 'attendant', 'attends', 'attic', 'attire', 'attorney', 'attorneys', 'attract', 'attraction', 'attractions', 'attracts', 'auberge', 'audience', 'audio', 'audrey', 'auerstadt', 'august', 'auh2o', 'aunt', 'aurora', 'austerlitz', 'australia', 'australian', 'austria', 'author', 'authorities', 'authors', 'auto', 'autobiography', 'autoimmune', 'automation', 'automobile', 'automobiles', 'autry', 'available', 'avalanche', 'avenue', 'average', 'avery', 'aviator', 'aviv', 'avoid', 'awakes', 'award', 'awarded', 'awards', 'away', 'ayer', 'aykroyd', 'aztec', 'aztecs', 'b', 'b12', 'babar', 'babe', 'baby', 'bacall', 'bachelor', 'backgammon', 'background', 'backstreet', 'backup', 'bacon', 'bad', 'badaling', 'badge', 'badgers', 'badly', 'badu', 'baffin', 'bagdad', 'bagels', 'baggins', 'baghdad', 'bailey', 'bails', 'baja', 'baker', 'bakery', 'baking', 'balance', 'bald', 'ball', 'ballad', 'ballcock', 'ballet', 'balloon', 'ballots', 'balls', 'baltic', 'banana', 'band', 'bandit', 'bandleader', 'bands', 'bang', 'bank', 'banking', 'bankruptcy', 'banks', 'banned', 'banner', 'bar', 'barbados', 'barbara', 'barbary', 'barbeque', 'barbershop', 'barbie', 'bare', 'baretta', 'barkis', 'barney', 'barnstorming', 'barnum', 'barr', 'barred', 'barrett', 'barrier', 'barroom', 'barrymore', 'bars', 'barton', 'baryshnikov', 'base', 'baseball', 'based', 'baseemen', 'baseman', 'basic', 'basidiomycetes', 'basilica', 'basketball', 'baskin', 'basophobic', 'basque', 'bastille', 'bat', 'batcycle', 'bateau', 'bathing', 'bathroom', 'batman', 'batmobile', 'batteries', 'battery', 'battle', 'battlefield', 'battles', 'battleship', 'bavaria', 'bavarian', 'bay', 'bayer', 'beach', 'beaches', 'beak', 'beanie', 'beans', 'beany', 'bear', 'beard', 'bearer', 'bears', 'beasley', 'beast', 'beat', 'beata', 'beating', 'beatles', 'beatrix', 'beats', 'beautiful', 'beauty', 'beaver', 'bebrenia', 'becket', 'bed', 'bedroom', 'bee', 'beef', 'beer', 'beers', 'bees', 'beethoven', 'beetle', 'befell', 'began', 'begin', 'beginning', 'begins', 'begun', 'behavior', 'beholder', 'belgium', 'belgrade', 'believe', 'believed', 'belize', 'bell', 'bella', 'belle', 'bells', 'bellworts', 'belly', 'belmont', 'belong', 'belonged', 'belt', 'belushi', 'ben', 'bend', 'bendix', 'bends', 'beneath', 'benedict', 'benefits', 'benelux', 'benjamin', 'benny', 'benson', 'bentos', 'bergen', 'bergeres', 'bergman', 'bering', 'berlin', 'bermuda', 'bernadette', 'bernard', 'bernardo', 'bernini', 'bernoulli', 'bernstein', 'berry', 'bert', 'berth', 'beryl', 'bess', 'best', 'bestowed', 'bestselling', 'bet', 'betrayed', 'betsy', 'bette', 'better', 'betting', 'betty', 'beverly', 'bible', 'bibles', 'biblical', 'bibliographies', 'bibliography', 'bic', 'biceps', 'bicornate', 'bid', 'big', 'bigfoot', 'bigger', 'biggest', 'bikini', 'bilbo', 'billiards', 'billie', 'billingsgate', 'billion', 'billionth', 'bills', 'billy', 'biloxi', 'bingo', 'binomial', 'biochemists', 'biographer', 'biography', 'biologist', 'biorhythm', 'bios', 'bird', 'birds', 'biritch', 'birth', 'birthdate', 'birthday', 'birthplace', 'births', 'birthstone', 'biscay', 'biscuits', 'bishop', 'bisset', 'bite', 'bith', 'bitmap', 'biz', 'bjorn', 'black', 'blackhawk', 'blackhawks', 'blackjack', 'blacks', 'bladerunner', 'blair', 'blaise', 'blanc', 'blank', 'blasted', 'blatty', 'bleach', 'blend', 'bless', 'blew', 'bligh', 'blind', 'blinking', 'blob', 'blobbo', 'block', 'blockade', 'blonde', 'blondes', 'blood', 'bloodhound', 'bloom', 'blow', 'blows', 'blue', 'blues', 'blunder', 'blush', 'blythe', 'bmw', 'board', 'boarders', 'boards', 'boardwalk', 'boasts', 'boat', 'boats', 'bob', 'bobby', 'boc', 'bocci', 'bodies', 'body', 'boeing', 'bog', 'bogart', 'bogs', 'bohannon', 'boheme', 'boil', 'boiled', 'boilermaker', 'boleyn', 'bolivia', 'bolt', 'bomb', 'bombay', 'bombing', 'bombshell', 'bond', 'bonds', 'bone', 'bones', 'bonnie', 'boob', 'book', 'books', 'bookshop', 'boom', 'boomer', 'boop', 'boost', 'boosters', 'booth', 'borden', 'border', 'bordering', 'borders', 'borg', 'boris', 'born', 'borrow', 'boru', 'boss', 'boston', 'botanical', 'bottle', 'bottled', 'bottles', 'bought', 'boulevard', 'bounded', 'bounty', 'bourbon', 'bourdon', 'bourgeoisie', 'bouvier', 'bovine', 'bow', 'bowl', 'bowler', 'bowling', 'bowls', 'box', 'boxcars', 'boxer', 'boxes', 'boxing', 'boy', 'boycott', 'boycotted', 'boyfriend', 'boys', 'bph', 'bra', 'bradbury', 'bradley', 'braille', 'brain', 'brake', 'brakes', 'brand', 'brandenburg', 'brandt', 'bras', 'brass', 'braun', 'brave', 'brazil', 'brazilian', 'bread', 'break', 'breakfast', 'breaking', 'breath', 'breathe', 'breed', 'breeding', 'breeds', 'bremer', 'brenner', 'breony', 'brethren', 'brew', 'breweries', 'brian', 'bricks', 'bridge', 'bridges', 'brief', 'brigham', 'brightest', 'brilliant', 'brillo', 'brimstone', 'bring', 'bristol', 'britain', 'british', 'britney', 'broadcast', 'broadcasting', 'broadway', 'brodie', 'broke', 'broken', 'brontosauruses', 'bronze', 'brooklyn', 'brooks', 'bros', 'brothel', 'brother', 'brothers', 'brought', 'brown', 'browns', 'browser', 'bruce', 'bruegel', 'brunei', 'brunettes', 'brunswick', 'brush', 'bryant', 'btu', 'bubble', 'bubblegum', 'bucher', 'bucks', 'bud', 'buda', 'budapest', 'buddy', 'buds', 'budweis', 'budweiser', 'buffalo', 'buffett', 'bug', 'bugs', 'build', 'builder', 'builders', 'building', 'buildings', 'builds', 'built', 'bulbs', 'bulgaricus', 'bulge', 'bull', 'bulletin', 'bullets', 'bullfighting', 'bullheads', 'bullock', 'bulls', 'bullseye', 'bullwinkle', 'bums', 'bunch', 'bunker', 'bunyan', 'bureau', 'bureaucracy', 'burglar', 'burglary', 'burial', 'buried', 'burkina', 'burma', 'burn', 'burned', 'burnford', 'burns', 'burnt', 'burr', 'burroughs', 'burst', 'bus', 'buses', 'bush', 'busiest', 'business', 'businesses', 'businessman', 'bust', 'butch', 'butcher', 'butler', 'butt', 'butter', 'butterfield', 'button', 'buttons', 'buxom', 'buy', 'buys', 'buzz', 'bytes', 'byzantine', 'c', 'cabarnet', 'caber', 'cabinet', 'cabinetmaker', 'cabinets', 'cable', 'cables', 'caboose', 'cache', 'cactus', 'cad', 'cadmium', 'caesar', 'caffeinated', 'caffeine', 'cage', 'caine', 'cairo', 'cake', 'calcium', 'calculate', 'calculator', 'calcutta', 'calder', 'caldera', 'caldwell', 'calendar', 'calgary', 'calhoun', 'caliente', 'california', 'called', 'calleda', 'callosum', 'calls', 'calluses', 'calories', 'calvin', 'calypso', 'camaro', 'cambodia', 'camcorders', 'camden', 'came', 'camel', 'camels', 'camera', 'cameras', 'camp', 'campaign', 'campbell', 'camps', 'camptown', 'canada', 'canadian', 'canadians', 'canal', 'canals', 'canary', 'cancer', 'candice', 'candle', 'candlemas', 'candy', 'cane', 'canfield', 'canine', 'canker', 'cannabis', 'canning', 'cannon', 'canon', 'canonize', 'cans', 'canyon', 'cap', 'capita', 'capital', 'capitalism', 'capitalizes', 'capone', 'capp', 'capricorns', 'caps', 'captain', 'captained', 'captive', 'capture', 'captured', 'car', 'carbon', 'carcinogens', 'card', 'cardinal', 'cards', 'care', 'career', 'carefreeness', 'carelessness', 'caribbean', 'carl', 'carmania', 'carol', 'carolina', 'carolingian', 'caroll', 'carpal', 'carpenter', 'carpet', 'carre', 'carried', 'carrier', 'carriers', 'carries', 'carroll', 'carry', 'carrying', 'cars', 'carson', 'carta', 'carter', 'cartesian', 'cartier', 'cartoon', 'cartoondom', 'cartoonist', 'cartoons', 'casablanca', 'cascade', 'case', 'cases', 'casey', 'cash', 'casinos', 'casper', 'cassidey', 'castellated', 'casting', 'castle', 'castles', 'castor', 'castro', 'cat', 'catalogues', 'catch', 'categorized', 'category', 'cathedral', 'catherine', 'catholic', 'cats', 'catsup', 'caucasian', 'caught', 'caul', 'caulfield', 'cauliflower', 'cause', 'caused', 'causes', 'causing', 'cavaliers', 'cave', 'cawdor', 'cayman', 'cbs', 'cc', 'cct', 'cd', 'cds', 'ce', 'cecil', 'cecum', 'celebrated', 'celebrations', 'celebrities', 'celebrity', 'celestial', 'celestials', 'cells', 'cellulose', 'celtic', 'cement', 'cemetery', 'cent', 'center', 'centers', 'centigrade', 'central', 'cents', 'centurion', 'century', 'cereal', 'ceremony', 'certain', 'certified', 'cervantes', 'chablis', 'chain', 'chair', 'chairbound', 'chairman', 'chairs', 'challenge', 'challenged', 'challengers', 'chamber', 'champion', 'champions', 'championship', 'chance', 'chancellor', 'chancery', 'chances', 'chandler', 'change', 'changed', 'changes', 'channel', 'chapel', 'chaplin', 'chapman', 'chappellet', 'chapter', 'character', 'characteristics', 'characters', 'characterstics', 'charcoal', 'charcter', 'charge', 'charles', 'charley', 'charlie', 'chartered', 'check', 'checkmate', 'cheeks', 'cheerios', 'cheery', 'cheese', 'cheetahs', 'chef', 'chefs', 'chemical', 'chemicals', 'chemiosmotic', 'chernobyl', 'cherokee', 'cherry', 'cherubs', 'chesapeake', 'chess', 'chessboard', 'chest', 'chevrolet', 'chewing', 'chiang', 'chicago', 'chick', 'chickadee', 'chicken', 'chickenpoxs', 'chickens', 'chicks', 'chief', 'chiefly', 'chiefs', 'chiffons', 'chihuahuas', 'child', 'childbirth', 'childhood', 'children', 'chile', 'chilean', 'chilly', 'chin', 'china', 'chinese', 'chino', 'chip', 'chiricahua', 'chiropodist', 'chivington', 'chloroplasts', 'chocolate', 'chocolates', 'choice', 'cholera', 'chomper', 'choo', 'choose', 'chop', 'chops', 'chosen', 'chow', 'chris', 'christ', 'christi', 'christian', 'christina', 'christine', 'christmas', 'christopher', 'chromatology', 'chromosome', 'chronic', 'chronicled', 'chronicles', 'chuck', 'church', 'churches', 'churchill', 'cid', 'cigar', 'cigarette', 'cincinnati', 'cinzano', 'circle', 'circulation', 'circulatory', 'circumcision', 'circumnavigator', 'circumorbital', 'circus', 'cisalpine', 'cisco', 'cities', 'citizen', 'citizens', 'city', 'civil', 'civilization', 'claim', 'claimed', 'claiming', 'claims', 'clara', 'clarabell', 'clark', 'class', 'classic', 'classical', 'classification', 'classified', 'claus', 'clause', 'claws', 'clay', 'clean', 'cleaner', 'clear', 'clearer', 'cleaveland', 'cleopatra', 'cleveland', 'cliff', 'climate', 'climb', 'climbed', 'climbing', 'climbs', 'clinic', 'clinton', 'clip', 'clitoridectomy', 'clitoris', 'clock', 'clockwise', 'clone', 'close', 'closed', 'closest', 'closing', 'clot', 'cloth', 'clothes', 'clothing', 'cloud', 'clouds', 'clown', 'club', 'clubs', 'clue', 'clyde', 'cnn', 'coach', 'coaching', 'coal', 'coast', 'coastal', 'coastline', 'coastlines', 'cob', 'cobain', 'cobb', 'cobol', 'coca', 'cocaine', 'cockatoo', 'cockroaches', 'cocktail', 'coconut', 'coddle', 'code', 'codes', 'cody', 'coefficients', 'coffee', 'cognac', 'cohan', 'coho', 'coin', 'coined', 'cola', 'cold', 'cole', 'coleman', 'colin', 'collabrative', 'collapsed', 'collect', 'collectible', 'collection', 'collective', 'collector', 'college', 'colleges', 'collided', 'collier', 'collins', 'cologne', 'colombia', 'colonel', 'colonial', 'colonies', 'colonists', 'colony', 'color', 'colorado', 'colored', 'colorful', 'colors', 'colt', 'columbia', 'columbus', 'com', 'comaneci', 'combat', 'combatting', 'combinations', 'combined', 'combustion', 'come', 'comedian', 'comedienne', 'comediennes', 'comedy', 'comes', 'comfortable', 'comic', 'comics', 'coming', 'command', 'commandant', 'commanded', 'commander', 'commanders', 'commandments', 'commentary', 'commerce', 'commercial', 'commercially', 'commercials', 'commission', 'commissioner', 'commit', 'committee', 'commodity', 'common', 'commonly', 'commonplace', 'commonwealth', 'commune', 'communications', 'communist', 'community', 'companies', 'companion', 'company', 'compaq', 'compare', 'compared', 'comparisons', 'compass', 'compatible', 'compete', 'competition', 'competitor', 'compile', 'compiled', 'complemented', 'complete', 'completed', 'complex', 'components', 'composer', 'composition', 'compound', 'compounds', 'comprised', 'comprises', 'computer', 'computers', 'conceived', 'conceiving', 'concentration', 'conception', 'concerning', 'concert', 'concerts', 'concoct', 'concorde', 'concrete', 'condemn', 'condensed', 'condiment', 'condition', 'conditioner', 'conditioning', 'conditions', 'condoms', 'condor', 'conductor', 'cone', 'coney', 'confederate', 'conference', 'confession', 'conflicts', 'conformist', 'confucius', 'congo', 'congress', 'congressional', 'congressman', 'conifer', 'conjugations', 'conjured', 'connected', 'connecticut', 'connection', 'conquered', 'conrad', 'conscious', 'consciousness', 'consecutive', 'consecutively', 'conservancy', 'conservation', 'conservationist', 'consider', 'considered', 'considering', 'consist', 'consisting', 'consortium', 'constantly', 'constellation', 'constipation', 'constitute', 'constitutes', 'constitution', 'constructed', 'construction', 'consumption', 'contact', 'contagious', 'contain', 'contained', 'contains', 'contemplating', 'contemporary', 'contemptible', 'contents', 'conterminous', 'contest', 'contestant', 'contibution', 'continent', 'continental', 'continents', 'continuing', 'contra', 'contraceptives', 'contract', 'contribute', 'contributed', 'contributions', 'control', 'controls', 'converge', 'conversion', 'convert', 'converting', 'convicted', 'cook', 'cookbook', 'cookers', 'cookie', 'cookies', 'cooking', 'cool', 'cooler', 'cooling', 'cooper', 'coordinate', 'coot', 'cop', 'copacabana', 'copier', 'copies', 'copper', 'coppertop', 'coprolite', 'copy', 'copyright', 'copyrighted', 'coral', 'corbett', 'corgi', 'cork', 'corn', 'cornell', 'corner', 'corners', 'coronado', 'corporal', 'corporate', 'corporation', 'corps', 'corpus', 'correct', 'correctly', 'correspondent', 'corresponding', 'corridors', 'corsica', 'cortez', 'corvette', 'cos', 'cosmology', 'cost', 'costa', 'costliest', 'costner', 'costs', 'costume', 'costumed', 'cotrubas', 'cotton', 'cough', 'coulee', 'council', 'count', 'counterclockwise', 'counterpart', 'counties', 'countries', 'country', 'county', 'coup', 'couple', 'coupled', 'courage', 'courier', 'course', 'court', 'cousin', 'cousins', 'cousteau', 'cover', 'covered', 'covers', 'covrefeu', 'cow', 'cowardly', 'cowboy', 'cowboys', 'cowrote', 'cows', 'coyote', 'cozumel', 'cpr', 'crabgrass', 'crabs', 'crack', 'cracker', 'crackle', 'craft', 'craig', 'cranberry', 'cranes', 'craps', 'crash', 'crave', 'crayola', 'crayon', 'crazy', 'cream', 'creams', 'create', 'created', 'creating', 'creation', 'creative', 'creator', 'creature', 'creatures', 'credit', 'credited', 'credits', 'creek', 'creeps', 'cremat', 'crew', 'crewel', 'crib', 'cribbage', 'cricket', 'cricketer', 'crime', 'crimean', 'criminal', 'criminologist', 'crisscrosses', 'critical', 'criticism', 'criticizing', 'crocodile', 'crokinole', 'cromwell', 'crooner', 'crop', 'crops', 'cross', 'crossed', 'crosstalk', 'crossword', 'crouching', 'crowd', 'crown', 'crowned', 'crows', 'crucifixion', 'cruel', 'cruise', 'cruiser', 'crusaders', 'crust', 'crypt', 'crystals', 'ct', 'ctbt', 'cuba', 'cube', 'cubic', 'cuckoo', 'cuckquean', 'cucumber', 'cullion', 'cullions', 'cult', 'cultivated', 'cultural', 'culture', 'cumin', 'cunnilingus', 'cup', 'cupboard', 'cured', 'curies', 'curious', 'curl', 'currency', 'current', 'currently', 'currents', 'cushman', 'custody', 'cut', 'cwt', 'cyberspace', 'cyclist', 'cyclone', 'cystic', 'czar', 'czech', 'd', 'da', 'daily', 'dairy', 'daisy', 'dakota', 'dale', 'dali', 'dam', 'damage', 'dame', 'daminozide', 'damocles', 'dams', 'dan', 'dana', 'danced', 'dancer', 'dancing', 'dandy', 'dane', 'dangles', 'dangling', 'daniel', 'dannon', 'danube', 'danza', 'dare', 'daring', 'darius', 'darkness', 'darla', 'darn', 'darning', 'dartboard', 'darth', 'dartmouth', 'darts', 'darwin', 'data', 'database', 'date', 'dates', 'dating', 'daughter', 'daughters', 'david', 'davies', 'davis', 'daws', 'dawson', 'daxam', 'day', 'daycare', 'daylight', 'days', 'dbf', 'dc', 'deacon', 'dead', 'deadliest', 'deadly', 'deadrise', 'deadwood', 'deal', 'dealer', 'dealing', 'deals', 'dealt', 'dear', 'death', 'debate', 'debbie', 'debt', 'debts', 'debut', 'decade', 'decathlon', 'december', 'decided', 'decision', 'deck', 'declaration', 'declare', 'declared', 'decompose', 'deconstructionism', 'decorations', 'decrees', 'deep', 'deepest', 'deer', 'deere', 'deet', 'def', 'defeat', 'defects', 'defense', 'defensive', 'define', 'defined', 'definition', 'defreeze', 'defunct', 'degas', 'degree', 'degrees', 'delaware', 'delegate', 'delegation', 'delhi', 'delicacy', 'delicate', 'delilah', 'delivered', 'deltiologist', 'dem', 'democratic', 'dena', 'denied', 'denmark', 'dennis', 'dennison', 'denote', 'dental', 'dentist', 'denver', 'deodorant', 'department', 'departments', 'depended', 'depicted', 'deployed', 'deposit', 'depreciates', 'depression', 'deranged', 'derby', 'derived', 'derogatory', 'desc', 'descendents', 'describes', 'describing', 'desert', 'deserts', 'design', 'designate', 'designed', 'designer', 'desire', 'desk', 'desmond', 'despondent', 'destination', 'destroyed', 'destroyers', 'detailed', 'details', 'detect', 'detective', 'detectors', 'detergent', 'determine', 'determined', 'determines', 'determinism', 'detroit', 'develop', 'developed', 'developing', 'development', 'developmental', 'develops', 'deveopment', 'device', 'devices', 'devil', 'devo', 'devoured', 'dew', 'dextropropoxyphen', 'diabetes', 'diagnose', 'diagram', 'dial', 'dialect', 'dialing', 'dialog', 'dialogue', 'diameter', 'diamond', 'diamonds', 'diana', 'diane', 'diary', 'dice', 'dick', 'dicken', 'dickens', 'dictator', 'did', 'didn', 'die', 'died', 'diego', 'diet', 'difference', 'differences', 'different', 'dig', 'digital', 'digitalis', 'digits', 'dikembe', 'dimaggio', 'dime', 'dimension', 'dimensions', 'diminutive', 'dimly', 'dined', 'dingoes', 'dinner', 'dinosaur', 'dioxide', 'dip', 'diphallic', 'diplomacy', 'diplomatic', 'dipper', 'dipsomaniac', 'direct', 'directed', 'direction', 'directions', 'directly', 'director', 'directorial', 'directors', 'dirkson', 'dirty', 'disabilities', 'disaccharide', 'disappear', 'disappeared', 'disaster', 'disc', 'discontinued', 'discover', 'discovered', 'disease', 'diseases', 'dish', 'disk', 'diskettes', 'disks', 'dismed', 'dismissed', 'disney', 'disneyland', 'dispatched', 'display', 'displays', 'disposable', 'dissented', 'dissolved', 'dist', 'distance', 'distilling', 'distinct', 'distinction', 'distinctive', 'distinguish', 'distinguishing', 'distribute', 'distributions', 'district', 'districts', 'dita', 'diver', 'divers', 'divide', 'divided', 'divides', 'diving', 'division', 'divorce', 'dixville', 'dna', 'docklands', 'doctor', 'doctorate', 'doctors', 'document', 'doegs', 'does', 'doesn', 'dog', 'dogs', 'dogsledding', 'dogtown', 'doing', 'doll', 'dollar', 'dollars', 'dolly', 'dolomites', 'dolphin', 'dolphins', 'domestic', 'domestica', 'domesticated', 'domestication', 'dominica', 'dominoes', 'dominos', 'don', 'donald', 'donate', 'donated', 'donating', 'donation', 'dondi', 'donor', 'doo', 'dooby', 'doodle', 'doody', 'doodyville', 'doomed', 'doonesbury', 'door', 'doorstep', 'doria', 'doris', 'dorsets', 'dose', 'dostoevski', 'dot', 'dots', 'double', 'doubleheader', 'doubles', 'doublespeak', 'doughboys', 'doughnut', 'douglas', 'dow', 'downhill', 'download', 'downstairs', 'doxat', 'doyle', 'dozen', 'dr', 'dracula', 'draft', 'drafted', 'drag', 'dragged', 'dragonflies', 'drain', 'drake', 'dramatized', 'draw', 'draws', 'dream', 'dreamed', 'dreams', 'dresden', 'dressed', 'drew', 'drill', 'drilling', 'drills', 'drink', 'drinker', 'drinking', 'drinks', 'dripper', 'drive', 'driven', 'drivers', 'driving', 'dropped', 'dropping', 'droppings', 'drops', 'drought', 'drug', 'drugs', 'drunk', 'drunken', 'dry', 'dsl', 'dt', 'dtmf', 'dual', 'duane', 'dubai', 'dubbed', 'dubliners', 'ducats', 'duck', 'duckling', 'dudley', 'duel', 'duke', 'dumas', 'dumb', 'dumbest', 'dumbo', 'dummy', 'dumont', 'dumplings', 'dumpty', 'dunes', 'dungri', 'dunk', 'durante', 'dust', 'dustbowl', 'dutch', 'duvalier', 'dwarf', 'dwarfs', 'dwellers', 'dwight', 'dyck', 'dye', 'dying', 'dyke', 'dylan', 'dynasty', 'dysostosis', 'e', 'eagle', 'eagles', 'ear', 'earhart', 'early', 'earn', 'earned', 'earns', 'ears', 'earth', 'earthquake', 'earthquakes', 'earthworms', 'easiest', 'easily', 'east', 'easter', 'eastern', 'eastward', 'easy', 'eat', 'eaten', 'eating', 'eats', 'ebb', 'echidna', 'eckley', 'eclairs', 'ecological', 'econoline', 'economic', 'economist', 'economists', 'economy', 'eczema', 'ed', 'edberg', 'edentulous', 'edessa', 'edgar', 'edge', 'edinburgh', 'edison', 'edith', 'edition', 'editor', 'edmonton', 'edmund', 'edo', 'eduard', 'education', 'educational', 'edward', 'edwin', 'eels', 'eenty', 'effect', 'effective', 'effects', 'efficiency', 'efficient', 'egg', 'eggs', 'egypt', 'egyptians', 'eh', 'eidologist', 'eiffel', 'eighth', 'einstein', 'eisenhower', 'ejaculate', 'ejaculation', 'ekg', 'el', 'eldercare', 'elders', 'elect', 'elected', 'election', 'elections', 'electoral', 'electric', 'electrical', 'electricity', 'electronic', 'electronics', 'element', 'elements', 'elephant', 'elephants', 'elevation', 'elevators', 'eli', 'elicit', 'eligible', 'eliminates', 'eliot', 'elizabeth', 'elizabethian', 'ella', 'ellipse', 'elm', 'elongated', 'elroy', 'elvis', 'elysium', 'em', 'email', 'embassy', 'embedded', 'emblazoned', 'emblem', 'embracing', 'emergency', 'emil', 'eminem', 'emma', 'emmigrate', 'emotional', 'emperor', 'emperors', 'empire', 'employ', 'employed', 'employee', 'employees', 'employment', 'enchanted', 'enclose', 'encounters', 'encyclopedia', 'end', 'endangered', 'ended', 'endometriosis', 'ends', 'endurance', 'enemies', 'enemy', 'energy', 'enforce', 'engine', 'engineer', 'engineering', 'engines', 'england', 'english', 'englishman', 'englishmen', 'englishwoman', 'enhance', 'enigmatic', 'enlist', 'enlivens', 'enola', 'enormous', 'enrolled', 'entail', 'entebbe', 'enter', 'entered', 'entering', 'enterprise', 'enters', 'entertainer', 'entertainment', 'enthalpy', 'entire', 'entirely', 'entries', 'environment', 'environmental', 'enzymes', 'epic', 'epicenter', 'episode', 'equal', 'equals', 'equation', 'equator', 'equilibrium', 'equinox', 'equipment', 'equity', 'equivalence', 'equivalent', 'era', 'erase', 'erected', 'erica', 'erich', 'ericson', 'eriksen', 'erle', 'ermal', 'ernest', 'ernie', 'ernst', 'erotic', 'ers', 'erupt', 'eruption', 'erupts', 'erwin', 'erykah', 'esa', 'escape', 'eskimo', 'esperanto', 'espionage', 'espn', 'esquire', 'est', 'establish', 'established', 'estate', 'estimated', 'estonia', 'estuary', 'etat', 'etched', 'eternity', 'ethel', 'ethnic', 'ethnological', 'ethology', 'ethylene', 'etta', 'euchre', 'eunice', 'europe', 'european', 'europeans', 'evaporate', 'evening', 'event', 'events', 'everest', 'everett', 'everybody', 'everyday', 'evidence', 'evil', 'ewoks', 'ex', 'exact', 'exactly', 'example', 'examples', 'exceeded', 'excellence', 'exchange', 'excite', 'excluded', 'exclusive', 'exclusively', 'excuse', 'executed', 'execution', 'executioner', 'executive', 'executor', 'exercise', 'exercises', 'exhibit', 'exile', 'exist', 'existence', 'exp', 'expansion', 'expect', 'expectancy', 'expectant', 'expedition', 'expelled', 'expensive', 'experience', 'experienced', 'experiment', 'experimenting', 'expert', 'experts', 'explore', 'explorer', 'explorers', 'exploring', 'explosion', 'explosive', 'export', 'exports', 'exposed', 'exposition', 'expression', 'extant', 'extended', 'extends', 'extension', 'extensions', 'extensively', 'exterminate', 'extinct', 'extinction', 'extraordinary', 'extremes', 'exxon', 'eye', 'eyebrows', 'eyes', 'ezra', 'f', 'f25', 'faber', 'fable', 'fabric', 'face', 'faced', 'faces', 'facial', 'facility', 'facing', 'factor', 'factors', 'factory', 'facts', 'fahrenheit', 'failed', 'failure', 'fair', 'fairground', 'fairy', 'faith', 'falconers', 'falklands', 'fall', 'fallen', 'falls', 'false', 'falwell', 'fame', 'famed', 'families', 'family', 'famine', 'famous', 'famously', 'fan', 'fang', 'fans', 'fantastic', 'far', 'fare', 'faring', 'farm', 'farmer', 'farmers', 'farouk', 'farri', 'farrier', 'farrow', 'farther', 'farthest', 'farthings', 'fascinated', 'fascist', 'faso', 'fast', 'fastener', 'faster', 'fastest', 'fat', 'fatal', 'fatalism', 'fate', 'fated', 'father', 'fathom', 'fatman', 'fats', 'faults', 'favorite', 'favoured', 'fawaz', 'fax', 'fbi', 'fcc', 'fdr', 'fe', 'fear', 'fears', 'feat', 'feather', 'feathered', 'feature', 'featured', 'features', 'february', 'federal', 'feed', 'feeding', 'feeling', 'feet', 'fein', 'felicity', 'fell', 'fellatio', 'fellow', 'felt', 'female', 'feminine', 'feminist', 'fergie', 'fermont', 'ferret', 'ferry', 'fertile', 'festival', 'feud', 'feudal', 'fever', 'feynman', 'fi', 'fiber', 'fibrosis', 'fickle', 'fiction', 'fictional', 'ficus', 'fiddlers', 'fidelis', 'fiedler', 'field', 'fields', 'fiesta', 'fifth', 'fig', 'fight', 'fighting', 'figs', 'figure', 'figures', 'fiji', 'file', 'filenes', 'files', 'filling', 'film', 'filmmakers', 'films', 'filter', 'filthiest', 'final', 'finally', 'financial', 'finds', 'fine', 'fined', 'finger', 'fingernails', 'fingers', 'fingertips', 'finish', 'finland', 'finn', 'finnish', 'fired', 'firehole', 'firemen', 'fireplace', 'fireplug', 'fires', 'firestorm', 'firewall', 'firm', 'fischer', 'fish', 'fishing', 'fishmarket', 'fit', 'fitzgerald', 'fivepin', 'fix', 'fixed', 'flab', 'flag', 'flags', 'flakes', 'flame', 'flash', 'flat', 'flatfish', 'flavor', 'flavors', 'flea', 'fleming', 'fletcher', 'flew', 'flier', 'flies', 'flight', 'flightless', 'flights', 'flintknapping', 'flintstones', 'float', 'floating', 'flog', 'flogged', 'flood', 'floods', 'floor', 'floors', 'flora', 'florence', 'florida', 'flourish', 'flow', 'flower', 'flowers', 'flowing', 'flows', 'floyd', 'flu', 'fluorine', 'flush', 'fly', 'flyer', 'flying', 'flytrap', 'fodor', 'fogs', 'folic', 'folies', 'folk', 'folklore', 'follow', 'followed', 'following', 'fondness', 'fontaine', 'fontanne', 'food', 'foods', 'fool', 'foot', 'football', 'footballs', 'footed', 'footwear', 'force', 'forced', 'forces', 'ford', 'fordham', 'foreclosure', 'forehand', 'forehead', 'foreign', 'foreigner', 'foreman', 'forerunner', 'forest', 'forests', 'forever', 'foreword', 'forfeited', 'forged', 'form', 'format', 'formation', 'formed', 'forms', 'formula', 'forsyth', 'fort', 'forties', 'fortifications', 'fortran', 'fortune', 'forward', 'fossilizes', 'fossils', 'foster', 'fought', 'foul', 'foundation', 'founded', 'founder', 'founders', 'founding', 'fountain', 'fourteenth', 'fourth', 'fowl', 'fox', 'fractal', 'fraction', 'frames', 'france', 'francis', 'francisco', 'frank', 'frankenstein', 'frankfurt', 'frankie', 'franklin', 'franz', 'fraudulent', 'fray', 'fraze', 'freckles', 'fred', 'freddie', 'freddy', 'frederick', 'free', 'freed', 'freedy', 'freeman', 'freeway', 'freezing', 'freidreich', 'freleng', 'french', 'frenchman', 'frequency', 'frequent', 'fresh', 'freshen', 'freud', 'frickett', 'friction', 'friend', 'friendliness', 'friendly', 'friends', 'fries', 'fringe', 'frito', 'friz', 'frobisher', 'frog', 'frogs', 'frommer', 'frontier', 'frosted', 'frozen', 'fruit', 'fruits', 'frustrated', 'fu', 'fubu', 'fuel', 'fulton', 'fun', 'function', 'fund', 'funded', 'funeral', 'fungal', 'funk', 'funky', 'funnel', 'funny', 'fur', 'furlongs', 'furth', 'fury', 'fusion', 'future', 'g', 'g2', 'g7', 'gabel', 'gaelic', 'gain', 'gained', 'gaja', 'galapagos', 'galaxy', 'gallery', 'galliano', 'gallon', 'gallons', 'galloping', 'gama', 'gamble', 'gambler', 'gambling', 'game', 'games', 'gametophytic', 'gaming', 'gandhi', 'gandy', 'gang', 'gangland', 'gangster', 'gangsters', 'garcia', 'garden', 'gardner', 'garfield', 'garland', 'garmat', 'garment', 'garrett', 'garry', 'garth', 'garvey', 'gas', 'gasoline', 'gate', 'gates', 'gateway', 'gathering', 'gatsby', 'gaulle', 'gave', 'gay', 'gaza', 'ge', 'geckos', 'geese', 'gehrig', 'gemini', 'gemstone', 'gender', 'gene', 'general', 'generals', 'generation', 'generator', 'genesis', 'genetic', 'genetics', 'genie', 'genius', 'genome', 'geographic', 'geographical', 'geological', 'george', 'georgetown', 'georgia', 'geoscientist', 'gerald', 'german', 'germanic', 'germany', 'germs', 'gestapo', 'gestation', 'gesture', 'getting', 'gettysburg', 'ghana', 'ghost', 'giant', 'giants', 'gibson', 'gifford', 'gift', 'gilbert', 'gillette', 'gills', 'gimli', 'gin', 'gina', 'giraffe', 'girl', 'girlfriend', 'girls', 'gitchee', 'given', 'gives', 'giving', 'giza', 'glacier', 'gladiator', 'glamis', 'glamorous', 'gland', 'glasgow', 'glass', 'gleason', 'glen', 'gliding', 'glitters', 'global', 'globe', 'glory', 'glove', 'glowsticks', 'gm', 'goal', 'goalie', 'goals', 'goat', 'god', 'goddess', 'godfather', 'godiva', 'gods', 'goering', 'goes', 'gogh', 'going', 'gold', 'golden', 'goldenseal', 'goldfinger', 'goldfish', 'goldfus', 'goldie', 'goldilocks', 'golf', 'golfer', 'golfers', 'golfing', 'gompers', 'gone', 'good', 'goodall', 'goodness', 'goosebumps', 'gopher', 'gorbachev', 'gordon', 'gore', 'gosfield', 'got', 'gotham', 'gothic', 'goulash', 'gould', 'gourd', 'gourmet', 'governed', 'government', 'governmental', 'governor', 'gown', 'gr', 'grab', 'grabs', 'grace', 'graced', 'graces', 'grader', 'graders', 'grades', 'gradual', 'graduate', 'graffiti', 'gram', 'grammys', 'gran', 'granary', 'grand', 'grandeur', 'grandfather', 'grandma', 'grange', 'granite', 'grant', 'granted', 'grape', 'grapes', 'graphic', 'grass', 'graveyard', 'gravity', 'gray', 'great', 'greatest', 'greece', 'greek', 'green', 'greenfield', 'greenland', 'greenstreet', 'greenwich', 'greeting', 'gregorian', 'grenada', 'gretel', 'gretzky', 'grilled', 'grimace', 'grimes', 'grinch', 'gringo', 'grocer', 'grooves', 'gross', 'ground', 'groundshog', 'group', 'groups', 'grow', 'growing', 'grown', 'growth', 'guadalcanal', 'guam', 'guernsey', 'guerrilla', 'guess', 'guidance', 'guide', 'guild', 'guinea', 'guitar', 'guitarist', 'guiteau', 'gulf', 'gulliver', 'gum', 'gumee', 'gummed', 'gunboat', 'gunpowder', 'gustav', 'gusto', 'gutenberg', 'guy', 'guys', 'gymnast', 'gymnastics', 'gymnophobia', 'h', 'habeas', 'habitat', 'habits', 'haboob', 'hackers', 'haifa', 'hail', 'hair', 'hairdryer', 'hairless', 'hairs', 'hairy', 'hajo', 'half', 'hall', 'hallie', 'halloween', 'ham', 'hamblen', 'hamburger', 'hamburgers', 'hamed', 'hamill', 'hamilton', 'hamlet', 'hammer', 'hampshire', 'hand', 'handed', 'handful', 'handheld', 'handicapped', 'handicraft', 'handle', 'hands', 'handwriting', 'hang', 'hank', 'hanks', 'hanover', 'hans', 'hansel', 'happen', 'happened', 'happens', 'happy', 'hara', 'harbor', 'hard', 'hardening', 'hardest', 'hardware', 'hardy', 'harlow', 'harmful', 'harness', 'harold', 'harper', 'harriet', 'harrison', 'harry', 'harvey', 'hasidic', 'hass', 'hastings', 'hat', 'hatchet', 'hate', 'hates', 'haunt', 'haunted', 'havana', 'haven', 'haversian', 'havilland', 'having', 'havlicek', 'havoc', 'hawaii', 'hawaiian', 'hawkeye', 'hawking', 'hawkins', 'hawks', 'hawn', 'hayden', 'hayworth', 'hazel', 'hazmat', 'hdlc', 'head', 'headaches', 'headed', 'headquartered', 'headquarters', 'heads', 'healer', 'health', 'healthy', 'hear', 'hearing', 'hearings', 'hearst', 'heart', 'hearts', 'heat', 'heating', 'heaven', 'heavier', 'heaviest', 'heavily', 'heavyweight', 'hebephrenia', 'height', 'heimlich', 'heineken', 'heir', 'held', 'helen', 'helens', 'helicopter', 'heliologist', 'helium', 'hell', 'help', 'helped', 'helps', 'hematoma', 'hemingway', 'hemisphere', 'hen', 'hendecasyllabic', 'henderson', 'hendrix', 'henry', 'hepburn', 'hepcats', 'heptagon', 'herb', 'herbert', 'herbs', 'herculoids', 'heretic', 'herm', 'hermann', 'hermit', 'hermitage', 'hermits', 'hernando', 'hero', 'heroine', 'hesse', 'heuristic', 'hibernia', 'hiccup', 'hide', 'hiding', 'hiemal', 'high', 'higher', 'highest', 'highlands', 'highschool', 'highway', 'highways', 'hijack', 'hijacked', 'hijacking', 'hike', 'hiking', 'hill', 'hillary', 'hillbillies', 'hills', 'hilton', 'hinckley', 'hinduism', 'hirohito', 'hirsch', 'hispaniola', 'historical', 'historically', 'history', 'hit', 'hitler', 'hits', 'hitting', 'hiv', 'hive', 'hives', 'hobby', 'hockey', 'hocks', 'hoffman', 'hog', 'hohenzollerns', 'hold', 'holden', 'holds', 'hole', 'holes', 'holiday', 'holidays', 'holland', 'holly', 'hollywood', 'holmes', 'holstrum', 'holy', 'home', 'homelite', 'homeostasis', 'homer', 'homerian', 'homes', 'honda', 'honduras', 'honecker', 'honey', 'honeymooners', 'hong', 'honor', 'honorary', 'honors', 'hoo', 'hood', 'hook', 'hooked', 'hooligans', 'hooters', 'hoover', 'hope', 'horlick', 'hormone', 'hornby', 'horologist', 'horoscope', 'horrors', 'horse', 'horsemen', 'horsepower', 'horses', 'horseshoes', 'horton', 'hospital', 'host', 'hostage', 'hostages', 'hosted', 'hot', 'hotel', 'houdini', 'hound', 'hour', 'hourglass', 'hourly', 'hours', 'house', 'household', 'houseplants', 'houses', 'housewarming', 'housewife', 'houston', 'howard', 'howdy', 'hoya', 'html', 'hub', 'huckleberry', 'hudson', 'hughes', 'hugo', 'hulk', 'human', 'humanitarian', 'humans', 'humbert', 'humidity', 'hummingbird', 'humor', 'hump', 'humphrey', 'humps', 'humpty', 'hungarian', 'hungary', 'hungry', 'hunter', 'hunting', 'hurdle', 'hurley', 'hurricane', 'hurt', 'hurting', 'husband', 'husbands', 'hussain', 'hussein', 'hustle', 'huston', 'huxley', 'hyatt', 'hyde', 'hydroelectric', 'hydroelectricity', 'hydrogen', 'hydrosulfite', 'hyenas', 'hymn', 'hyperlink', 'hyperopia', 'hypertension', 'hypertext', 'hypnotherapy', 'ian', 'iberia', 'iberian', 'ibm', 'ice', 'iceland', 'idea', 'idealab', 'identify', 'identity', 'idiot', 'iditarod', 'idle', 'ignores', 'igor', 'iguana', 'ii', 'iii', 'ileana', 'ill', 'illegally', 'illinois', 'illustrated', 'image', 'imaginary', 'imam', 'imitations', 'immaculate', 'immigration', 'immortals', 'impact', 'impenetrable', 'imperial', 'import', 'importance', 'important', 'imported', 'importer', 'importers', 'imposed', 'impossible', 'impress', 'imprisoned', 'imprisoning', 'improve', 'improved', 'impulse', 'inaugurated', 'inauguration', 'inch', 'inches', 'incident', 'include', 'included', 'includes', 'including', 'income', 'incompetent', 'incorporate', 'increase', 'incredible', 'incubate', 'ind', 'indelicately', 'independence', 'independent', 'india', 'indian', 'indiana', 'indianapolis', 'indians', 'indicate', 'indicator', 'indies', 'indiglo', 'indira', 'individual', 'individuals', 'indonesia', 'indoor', 'inducted', 'industrial', 'industrialized', 'industry', 'inescapable', 'infamous', 'infant', 'infatuation', 'infection', 'infectious', 'inferno', 'infinity', 'influences', 'info', 'infomatics', 'information', 'infrared', 'inga', 'ingmar', 'ingredient', 'ingredients', 'inhabit', 'inhumans', 'initial', 'initials', 'injection', 'injectors', 'injuries', 'injury', 'ink', 'inkhorn', 'inning', 'innings', 'innocent', 'inoco', 'inoperative', 'inri', 'insanity', 'insb', 'insects', 'insert', 'inside', 'insisted', 'inspector', 'inspiration', 'inspirational', 'inspired', 'install', 'instead', 'institute', 'instru', 'instructor', 'instrument', 'instruments', 'insurance', 'insured', 'intake', 'intelligence', 'intercourse', 'interesting', 'intergovernmental', 'interlace', 'interlata', 'internal', 'international', 'internet', 'internet2', 'interrupted', 'interview', 'intestine', 'intestines', 'intractable', 'intranet', 'introduce', 'introduced', 'inuit', 'inuits', 'invade', 'invaded', 'invasion', 'invent', 'invented', 'invention', 'inventions', 'inventor', 'inventors', 'investigation', 'involved', 'involves', 'ioc', 'ion', 'iowa', 'ip', 'ipanema', 'iq', 'iran', 'iraq', 'iraqi', 'iraqis', 'irate', 'ireland', 'iris', 'irish', 'irkutsk', 'irl', 'iron', 'irwin', 'isadora', 'ishmael', 'isis', 'islam', 'islamic', 'island', 'islands', 'isle', 'ismail', 'isn', 'isolationist', 'isosceles', 'isps', 'israel', 'israeli', 'issue', 'issues', 'isthmus', 'italian', 'italians', 'italy', 'itch', 'item', 'iv', 'ivan', 'ivy', 'j', 'jack', 'jackal', 'jackass', 'jackie', 'jackson', 'jaco', 'jacqueline', 'jacques', 'jail', 'jake', 'james', 'jamiroquai', 'jan', 'jane', 'janelle', 'janet', 'janis', 'january', 'janurary', 'japan', 'japanese', 'jar', 'java', 'jaws', 'jay', 'jayne', 'jazz', 'jdr3', 'jealous', 'jealousy', 'jean', 'jeans', 'jeep', 'jeff', 'jefferson', 'jell', 'jellicle', 'jellies', 'jena', 'jenna', 'jennifer', 'jeremy', 'jericho', 'jerk', 'jerks', 'jeroboams', 'jerry', 'jersey', 'jesse', 'jessica', 'jesus', 'jets', 'jett', 'jewelry', 'jewish', 'jews', 'jfk', 'jiggy', 'jim', 'jimi', 'jimmy', 'jinnah', 'jj', 'joad', 'joan', 'job', 'jobs', 'jockey', 'jodie', 'joe', 'joel', 'jogging', 'jogis', 'john', 'johnnie', 'johnny', 'johnson', 'johnsons', 'johnston', 'join', 'joined', 'joining', 'joins', 'joint', 'joke', 'jokes', 'jolly', 'jolson', 'jonathan', 'jones', 'jong', 'joplin', 'jordan', 'joseph', 'josie', 'journal', 'journalism', 'journalist', 'journey', 'joy', 'joyce', 'jpeg', 'jpl', 'jr', 'juan', 'judaism', 'jude', 'judge', 'judged', 'judiciary', 'judith', 'judo', 'judson', 'judy', 'juice', 'juices', 'jules', 'julie', 'july', 'jump', 'june', 'jung', 'jungle', 'junk', 'jurassic', 'jury', 'just', 'justice', 'justify', 'justin', 'k', 'kafka', 'kahn', 'kai', 'kalahari', 'kamchatka', 'kane', 'kangaroo', 'kansas', 'kappa', 'karenna', 'karl', 'karnak', 'karsh', 'kashmir', 'kasparov', 'katharine', 'kathie', 'kathryn', 'katie', 'katy', 'kay', 'kdge', 'keaton', 'keck', 'keeping', 'keeps', 'keller', 'kelly', 'kemper', 'kennedy', 'kentucky', 'kenya', 'kenyan', 'kept', 'keratoma', 'kevin', 'key', 'keyboard', 'khaki', 'khan', 'khrushchev', 'khyber', 'kicked', 'kickoff', 'kid', 'kidnaped', 'kidnaping', 'kids', 'kilamanjaro', 'kill', 'killed', 'killer', 'killing', 'kills', 'kilowatt', 'kilroy', 'kilvington', 'kim', 'kimpo', 'kind', 'kindergarden', 'kindergarten', 'kinds', 'king', 'kingdom', 'kings', 'kinks', 'kinsey', 'kippur', 'kiss', 'kissed', 'kisser', 'kitchen', 'kite', 'klan', 'klein', 'klondike', 'klux', 'knicks', 'knife', 'knight', 'knighted', 'knock', 'know', 'known', 'knowpost', 'knows', 'knox', 'knute', 'kodak', 'kong', 'konigsberg', 'konopka', 'konrad', 'koran', 'korea', 'korean', 'koresh', 'kosovo', 'krajina', 'kramer', 'kreme', 'kremlin', 'krypton', 'ku', 'kubla', 'kubrick', 'kung', 'kurt', 'kuwait', 'kwai', 'kyriakos', 'kythnos', 'l', 'la', 'label', 'labels', 'labianca', 'labor', 'laboratory', 'lacan', 'lachaise', 'lack', 'lactobacillus', 'lady', 'ladybugs', 'lagoon', 'lagos', 'lai', 'laid', 'lake', 'lakehurst', 'lakes', 'lambs', 'laments', 'lan', 'land', 'landed', 'landing', 'landlocked', 'landmark', 'lane', 'lang', 'langerhans', 'langston', 'language', 'languages', 'lantern', 'laos', 'lap', 'laptop', 'lapwarmers', 'large', 'larger', 'largest', 'larry', 'larynx', 'las', 'laser', 'lasts', 'lata', 'late', 'latent', 'later', 'latin', 'latitude', 'laugh', 'launched', 'laundry', 'laureate', 'lauren', 'lavoir', 'law', 'lawn', 'lawnmower', 'lawrence', 'laws', 'lawsuit', 'lawyer', 'lawyers', 'lay', 'layer', 'layers', 'lcd', 'le', 'lead', 'leader', 'leaders', 'leading', 'leads', 'league', 'leaky', 'leaps', 'learn', 'learned', 'learning', 'leave', 'leaving', 'lebanon', 'led', 'lee', 'left', 'leftovers', 'leg', 'legal', 'legally', 'legend', 'legendary', 'legged', 'legs', 'lehmann', 'leia', 'leichhardt', 'leif', 'lemmon', 'lemon', 'lemurs', 'lends', 'length', 'lengths', 'lenny', 'leno', 'lens', 'lent', 'leo', 'leon', 'leonardo', 'leoncavallo', 'leos', 'leper', 'leprosy', 'lesbos', 'leslie', 'lesson', 'let', 'lethal', 'letter', 'letterman', 'letters', 'leukemia', 'level', 'leverkusen', 'levine', 'levitation', 'lew', 'lewis', 'lhasa', 'li', 'liability', 'liberated', 'liberty', 'libraries', 'library', 'libya', 'lice', 'licensed', 'lickin', 'lie', 'lies', 'life', 'lifelong', 'lifesaver', 'lifetime', 'lifter', 'lifting', 'light', 'lightest', 'lightning', 'lights', 'ligurian', 'like', 'liked', 'likely', 'likes', 'lilly', 'limbo', 'lime', 'limelight', 'limestone', 'limit', 'limited', 'limits', 'lincoln', 'lincolns', 'lindbergh', 'line', 'liner', 'liners', 'lines', 'lingo', 'linked', 'links', 'linus', 'linux', 'lion', 'lions', 'lips', 'lipstick', 'liquid', 'lisa', 'list', 'listen', 'listeners', 'listing', 'liston', 'lists', 'lit', 'lite', 'literal', 'literary', 'literature', 'litmus', 'little', 'live', 'lived', 'liver', 'liverpool', 'lives', 'livestock', 'living', 'livingstone', 'liz', 'lizzie', 'll', 'lloyd', 'lmds', 'lo', 'lobster', 'lobsters', 'located', 'location', 'locations', 'lock', 'lockerbie', 'locking', 'loco', 'locomotive', 'log', 'logan', 'logarithmic', 'logic', 'logo', 'lol', 'lombardi', 'london', 'long', 'longer', 'longest', 'longitude', 'longtime', 'look', 'looked', 'looking', 'loomis', 'loop', 'loosely', 'lord', 'los', 'lose', 'loss', 'lost', 'lot', 'lotion', 'lottery', 'lou', 'loud', 'louie', 'louis', 'louise', 'louisiana', 'louse', 'love', 'loveable', 'loved', 'lovell', 'lovely', 'lovers', 'low', 'lowest', 'lowlands', 'lp', 'lsd', 'lucas', 'lucelly', 'lucia', 'lucille', 'luck', 'lucky', 'lucy', 'ludwig', 'luggage', 'luis', 'luke', 'lump', 'lunch', 'lund', 'lung', 'lunt', 'lust', 'lustrum', 'luther', 'lutine', 'luxury', 'lying', 'lynmouth', 'lynn', 'lyricist', 'lyrics', 'm', 'm16', 'm3', 'mac', 'macaroni', 'macarthur', 'macbeth', 'macdonald', 'macdowell', 'machiavelli', 'machine', 'machinery', 'machines', 'mack', 'mackenzie', 'mackinaw', 'maclaine', 'macneil', 'macy', 'mad', 'madame', 'madding', 'maddox', 'madeira', 'madilyn', 'madonna', 'madre', 'madrid', 'madsen', 'mae', 'magazine', 'magazines', 'magee', 'magellan', 'magenta', 'maggio', 'magi', 'magic', 'magna', 'magnate', 'magnesium', 'magnet', 'magnetar', 'magnetic', 'magnets', 'magoo', 'mahal', 'maid', 'maiden', 'maids', 'mail', 'mailing', 'mailman', 'main', 'mainland', 'mainly', 'maintain', 'majal', 'major', 'majority', 'make', 'makepeace', 'maker', 'makes', 'makeup', 'making', 'malawi', 'malaysia', 'maldive', 'male', 'males', 'malick', 'mall', 'malls', 'malta', 'maltese', 'mama', 'mammal', 'mammals', 'mammoth', 'man', 'manager', 'managing', 'manatees', 'manche', 'manchester', 'manchukuo', 'mandibulofacial', 'mandrake', 'mandy', 'maneuver', 'manfred', 'manhatten', 'manicure', 'manifest', 'mankiewicz', 'mankind', 'manned', 'manner', 'mansfield', 'manson', 'manuel', 'manufacture', 'manufactured', 'manufacturer', 'manufacturers', 'manufactures', 'manufacturing', 'mao', 'map', 'mapping', 'mar', 'marbella', 'marble', 'marbles', 'march', 'marching', 'marciano', 'marco', 'marcos', 'marcus', 'mare', 'margaret', 'maria', 'marijuana', 'marilyn', 'marine', 'marino', 'marion', 'maris', 'mark', 'marked', 'market', 'marketed', 'markets', 'marks', 'marl', 'marley', 'marlin', 'marlowe', 'marquesas', 'marriage', 'married', 'marrow', 'marry', 'mars', 'marshal', 'marshall', 'martha', 'martial', 'martialled', 'martian', 'martin', 'martini', 'martinis', 'martyrs', 'marvel', 'marvelous', 'marvin', 'marx', 'marxism', 'mary', 'maryland', 'marzipan', 'mascot', 'masons', 'masquerade', 'mass', 'massachusetts', 'massacre', 'massage', 'massive', 'mast', 'master', 'masters', 'masterson', 'match', 'matchbook', 'mate', 'material', 'materials', 'math', 'mathematical', 'mathematician', 'matt', 'matter', 'matterhorn', 'mature', 'maturity', 'mau', 'maudie', 'mauis', 'maurice', 'mauritania', 'maurizio', 'max', 'maximo', 'maximum', 'maya', 'mayan', 'mayans', 'mayfly', 'mayo', 'mayonnaise', 'mayor', 'mc2', 'mcarthur', 'mcbeal', 'mccain', 'mccall', 'mccarren', 'mccheese', 'mcdonald', 'mcgwire', 'mckinley', 'mclean', 'mcpugg', 'mcqueen', 'mean', 'meanie', 'meaning', 'means', 'meant', 'measure', 'measured', 'measures', 'meat', 'mechanical', 'mechanism', 'med', 'medal', 'medals', 'median', 'medical', 'medication', 'medicinal', 'medicine', 'medieval', 'medina', 'mediterranean', 'medium', 'meerkat', 'meet', 'meeting', 'megan', 'megawatts', 'mehitabel', 'mel', 'melancholy', 'melbourne', 'melissa', 'melman', 'melodies', 'melt', 'melts', 'member', 'members', 'membership', 'memory', 'memphis', 'men', 'menace', 'mendelevium', 'menstruation', 'mentioned', 'mentor', 'menu', 'menus', 'mercenaries', 'merchandise', 'merchant', 'mercury', 'merged', 'merrick', 'merrie', 'mess', 'message', 'met', 'meta', 'metabolize', 'metal', 'metalious', 'metamorphosis', 'meter', 'meters', 'method', 'methodist', 'methods', 'metric', 'metropolis', 'mevacor', 'mexican', 'mexico', 'meyer', 'mgm', 'mia', 'miami', 'michael', 'michaelangelo', 'michagin', 'michelangelo', 'michener', 'michigan', 'micro', 'microcontrollers', 'micronauts', 'microprocessors', 'microscope', 'microsoft', 'microverse', 'microwaves', 'mid', 'middle', 'mideast', 'midi', 'midsummer', 'midwest', 'midwife', 'mig', 'mighty', 'migrates', 'mikhail', 'milano', 'mildew', 'mile', 'miles', 'military', 'milk', 'milking', 'milky', 'millenium', 'millennium', 'miller', 'milligrams', 'millimeter', 'millimeters', 'million', 'millionaire', 'millions', 'millionth', 'milliseconds', 'mills', 'milo', 'milt', 'milton', 'mind', 'minded', 'mined', 'mineral', 'mines', 'miniature', 'minimum', 'mining', 'minister', 'minneapolis', 'minnesota', 'minor', 'minow', 'mint', 'minute', 'minutes', 'miracles', 'mirror', 'miss', 'missile', 'mission', 'missionary', 'missions', 'mississippi', 'missouri', 'mistakenly', 'mistletoe', 'mitty', 'mix', 'mixable', 'mixing', 'mixture', 'mla', 'mob', 'moby', 'model', 'modem', 'moderated', 'modern', 'modestly', 'mojave', 'mold', 'molecules', 'molly', 'molybdenum', 'mona', 'monaco', 'monarch', 'monarchs', 'monarchy', 'monet', 'money', 'mongol', 'monitor', 'monk', 'monkey', 'monopolies', 'monopoly', 'monroe', 'monster', 'monsters', 'mont', 'montana', 'montenegro', 'monterey', 'month', 'monthly', 'months', 'montmartre', 'monument', 'moo', 'moog', 'moon', 'moore', 'moorish', 'moral', 'morale', 'morality', 'moran', 'morgan', 'morley', 'mormon', 'mormons', 'morning', 'morris', 'mortem', 'mortgage', 'mosaic', 'moscow', 'moses', 'mosquito', 'mosquitoes', 'moss', 'moth', 'mother', 'motion', 'motor', 'motorcycle', 'motorcycles', 'motors', 'motown', 'motto', 'mount', 'mountain', 'mountainous', 'mountains', 'mounted', 'mourning', 'mouse', 'mouth', 'movement', 'movie', 'movies', 'moving', 'moxie', 'mozambique', 'mpilo', 'mr', 'mrs', 'ms', 'msg', 'mt', 'mtv', 'muffins', 'muhammad', 'mules', 'multicolored', 'multicultural', 'multilingual', 'multimedia', 'multiple', 'multiplexer', 'multitalented', 'mummified', 'munching', 'munich', 'muppets', 'murder', 'murdered', 'murdering', 'murdock', 'musca', 'muscle', 'muscles', 'museum', 'mushroom', 'music', 'musical', 'musician', 'musketeers', 'muslim', 'muslims', 'mustachioed', 'mustard', 'mutiny', 'mutombo', 'mvp', 'mykonos', 'myrtle', 'mystery', 'mystical', 'mystique', 'myth', 'mythical', 'mythological', 'mythology', 'n', 'naacp', 'nabokov', 'nadia', 'nafta', 'nail', 'nails', 'naked', 'namath', 'named', 'names', 'nancy', 'nanometer', 'nantucket', 'napalm', 'naples', 'napolean', 'napoleon', 'napoleonic', 'napsylate', 'narcolepsy', 'narragansett', 'narrates', 'nasa', 'nasdaq', 'naseem', 'nasty', 'natalie', 'natchitoches', 'nathan', 'natick', 'nation', 'national', 'nationality', 'nations', 'native', 'natives', 'nato', 'natural', 'nature', 'nautical', 'nautilus', 'naval', 'navy', 'nazi', 'nazis', 'nba', 'nbc', 'neal', 'neanderthal', 'near', 'nearest', 'nearsightedness', 'nebbish', 'nebraska', 'nebuchadnezzar', 'necessarily', 'necessary', 'necklaces', 'necrosis', 'need', 'needed', 'needle', 'needles', 'needs', 'neighborhood', 'neil', 'nelson', 'nematode', 'neoclassical', 'neon', 'nepal', 'nephew', 'nero', 'nerve', 'nestled', 'nests', 'net', 'network', 'neurasthenia', 'neurological', 'neuromancer', 'neurons', 'neurosurgeon', 'neurotic', 'nevada', 'nevermind', 'nevil', 'new', 'newly', 'news', 'newscast', 'newsmen', 'newspaper', 'newton', 'newtons', 'nfl', 'nhl', 'niagara', 'niagra', 'niche', 'nicholas', 'nickel', 'nicklaus', 'nickname', 'nicknamed', 'nicois', 'nicolet', 'nicolo', 'niece', 'nielsen', 'night', 'nightclubs', 'nightingale', 'nightmare', 'nihilist', 'niigata', 'nike', 'nikita', 'nile', 'nina', 'ninety', 'ninjitsu', 'nino', 'nintendo', 'nipsy', 'nitrates', 'nitrogen', 'nitrox', 'nixon', 'nj', 'nn', 'nnp', 'nns', 'noah', 'nobel', 'noble', 'node', 'noir', 'noise', 'nomadic', 'nominated', 'nominations', 'nominee', 'non', 'nonaggression', 'nonchlorine', 'nonconsecutive', 'nones', 'noodle', 'nora', 'nordic', 'noriega', 'normal', 'normally', 'normans', 'north', 'northeast', 'northernmost', 'northwestern', 'norway', 'norwegian', 'nose', 'nostradamus', 'nostrum', 'notch', 'notes', 'notre', 'noun', 'nouns', 'novel', 'novelist', 'novels', 'november', 'nowadays', 'nuclear', 'number', 'numbered', 'numbers', 'numeral', 'numerals', 'nun', 'nuremberg', 'nurse', 'nursery', 'nutrients', 'nutrition', 'nuts', 'ny', 'nylon', 'o', 'oakland', 'oas', 'oat', 'oath', 'obelisk', 'object', 'objects', 'obote', 'obscene', 'observances', 'observed', 'observing', 'obtained', 'occam', 'occupation', 'occupy', 'occur', 'occurred', 'occurrence', 'occurs', 'ocean', 'oceania', 'oceans', 'ocho', 'octavius', 'octopus', 'odds', 'oddsmaker', 'odin', 'odor', 'odors', 'offer', 'offered', 'offers', 'office', 'officer', 'offices', 'official', 'officially', 'oftentimes', 'ogre', 'oh', 'ohio', 'oil', 'oilers', 'oilseeds', 'oj', 'oklahoma', 'old', 'older', 'oldest', 'oldtime', 'olestra', 'olive', 'olives', 'olivia', 'olsen', 'olympia', 'olympic', 'olympics', 'omni', 'onassis', 'ones', 'onetime', 'onion', 'online', 'oompas', 'oop', 'open', 'opened', 'opener', 'opening', 'opens', 'opera', 'operant', 'operate', 'operating', 'operation', 'operations', 'opponent', 'opponents', 'opposed', 'opposite', 'opposition', 'optical', 'orange', 'orbit', 'orca', 'ord', 'order', 'ordered', 'organ', 'organic', 'organism', 'organization', 'organizational', 'organized', 'organs', 'orgasm', 'orgin', 'oriented', 'origin', 'original', 'originally', 'originate', 'originated', 'orinoco', 'orkney', 'orleans', 'orly', 'ornaments', 'orphans', 'orthopedics', 'osbourne', 'oscar', 'oscars', 'osmosis', 'ossining', 'osteichthyes', 'ostrich', 'ostriches', 'oswald', 'ottawa', 'otters', 'otto', 'ouagadougou', 'ouarterly', 'ouija', 'ousted', 'outcome', 'outer', 'outfit', 'outline', 'output', 'outside', 'outstanding', 'ouzo', 'ove', 'oven', 'overalls', 'overcome', 'overflow', 'overlook', 'overlooking', 'overthrow', 'owe', 'owed', 'owned', 'owner', 'owning', 'owns', 'ox', 'oxfords', 'oxidation', 'oxide', 'oxygen', 'oyl', 'oyster', 'oysters', 'oz', 'ozone', 'ozymandias', 'ozzie', 'ozzy', 'p', 'pacer', 'pacific', 'packages', 'packers', 'packin', 'pact', 'pad', 'padres', 'paganini', 'page', 'pageant', 'pages', 'paid', 'pail', 'pain', 'paine', 'painful', 'paint', 'paintball', 'painted', 'painter', 'painters', 'painting', 'pairs', 'pajamas', 'palace', 'palate', 'paleontologist', 'paleozoic', 'palindromic', 'pallbearer', 'palmer', 'palmiped', 'palms', 'palpatine', 'pampas', 'pamplona', 'pan', 'panama', 'pandoro', 'panel', 'pangaea', 'panic', 'panoramic', 'panther', 'panties', 'papal', 'paper', 'papers', 'par', 'paracetamol', 'parachute', 'parade', 'paradise', 'paraguay', 'parasites', 'parents', 'paris', 'park', 'parker', 'parking', 'parks', 'parma', 'parrot', 'parthenon', 'participle', 'particular', 'particularly', 'partition', 'partner', 'partnership', 'parton', 'parts', 'party', 'pas', 'pascal', 'paso', 'pass', 'passed', 'passenger', 'passing', 'past', 'pasta', 'pasternak', 'pastorius', 'pasture', 'patent', 'patented', 'patents', 'paths', 'patients', 'patricia', 'patrons', 'patti', 'paul', 'paulo', 'pay', 'paying', 'pc', 'pea', 'peabody', 'peace', 'peachy', 'peacocks', 'peak', 'peanut', 'peanuts', 'pearl', 'pearls', 'peas', 'peasant', 'pebbles', 'pecan', 'pecos', 'pedestrians', 'pedometer', 'peel', 'peggy', 'pegnitz', 'pekka', 'pellegrin', 'peller', 'peloponnesian', 'pelt', 'pelvic', 'penalty', 'pencey', 'pencil', 'pendulum', 'penetrate', 'penguins', 'peninsula', 'penis', 'penn', 'penned', 'pennsylvania', 'penny', 'pens', 'pentagon', 'people', 'pepper', 'pepsi', 'perc', 'percent', 'percentage', 'percival', 'pere', 'perfect', 'perfectly', 'perform', 'performed', 'performer', 'perfume', 'pergament', 'period', 'periodic', 'permanent', 'permanently', 'permitted', 'permutations', 'perpetual', 'perpetually', 'perry', 'persian', 'person', 'personal', 'personality', 'personas', 'peruvian', 'pesth', 'pet', 'peter', 'peters', 'petersburg', 'petrified', 'petrograd', 'petroleum', 'pets', 'peugeot', 'ph', 'phalanx', 'pharmacists', 'phenomenon', 'pheonix', 'phil', 'philadelphia', 'philanthropist', 'philatelist', 'philby', 'philebus', 'philip', 'philippine', 'philippines', 'phillip', 'philosophized', 'philosophy', 'phobophobe', 'phoenix', 'phone', 'phonograph', 'photograph', 'photographer', 'photographs', 'photoshop', 'photosynthesis', 'phrase', 'physical', 'physically', 'physician', 'physics', 'pi', 'pia', 'piano', 'pianos', 'piazza', 'pibb', 'picasso', 'piccadilly', 'picked', 'pickering', 'picking', 'pickled', 'pictorial', 'picts', 'picture', 'pictured', 'pictures', 'pie', 'piece', 'pies', 'pig', 'pigeons', 'piggy', 'pigment', 'pigs', 'pike', 'piles', 'pilgrim', 'pillar', 'pilot', 'pilots', 'pimp', 'pin', 'pinatubo', 'pineapple', 'pines', 'ping', 'pink', 'pins', 'piracy', 'pirate', 'pissarro', 'pistol', 'pit', 'pita', 'pitch', 'pitched', 'pitcher', 'pitchers', 'pitches', 'pittsburgh', 'piven', 'pizarro', 'pizza', 'place', 'placed', 'plagued', 'plagues', 'plain', 'plains', 'plan', 'plane', 'planet', 'planned', 'plans', 'plant', 'plantar', 'plantation', 'planted', 'plants', 'plastic', 'platinum', 'play', 'playboy', 'played', 'player', 'players', 'playing', 'plays', 'playstation', 'playwright', 'plc', 'plea', 'pleasure', 'plo', 'plot', 'plugged', 'plumbism', 'plural', 'pluribus', 'plymouth', 'pneumonia', 'pocahontas', 'pocket', 'poconos', 'poe', 'poem', 'poet', 'poetic', 'poetry', 'poets', 'poing', 'point', 'pointed', 'points', 'pointsettia', 'poison', 'poisoning', 'poke', 'pokemon', 'poker', 'poland', 'pole', 'police', 'policeman', 'policy', 'polio', 'polis', 'polish', 'political', 'politics', 'polka', 'poll', 'pollen', 'pollock', 'pollution', 'pollux', 'polo', 'polyester', 'polynesian', 'polyorchid', 'pomegranate', 'pomegranates', 'pompeii', 'pony', 'poodle', 'pooh', 'pookie', 'poop', 'poor', 'poorly', 'pop', 'popcorn', 'pope', 'popeye', 'poppins', 'pops', 'popular', 'popularized', 'popularly', 'populated', 'population', 'populous', 'porgy', 'porphyria', 'port', 'portal', 'porter', 'portly', 'portrait', 'portraits', 'portrayed', 'portraying', 'portrays', 'ports', 'portuguese', 'pos', 'posh', 'position', 'positions', 'possessed', 'possession', 'possible', 'possum', 'post', 'postage', 'postal', 'poster', 'potatoes', 'potential', 'pothooks', 'potlatch', 'potsdam', 'potter', 'pound', 'pounds', 'pow', 'powder', 'powdered', 'powell', 'power', 'powered', 'powerful', 'powers', 'powhatan', 'pox', 'practical', 'practice', 'prankster', 'prayer', 'preacher', 'predators', 'predict', 'predicted', 'predominant', 'preface', 'preferably', 'preference', 'prefix', 'pregnacy', 'pregnancies', 'pregnancy', 'pregnant', 'prehistoric', 'prelude', 'premier', 'premiered', 'prenatal', 'prep', 'prepared', 'prequel', 'prescription', 'present', 'preservation', 'preserve', 'presided', 'presidency', 'president', 'presidential', 'presidents', 'presley', 'press', 'pressure', 'pressured', 'preston', 'prevailing', 'prevent', 'prevents', 'previous', 'prewett', 'prewitt', 'price', 'prices', 'pride', 'priest', 'priestley', 'primal', 'primary', 'primate', 'prime', 'primitives', 'prince', 'princess', 'principal', 'principle', 'principles', 'print', 'printing', 'prinze', 'prism', 'prison', 'prisoner', 'prisoners', 'private', 'prix', 'prize', 'prizes', 'pro', 'probability', 'problem', 'problems', 'procedure', 'proceed', 'process', 'processing', 'processor', 'procter', 'produce', 'produced', 'producer', 'producers', 'produces', 'producing', 'product', 'production', 'products', 'profession', 'professional', 'professor', 'proficient', 'profit', 'profits', 'program', 'programming', 'project', 'projects', 'proliferation', 'prologue', 'promising', 'promote', 'promoters', 'promotion', 'prompted', 'pronoun', 'pronounce', 'pronounced', 'proof', 'propaganda', 'propellers', 'proper', 'properly', 'properties', 'prophecies', 'prophet', 'proposition', 'prosecutor', 'prostitute', 'protagonist', 'protanopia', 'protect', 'protecting', 'protection', 'protects', 'protein', 'protestant', 'protestors', 'proud', 'proverb', 'provide', 'provided', 'provider', 'provides', 'province', 'provo', 'prussia', 'prussian', 'pseudonym', 'psi', 'psoriasis', 'psorisis', 'psychiatric', 'psychologically', 'psychology', 'pub', 'public', 'publication', 'publish', 'published', 'publisher', 'puccini', 'pudding', 'puddle', 'puerto', 'pugilist', 'pulaski', 'pulitzer', 'pull', 'pulls', 'pulp', 'pulse', 'pump', 'punch', 'punchbowl', 'punctuation', 'punishment', 'puppy', 'purchase', 'purchased', 'purified', 'purina', 'purple', 'purpose', 'purposes', 'pursued', 'pursuit', 'purveyor', 'pushed', 'pusher', 'pushes', 'pushy', 'pussycats', 'putting', 'putty', 'puzzle', 'pym', 'pyramid', 'pyrotechnic', 'pythagoras', 'q', 'qatar', 'qigong', 'qintex', 'quadruplets', 'qualifications', 'quality', 'quantity', 'quantum', 'quart', 'quarter', 'quarterbacks', 'quarters', 'quarts', 'quebec', 'queen', 'queensland', 'quelling', 'quencher', 'queries', 'question', 'questions', 'quetzalcoatl', 'quick', 'quicker', 'quickest', 'quickly', 'quilting', 'quintillion', 'quirk', 'quisling', 'quit', 'quixote', 'quiz', 'quotation', 'quotes', 'r', 'rabbit', 'rabbits', 'rabies', 'race', 'raced', 'racehorse', 'races', 'racetrack', 'racing', 'racism', 'racoon', 'radiation', 'radio', 'radioactive', 'radiographer', 'radius', 'raging', 'rah', 'raid', 'raider', 'raiders', 'rail', 'railroad', 'railway', 'railways', 'rain', 'rainbow', 'rainfall', 'rainstorm', 'raise', 'raised', 'raising', 'raja', 'rallying', 'ram', 'rams', 'ran', 'ranch', 'randolph', 'randy', 'range', 'ranger', 'ranges', 'rank', 'ranking', 'ranks', 'rann', 'rare', 'rarely', 'rarest', 'rascals', 'rate', 'rated', 'rathaus', 'ratified', 'rating', 'ratio', 'ravens', 'rawhide', 'ray', 'rayburn', 'razor', 'rca', 'rcd', 'reach', 'reaches', 'reaction', 'reactivity', 'read', 'readers', 'reading', 'ready', 'reagan', 'real', 'reality', 'really', 'realm', 'rear', 'rearranged', 'reason', 'reb', 'rebellion', 'rebellions', 'rebounds', 'recalled', 'recapture', 'receive', 'received', 'recently', 'recessed', 'recession', 'recetrack', 'rechargeable', 'recharged', 'recipe', 'recognition', 'recognize', 'recomended', 'recommend', 'recommended', 'record', 'recorded', 'records', 'recounts', 'recovery', 'recreational', 'recruited', 'recruitment', 'recruits', 'rectum', 'recycled', 'red', 'redford', 'redness', 'rednitz', 'redskin', 'reed', 'refer', 'referees', 'reference', 'referring', 'refers', 'reflections', 'reflectors', 'refrain', 'refuge', 'refugee', 'refuse', 'refusing', 'regained', 'regan', 'regarding', 'regardless', 'regenerate', 'region', 'register', 'registers', 'registration', 'regular', 'regulate', 'regulation', 'reign', 'reims', 'reinstate', 'rejection', 'relate', 'related', 'relations', 'relationship', 'relative', 'relatives', 'relax', 'release', 'released', 'relevant', 'reliable', 'relief', 'reliever', 'religion', 'religions', 'remain', 'remains', 'remake', 'remembered', 'remembrance', 'remote', 'remove', 'removed', 'renaissance', 'renaud', 'renoir', 'renown', 'rent', 'repealed', 'repeating', 'repeats', 'replaced', 'replica', 'replied', 'replies', 'report', 'reports', 'repossession', 'represent', 'representative', 'representatives', 'represented', 'represents', 'reproduce', 'reptiles', 'republic', 'reputation', 'reputed', 'required', 'requirement', 'requirements', 'requires', 'research', 'researches', 'resembled', 'reserve', 'residence', 'resident', 'residents', 'resignation', 'resistance', 'resource', 'resources', 'respirator', 'respond', 'respones', 'responsible', 'rest', 'restaurant', 'resting', 'restore', 'restored', 'resulting', 'results', 'resurrectionist', 'retired', 'retirement', 'retrievers', 'retrograde', 'return', 'returned', 'reunified', 'reunited', 'reuter', 'rev', 'revelation', 'review', 'reviews', 'revival', 'revive', 'revolt', 'revolution', 'revolutionaries', 'revolutionary', 'revolutions', 'revolve', 'rex', 'rey', 'reynolds', 'rhett', 'rhine', 'rhinestone', 'rhode', 'rhodes', 'rhomboideus', 'rhyme', 'rhymes', 'ribavirin', 'ribbon', 'rica', 'rice', 'rich', 'richard', 'richards', 'richest', 'richthofen', 'rick', 'rico', 'rid', 'ridden', 'ridder', 'ride', 'rider', 'ridge', 'ridges', 'riding', 'rifle', 'rifleman', 'rigati', 'right', 'rights', 'ring', 'ringo', 'rings', 'rios', 'riots', 'ripe', 'ripening', 'rise', 'rises', 'rising', 'risk', 'rita', 'rites', 'river', 'rivers', 'road', 'roads', 'roaring', 'roasts', 'robb', 'robbers', 'robbins', 'robert', 'robertson', 'robin', 'robinson', 'robust', 'rock', 'rockefeller', 'rocket', 'rockettes', 'rockin', 'rockne', 'rocks', 'rocky', 'rococo', 'rodder', 'rode', 'rodeo', 'roe', 'roger', 'rogers', 'role', 'roles', 'rolfe', 'roll', 'roller', 'rolling', 'rolls', 'rom', 'roman', 'romania', 'romans', 'romantic', 'romanticism', 'rome', 'rommel', 'ron', 'rona', 'ronald', 'rooftops', 'room', 'roommates', 'roosevelt', 'roosters', 'root', 'roots', 'rosa', 'rosanna', 'rosanne', 'rose', 'rosemary', 'roses', 'ross', 'rossetti', 'rossini', 'rossner', 'rostropovich', 'rotary', 'rotunda', 'roulette', 'round', 'rounded', 'rousseau', 'routinely', 'row', 'rowan', 'rowing', 'rows', 'roy', 'royal', 'royce', 'rubber', 'rubble', 'rubens', 'rubik', 'rubin', 'ruble', 'ruby', 'ruckus', 'rude', 'rugby', 'rugs', 'ruin', 'rule', 'rulebook', 'ruled', 'rules', 'rum', 'ruminant', 'rummy', 'run', 'runner', 'running', 'runs', 'rupee', 'rural', 'rush', 'russell', 'russia', 'russian', 'russians', 'rust', 'ruth', 'rwanda', 's', 'sabres', 'sabrina', 'sacred', 'saddam', 'safari', 'safe', 'safest', 'safety', 'sagebrush', 'saharan', 'said', 'sailed', 'sailing', 'sailor', 'sailors', 'saint', 'saks', 'salary', 'sale', 'sales', 'salesman', 'saline', 'saliva', 'salk', 'sally', 'salmon', 'salonen', 'saloons', 'salt', 'saltpeter', 'salvador', 'salzburg', 'sam', 'sampling', 'samson', 'samuel', 'san', 'sand', 'sandra', 'sang', 'sank', 'santa', 'santos', 'sao', 'sap', 'sara', 'saratoga', 'sardonyx', 'sarge', 'sark', 'sartorial', 'satelite', 'satellites', 'satirized', 'satisfaction', 'satisfactory', 'saturday', 'sauce', 'saudi', 'saute', 'sauvignon', 'save', 'saved', 'saves', 'savings', 'saw', 'sawyer', 'saxophone', 'say', 'saying', 'says', 'scale', 'scalene', 'scales', 'scan', 'scandal', 'scandinavian', 'scar', 'scares', 'scarlet', 'scarlett', 'scars', 'scene', 'scenes', 'schematics', 'schnitzel', 'scholar', 'school', 'schoolhouse', 'schooling', 'schools', 'schoolteacher', 'schwarzenegger', 'sci', 'science', 'scientific', 'scientists', 'scientology', 'scooby', 'scopes', 'score', 'scored', 'scores', 'scorpion', 'scotch', 'scotland', 'scott', 'scottish', 'scoundrel', 'scouts', 'scrabble', 'scratch', 'scream', 'screen', 'screening', 'screenplay', 'screens', 'screensaver', 'scrooge', 'scrum', 'scruples', 'scsi', 'sculptress', 'sculpture', 'scythe', 'sea', 'seafarers', 'seafaring', 'seagull', 'seal', 'seaport', 'search', 'seas', 'seashell', 'season', 'seasons', 'seat', 'seats', 'seattle', 'seawater', 'seaweed', 'sebastian', 'seborrhea', 'seccession', 'second', 'secondary', 'secret', 'secretary', 'section', 'securities', 'security', 'sed', 'seed', 'seeing', 'seek', 'seeking', 'seen', 'sees', 'seine', 'seized', 'seizure', 'select', 'selecting', 'selective', 'self', 'sell', 'selleck', 'seller', 'sellers', 'selling', 'sells', 'semper', 'sen', 'senate', 'senator', 'send', 'sennett', 'sense', 'senses', 'sensitive', 'sent', 'sentence', 'separated', 'separates', 'september', 'sequel', 'sequencing', 'serfdom', 'sergeant', 'serial', 'series', 'serigraph', 'seriously', 'seriphos', 'serve', 'served', 'server', 'servers', 'serves', 'service', 'services', 'serving', 'session', 'sessions', 'set', 'setting', 'settle', 'settlement', 'seuss', 'seven', 'seventeen', 'seventh', 'sewer', 'sex', 'sexiest', 'sexual', 'sexy', 'shadow', 'shadows', 'shady', 'shag', 'shake', 'shaken', 'shakespeare', 'shakespearean', 'shall', 'shallow', 'shalom', 'shampoo', 'shape', 'share', 'shared', 'shark', 'sharks', 'sharon', 'sharp', 'shave', 'shawn', 'shays', 'shea', 'sheath', 'sheboygan', 'sheep', 'sheika', 'sheila', 'shek', 'shelf', 'shelleen', 'shelley', 'shelves', 'sheri', 'sherlock', 'sherman', 'shetland', 'shevardnadze', 'shia', 'shield', 'shiest', 'shifting', 'shillings', 'shimerda', 'shine', 'ship', 'shipment', 'ships', 'shipwreck', 'shipyard', 'shirley', 'shirts', 'shirtwaist', 'shiver', 'shock', 'shoe', 'shoes', 'shoot', 'shooting', 'shoplifts', 'shopping', 'shoreline', 'shores', 'shorn', 'short', 'shortage', 'shortest', 'shortstop', 'shostakovich', 'shot', 'shots', 'shoulder', 'shouldn', 'shouts', 'showed', 'shower', 'showers', 'shown', 'shows', 'showtimes', 'shroud', 'shrubs', 'shute', 'shuttle', 'shylock', 'sic', 'sicilian', 'sicily', 'sideburns', 'sided', 'sides', 'sidewinder', 'sidney', 'sids', 'sierra', 'sigmund', 'sign', 'signals', 'signature', 'signed', 'significant', 'signs', 'silence', 'silent', 'silk', 'silkworm', 'silly', 'silver', 'silvers', 'silversmith', 'silversmiths', 'similar', 'simon', 'simple', 'simpler', 'simpson', 'simpsons', 'sinatra', 'sinclair', 'sine', 'sinemet', 'sing', 'singer', 'singing', 'single', 'singles', 'sings', 'singular', 'sink', 'sinn', 'sinning', 'sins', 'sioux', 'siphnos', 'sir', 'sired', 'siskel', 'sisley', 'sister', 'sisters', 'sisterðcity', 'sistine', 'sit', 'sitcom', 'site', 'sites', 'sixties', 'size', 'sizes', 'skateboarding', 'skater', 'skating', 'ski', 'skiing', 'skim', 'skin', 'skittles', 'skrunch', 'skull', 'skunks', 'sky', 'skyline', 'skywalker', 'slam', 'slane', 'slang', 'slaughter', 'slave', 'slavery', 'slaves', 'sled', 'sleep', 'sleeping', 'sleepless', 'sleeps', 'sleet', 'sleeve', 'slide', 'slightly', 'slim', 'slime', 'slinky', 'slits', 'slogan', 'slotbacks', 'slow', 'slowest', 'slows', 'small', 'smallest', 'smartnet', 'smell', 'smelly', 'smile', 'smith', 'smithsonian', 'smokey', 'smoking', 'smothers', 'snack', 'snafu', 'snail', 'snake', 'snakebite', 'snakes', 'snap', 'snarly', 'snatches', 'sneeze', 'sneezing', 'snickers', 'snoogans', 'snoopy', 'snore', 'snoring', 'snow', 'snowballs', 'snowboard', 'snowboarding', 'snowiest', 'snowman', 'snyder', 'soap', 'soccer', 'social', 'socialism', 'society', 'socioeconomic', 'socrates', 'socratic', 'soda', 'sodium', 'soft', 'softball', 'softest', 'software', 'solar', 'sold', 'soldier', 'soldiers', 'solid', 'solo', 'solomon', 'solve', 'somalia', 'somebody', 'somene', 'somme', 'son', 'sondheim', 'song', 'songs', 'sonic', 'sonnets', 'sonny', 'sons', 'sony', 'sores', 'sort', 'soto', 'sought', 'souls', 'sound', 'sounded', 'soundtrack', 'soup', 'source', 'sourness', 'south', 'southdowns', 'southeast', 'southern', 'southernmost', 'southwestern', 'soviet', 'soy', 'space', 'spaceball', 'spacecraft', 'spaces', 'spacewalk', 'spade', 'spaghetti', 'spahn', 'spain', 'spamming', 'span', 'spangled', 'spanish', 'sparkles', 'sparkling', 'spartacus', 'spartanburg', 'spawned', 'speak', 'speaker', 'speaking', 'speaks', 'spears', 'special', 'specializing', 'species', 'specific', 'specifically', 'specimen', 'spectacle', 'spectrum', 'speech', 'speed', 'speeds', 'spelled', 'spelling', 'spend', 'spent', 'sperm', 'spermologer', 'sphere', 'spice', 'spices', 'spicey', 'spider', 'spielberg', 'spill', 'spin', 'spine', 'spins', 'spiracles', 'spiritual', 'splatterpunk', 'split', 'spock', 'spoke', 'spoken', 'spokesman', 'spokespeople', 'spokesperson', 'sponsor', 'sport', 'sporting', 'sports', 'spotlight', 'spouting', 'sprain', 'sprawling', 'spray', 'sprayed', 'spread', 'springfield', 'springs', 'spritsail', 'spritz', 'spritzer', 'sprocket', 'sprouted', 'sprouts', 'spumante', 'spy', 'sql', 'square', 'squares', 'squats', 'squeaky', 'srpska', 'st', 'stadium', 'staff', 'stage', 'stagecoach', 'stages', 'stained', 'stains', 'stairway', 'stake', 'stakes', 'stalag', 'stalin', 'stalker', 'stalled', 'stallone', 'stamp', 'stamps', 'stand', 'standard', 'standards', 'stands', 'stanford', 'stanley', 'star', 'stardom', 'stardust', 'starred', 'starring', 'stars', 'starship', 'start', 'started', 'starting', 'starts', 'starving', 'stassen', 'stat', 'state', 'stated', 'statement', 'states', 'station', 'stationed', 'stations', 'statistical', 'statistics', 'statue', 'statues', 'status', 'stay', 'steakburgers', 'steal', 'stealing', 'steam', 'steamboat', 'steel', 'steepest', 'steeplechase', 'steering', 'stefan', 'stein', 'steinbeck', 'stem', 'stephen', 'steps', 'stereo', 'sterilize', 'stern', 'stethoscope', 'steve', 'steven', 'stevens', 'stevenson', 'stevie', 'stewart', 'stick', 'stickers', 'stinger', 'stingers', 'stings', 'stirred', 'stitch', 'stock', 'stockings', 'stocks', 'stockyards', 'stole', 'stolen', 'stomach', 'stone', 'stonehenge', 'stones', 'stonewall', 'stood', 'stop', 'stopped', 'stops', 'store', 'stored', 'stores', 'stories', 'storm', 'storms', 'story', 'stove', 'stradivarius', 'straight', 'strait', 'strange', 'stranger', 'strap', 'strasbourg', 'stratocaster', 'stratton', 'streak', 'street', 'streetcar', 'streets', 'stretch', 'stricken', 'strikes', 'stringed', 'strings', 'strip', 'stripe', 'stripes', 'stripped', 'strips', 'stroke', 'strokes', 'strong', 'stronger', 'strontium', 'struck', 'structure', 'struggle', 'stuart', 'stubborn', 'stuck', 'student', 'students', 'studio', 'studios', 'study', 'style', 'styloid', 'styron', 'sub', 'subaru', 'subject', 'submarine', 'submarines', 'submerged', 'substance', 'subtitled', 'suburb', 'suburban', 'subversive', 'subway', 'succeed', 'succeeded', 'success', 'successful', 'successfully', 'succession', 'succotash', 'sued', 'suey', 'suffer', 'suffering', 'suffrage', 'sugar', 'suicides', 'suit', 'suite', 'sulfur', 'sullivan', 'sultan', 'sum', 'summer', 'summit', 'sun', 'sundaes', 'sundance', 'sunday', 'sunflowers', 'sung', 'sunk', 'sunlight', 'sunnyside', 'sunset', 'super', 'superb', 'superbowl', 'superbowls', 'supercontinent', 'supergirl', 'superman', 'superstar', 'supper', 'supplement', 'supplier', 'support', 'supporting', 'supports', 'supposed', 'supremacy', 'supreme', 'surface', 'surfboard', 'surfing', 'surge', 'surgeon', 'surname', 'surnames', 'surpassing', 'surrender', 'surrendered', 'surroundings', 'surrounds', 'surveyor', 'survival', 'survivor', 'survivors', 'suspect', 'suspension', 'sussex', 'sutcliffe', 'sutter', 'suzette', 'suzy', 'svga', 'svhs', 'swallow', 'swamp', 'swampy', 'swap', 'swapped', 'swastika', 'swatch', 'sweaty', 'sweden', 'sweet', 'sweeter', 'sweetheart', 'swim', 'swimmer', 'swimming', 'swims', 'swing', 'swiss', 'switch', 'switzerland', 'sword', 'sydney', 'syllables', 'symbol', 'symbolize', 'symbolizes', 'symphony', 'symptom', 'symptoms', 'syndrome', 'synonym', 'synonymous', 'synthesizer', 'syrian', 'syringe', 'syrup', 'sysrq', 'systems', 'syzygy', 't', 'tab', 'table', 'tablespoon', 'tabs', 'tabulates', 'tackle', 'tadeus', 'taft', 'tail', 'tailbacks', 'tailoring', 'tailors', 'tails', 'taiwan', 'taiwanese', 'taj', 'tak', 'taken', 'takes', 'taking', 'tale', 'talk', 'talking', 'tall', 'taller', 'tallest', 'tammy', 'tampa', 'tampon', 'tanker', 'tannins', 'tap', 'tape', 'tarantula', 'target', 'tarnished', 'task', 'tasket', 'tasman', 'taste', 'tastes', 'tasting', 'tatiana', 'tattoo', 'taught', 'tax', 'taxed', 'taxi', 'taylor', 'tbk', 'tea', 'teachers', 'teaching', 'team', 'teams', 'tears', 'teaspoon', 'teaspoons', 'teats', 'techmeth', 'technical', 'technique', 'technology', 'ted', 'teddy', 'tee', 'teen', 'teenage', 'teenager', 'teenagers', 'teeth', 'teflon', 'tel', 'telecast', 'telegraph', 'telephone', 'telephones', 'telescope', 'televised', 'television', 'tell', 'tells', 'temp', 'tempelhol', 'temperance', 'temperature', 'temperatures', 'temple', 'tenants', 'tend', 'tender', 'tenderness', 'tennessee', 'tennis', 'tenpin', 'tenses', 'tent', 'tenths', 'tequila', 'terabyte', 'terata', 'term', 'termed', 'termeq', 'terms', 'terrence', 'terrible', 'terrier', 'terrific', 'terrified', 'territories', 'territory', 'terror', 'terrorism', 'terrorist', 'terrorized', 'terry', 'tesla', 'test', 'testament', 'tested', 'tetrinet', 'tex', 'texas', 'text', 'textile', 'textiles', 'tft', 'thackeray', 'thai', 'thalassemia', 'thalia', 'thank', 'thanksgiving', 'thatcher', 'theater', 'theatre', 'theatrical', 'thee', 'thefts', 'theme', 'themes', 'theo', 'theodore', 'theorem', 'theories', 'theory', 'theotokopoulos', 'therapy', 'theresa', 'thermal', 'theses', 'theta', 'thickness', 'thighs', 'thine', 'thing', 'things', 'think', 'thinking', 'thirds', 'thirst', 'thomas', 'thompson', 'thor', 'thought', 'thousands', 'threat', 'thrilled', 'thrillers', 'throat', 'throne', 'throw', 'throwing', 'thucydides', 'thumb', 'thunder', 'thurgood', 'thursday', 'ticker', 'ticket', 'ticklish', 'tide', 'tie', 'tied', 'tiffany', 'tiger', 'tile', 'tiles', 'tim', 'time', 'times', 'timor', 'tin', 'tiny', 'tip', 'tips', 'tirana', 'tire', 'tissue', 'titanic', 'titanium', 'titans', 'title', 'titled', 'titles', 'titus', 'toast', 'today', 'toes', 'toilet', 'tokens', 'tokyo', 'told', 'tolkien', 'toll', 'tolling', 'tolstoy', 'tom', 'tomato', 'ton', 'tongue', 'tonne', 'tons', 'tonsils', 'tony', 'took', 'tools', 'tooth', 'toothbrush', 'toothpaste', 'tootin', 'tootsie', 'topic', 'topophobic', 'topped', 'topple', 'toppling', 'tornado', 'tornadoes', 'tornados', 'tossing', 'total', 'touch', 'touchbacks', 'touchdowns', 'touched', 'touching', 'toulmin', 'tour', 'touring', 'tourism', 'tourist', 'tourists', 'tournament', 'tournaments', 'tours', 'tout', 'touted', 'tower', 'town', 'toy', 'toys', 'trace', 'track', 'tractors', 'tracy', 'trade', 'traded', 'trademark', 'trademarks', 'trader', 'trading', 'tradition', 'traditional', 'traditions', 'trafalgar', 'traffic', 'tragedy', 'tragic', 'trail', 'train', 'trainer', 'training', 'traits', 'tramped', 'trans', 'transcript', 'transistor', 'transistors', 'translate', 'translated', 'translation', 'translations', 'transmitted', 'transparent', 'transplant', 'transplants', 'transport', 'transported', 'travel', 'traveled', 'travelers', 'traveling', 'travelling', 'travels', 'traversed', 'treason', 'treasure', 'treasury', 'treat', 'treated', 'treatment', 'treatments', 'tree', 'treehouse', 'trees', 'trek', 'trial', 'trials', 'triangle', 'tribe', 'tribes', 'tried', 'tries', 'trigonometry', 'trillion', 'trilogy', 'trinidad', 'trinitrotoluene', 'trip', 'triple', 'triplets', 'tristan', 'tristar', 'trivial', 'troilism', 'trojan', 'troop', 'troops', 'trophy', 'tropical', 'truck', 'true', 'truly', 'truman', 'truth', 'try', 'trying', 'tsetse', 'tub', 'tube', 'tuberculosis', 'tubetti', 'tucson', 'tufts', 'tulip', 'tumbled', 'tumbling', 'tune', 'tungsten', 'tunnel', 'turbulent', 'turin', 'turkey', 'turks', 'turn', 'turned', 'turner', 'turning', 'turnkey', 'turns', 'turret', 'tussaud', 'tutankhamun', 'tutu', 'tv', 'twain', 'tweety', 'tweezers', 'twice', 'twin', 'twins', 'twirl', 'ty', 'tyler', 'tylo', 'type', 'types', 'typewriter', 'typhoid', 'typical', 'typically', 'typing', 'typist', 'tyrannosaurus', 'tyvek', 'tzimisce', 'u', 'uber', 'ugly', 'uk', 'ukraine', 'ukrainians', 'ukulele', 'ultimate', 'ultraviolet', 'ulysses', 'umbrellas', 'unaccounted', 'unanswerable', 'unarmed', 'uncle', 'underage', 'underground', 'understand', 'underwater', 'underworld', 'unemployment', 'unfamiliar', 'unification', 'uniform', 'uniforms', 'union', 'unique', 'united', 'universal', 'universe', 'university', 'unknown', 'unleashed', 'unsafe', 'unsuccessful', 'untouchables', 'unum', 'unusual', 'uol', 'uplands', 'upper', 'uprising', 'upstaged', 'upstairs', 'urals', 'urban', 'urged', 'urgent', 'uris', 'url', 'urologist', 'ursula', 'uruguay', 'usa', 'usage', 'usb', 'use', 'used', 'useful', 'usenet', 'user', 'users', 'uses', 'using', 'ussr', 'usually', 'utah', 'utensils', 'utilities', 'v', 'v1', 'vacations', 'vaccine', 'vacuum', 'vader', 'vagina', 'valdez', 'valentine', 'valley', 'valuable', 'value', 'values', 'valve', 'vamp', 'van', 'vapor', 'varian', 'variations', 'varieties', 'variety', 'various', 'vasco', 'vatican', 'vats', 'vb', 'vbp', 'vcr', 'vdrl', 've', 'veal', 'vegas', 'vegetable', 'vegetables', 'vegetation', 'veh', 'vehicle', 'vehicles', 'veins', 'vending', 'venetian', 'venice', 'ventura', 'venture', 'venus', 'vera', 'verdandi', 'verdict', 'verification', 'vermicilli', 'vermont', 'vermouth', 'vernal', 'verne', 'veronica', 'verse', 'verses', 'version', 'vessel', 'vessels', 'vesting', 'vesuvius', 'veterans', 'vhf', 'vhs', 'viagra', 'vice', 'viceroy', 'vichy', 'vichyssoise', 'victim', 'victims', 'victor', 'victoria', 'victorian', 'victory', 'video', 'videotape', 'vienna', 'vietnam', 'vietnamese', 'viewing', 'viii', 'viking', 'village', 'villain', 'villainous', 'villi', 'vince', 'vincent', 'vinci', 'vineyard', 'violates', 'violent', 'violins', 'virgin', 'virginia', 'virtual', 'virtues', 'virus', 'viscosity', 'visible', 'visine', 'visit', 'visited', 'visiting', 'visitors', 'visual', 'vitamin', 'vitamins', 'vitreous', 'vladimir', 'vlaja', 'vocal', 'vocalist', 'vocals', 'vodka', 'voice', 'voices', 'void', 'volcano', 'volcanoes', 'volkswagen', 'volley', 'volleyball', 'volsize', 'volume', 'von', 'voorhees', 'vote', 'voter', 'votes', 'voting', 'vowel', 'voyage', 'voyager', 'vs', 'vw', 'w', 'waco', 'wade', 'wage', 'wake', 'wakefield', 'walden', 'walk', 'walked', 'walker', 'walking', 'walks', 'wall', 'wallbanger', 'wallpaper', 'walls', 'walt', 'walter', 'wander', 'wang', 'wanna', 'want', 'war', 'warfare', 'warhol', 'warlock', 'warm', 'warmup', 'warn', 'warned', 'warner', 'warp', 'warren', 'wars', 'wart', 'wash', 'washed', 'washington', 'wasn', 'wasps', 'wassermann', 'waste', 'watch', 'watchers', 'watching', 'watchman', 'water', 'waterfall', 'watergate', 'waterways', 'watts', 'waugh', 'wave', 'waved', 'waverly', 'wax', 'way', 'wayne', 'waynesburg', 'ways', 'weakest', 'weakness', 'weaknesses', 'wealthiest', 'weapon', 'weapons', 'wear', 'wearing', 'wears', 'weather', 'web', 'weber', 'webpage', 'website', 'websites', 'webster', 'wedding', 'wee', 'week', 'weekend', 'weeks', 'weft', 'weigh', 'weight', 'weir', 'weird', 'wells', 'wembley', 'wenceslas', 'wendy', 'went', 'werewolf', 'west', 'western', 'westernmost', 'westview', 'westward', 'wet', 'whale', 'wharton', 'wheat', 'wheatfield', 'wheel', 'wheels', 'whip', 'whiskers', 'whisky', 'whist', 'whitcomb', 'white', 'whitetail', 'whorehouse', 'wick', 'wicket', 'wide', 'widely', 'widmark', 'wielded', 'wiener', 'wife', 'wiggins', 'wilbur', 'wild', 'wilder', 'wilderness', 'wilding', 'wildlife', 'wile', 'wilhelm', 'wilkes', 'william', 'williams', 'willie', 'willin', 'wills', 'willy', 'wilson', 'wimbledon', 'win', 'wind', 'windmills', 'window', 'windows', 'winds', 'windshield', 'windsor', 'wine', 'wines', 'wing', 'wings', 'wingspan', 'winkerbean', 'winkie', 'winner', 'winners', 'winnie', 'winning', 'wins', 'winslow', 'winston', 'winter', 'winters', 'wiper', 'wisconsin', 'wise', 'wished', 'witch', 'witches', 'witness', 'witnesses', 'wittenberg', 'wives', 'wiz', 'wizard', 'wladyslaw', 'woke', 'wolfe', 'wolfman', 'wolfsheim', 'wolverine', 'woman', 'women', 'won', 'wonder', 'wonderbra', 'wonderland', 'wonders', 'woo', 'wood', 'woodpecker', 'woodpeckers', 'woodrow', 'woods', 'woodstock', 'woodward', 'woody', 'wop', 'word', 'words', 'wordsworth', 'work', 'worked', 'workers', 'working', 'world', 'worlds', 'worldwide', 'worm', 'worms', 'worst', 'worth', 'wound', 'wrap', 'wrath', 'wreaked', 'wreaks', 'wreckage', 'wrestler', 'wrestling', 'wright', 'wrist', 'writ', 'write', 'writer', 'writers', 'writing', 'written', 'wrote', 'wu', 'wwf', 'wwi', 'wwii', 'www', 'wyoming', 'x', 'xoxoxox', 'xv', 'y', 'ya', 'yacht', 'yachts', 'yahoo', 'yakutsk', 'yale', 'yalta', 'yank', 'yankee', 'yankees', 'yard', 'yards', 'yaroslavl', 'ybarra', 'year', 'yearly', 'years', 'yeat', 'yell', 'yellow', 'yellowstone', 'yemen', 'yes', 'yesterdays', 'yiddish', 'yield', 'yo', 'yogi', 'yogurt', 'yohimbine', 'yom', 'yoo', 'york', 'yorktown', 'yos', 'yougurt', 'young', 'younger', 'youngest', 'youngman', 'youngsters', 'younis', 'yous', 'yousuf', 'youth', 'yugoslavians', 'yukon', 'z', 'zadora', 'zapper', 'zatanna', 'zealand', 'zebras', 'zebulon', 'zenger', 'zeppelin', 'zero', 'zeros', 'zimbabwe', 'zionism', 'zip', 'zipper', 'zitoni', 'zodiac', 'zodiacal', 'zolotow', 'zone', 'zones', 'zoo', 'zoological', 'zoonose', 'zorro']\n"
          ],
          "name": "stdout"
        }
      ]
    },
    {
      "cell_type": "code",
      "metadata": {
        "id": "OJMrajnbWzTj",
        "colab_type": "code",
        "colab": {}
      },
      "source": [
        "xtrain_count =  count_vect.transform(train_x)\n",
        "xvalid_count =  count_vect.transform(valid_x)\n"
      ],
      "execution_count": 0,
      "outputs": []
    },
    {
      "cell_type": "code",
      "metadata": {
        "id": "Q1rx2w9XibBG",
        "colab_type": "code",
        "colab": {}
      },
      "source": [
        "# TF-IDF\n",
        "\n",
        "tfidf_vect = TfidfVectorizer(analyzer='word', token_pattern=r'\\w{1,}', max_features=5000)\n",
        "tfidf_vect.fit(df['Text'])\n",
        "xtrain_tfidf =  tfidf_vect.transform(train_x)\n",
        "xvalid_tfidf =  tfidf_vect.transform(valid_x)"
      ],
      "execution_count": 0,
      "outputs": []
    },
    {
      "cell_type": "code",
      "metadata": {
        "id": "Muui0TLTOzTB",
        "colab_type": "code",
        "outputId": "cdeebbbd-2cf6-459a-d2f0-0b8f09516cfc",
        "colab": {
          "base_uri": "https://localhost:8080/",
          "height": 846
        }
      },
      "source": [
        "print(xtrain_tfidf)"
      ],
      "execution_count": 0,
      "outputs": [
        {
          "output_type": "stream",
          "text": [
            "  (0, 4772)\t0.06941556364171167\n",
            "  (0, 4703)\t0.147338223617916\n",
            "  (0, 4124)\t0.4180015498309213\n",
            "  (0, 3891)\t0.33019591031404755\n",
            "  (0, 3889)\t0.2525811091177255\n",
            "  (0, 3857)\t0.4180015498309213\n",
            "  (0, 1657)\t0.3099880219446398\n",
            "  (0, 1616)\t0.12074308806797865\n",
            "  (0, 1251)\t0.20174053008641837\n",
            "  (0, 204)\t0.3989813117103801\n",
            "  (0, 44)\t0.37501864560715714\n",
            "  (1, 4772)\t0.08972934975194283\n",
            "  (1, 4256)\t0.19789370597774203\n",
            "  (1, 4239)\t0.3501975940623063\n",
            "  (1, 4189)\t0.10051594148174864\n",
            "  (1, 3795)\t0.5403256171083658\n",
            "  (1, 2571)\t0.31588851770011506\n",
            "  (1, 1774)\t0.5157392922390286\n",
            "  (1, 1678)\t0.1330124942884123\n",
            "  (1, 316)\t0.3803002054090256\n",
            "  (2, 4814)\t0.24557037453436736\n",
            "  (2, 4779)\t0.15369079532516583\n",
            "  (2, 4778)\t0.16961169230724865\n",
            "  (2, 4772)\t0.057606683655581616\n",
            "  (2, 4495)\t0.22482857698025685\n",
            "  :\t:\n",
            "  (4086, 4189)\t0.20559224069340984\n",
            "  (4086, 3301)\t0.527438708437647\n",
            "  (4086, 2267)\t0.14480014311198983\n",
            "  (4086, 2145)\t0.23576074555059945\n",
            "  (4086, 1678)\t0.13602984928484962\n",
            "  (4086, 1533)\t0.43191127354124514\n",
            "  (4086, 826)\t0.5548940466201113\n",
            "  (4087, 4787)\t0.31644247304183226\n",
            "  (4087, 4323)\t0.42341840918953055\n",
            "  (4087, 4189)\t0.07876787383903401\n",
            "  (4087, 3320)\t0.13859987286464798\n",
            "  (4087, 2820)\t0.3712150128477582\n",
            "  (4087, 2267)\t0.22190719583679083\n",
            "  (4087, 2145)\t0.18065246625157758\n",
            "  (4087, 1629)\t0.12990677867043687\n",
            "  (4087, 1616)\t0.12230779118176607\n",
            "  (4087, 1495)\t0.3575450572105155\n",
            "  (4087, 882)\t0.40415168883726577\n",
            "  (4087, 780)\t0.3904817332000231\n",
            "  (4088, 4789)\t0.23243405275584603\n",
            "  (4088, 4189)\t0.1200175713449306\n",
            "  (4088, 2616)\t0.6451570501637489\n",
            "  (4088, 2503)\t0.6158006022648739\n",
            "  (4088, 1629)\t0.19793724671470037\n",
            "  (4088, 1251)\t0.3113728294588171\n"
          ],
          "name": "stdout"
        }
      ]
    },
    {
      "cell_type": "code",
      "metadata": {
        "id": "w5pZfk6oR3wt",
        "colab_type": "code",
        "colab": {}
      },
      "source": [
        "# Defining Model, returning Accuracy\n",
        "\n",
        "def train_model(classifier, feature_vector_train, label, feature_vector_valid):\n",
        "    # fit the training dataset on the classifier\n",
        "    classifier.fit(feature_vector_train, label)\n",
        "    \n",
        "    # predict the labels on validation dataset\n",
        "    predictions = classifier.predict(feature_vector_valid)\n",
        "\n",
        "    return metrics.accuracy_score(predictions, valid_y)"
      ],
      "execution_count": 0,
      "outputs": []
    },
    {
      "cell_type": "code",
      "metadata": {
        "id": "wyzQQ1dsO-ba",
        "colab_type": "code",
        "outputId": "cd1b1f3b-8d96-4674-e168-41ec3aa44e8c",
        "colab": {
          "base_uri": "https://localhost:8080/",
          "height": 33
        }
      },
      "source": [
        "#NB Accuracy for Count Vectors\n",
        "\n",
        "accuracy = train_model(naive_bayes.MultinomialNB(), xtrain_count, train_y, xvalid_count)\n",
        "print(\"NB, Count Vectors: \", accuracy)"
      ],
      "execution_count": 0,
      "outputs": [
        {
          "output_type": "stream",
          "text": [
            "NB, Count Vectors:  0.9068231841526045\n"
          ],
          "name": "stdout"
        }
      ]
    },
    {
      "cell_type": "code",
      "metadata": {
        "id": "fzw6vS6mfkaB",
        "colab_type": "code",
        "outputId": "5f2c7c52-c36f-4d23-80fd-eb96ea8f2bd2",
        "colab": {
          "base_uri": "https://localhost:8080/",
          "height": 33
        }
      },
      "source": [
        "# SVM\n",
        "\n",
        "accuracy = train_model(svm.SVC(), xtrain_count, train_y, xvalid_count)\n",
        "print(\" SVM, Count vectors: \", accuracy)"
      ],
      "execution_count": 0,
      "outputs": [
        {
          "output_type": "stream",
          "text": [
            " SVM, Count vectors:  0.9427732942039618\n"
          ],
          "name": "stdout"
        }
      ]
    },
    {
      "cell_type": "code",
      "metadata": {
        "id": "1pLzxvDufpzO",
        "colab_type": "code",
        "outputId": "fc6e9c02-bd87-4a2f-d734-6a6a68821b57",
        "colab": {
          "base_uri": "https://localhost:8080/",
          "height": 33
        }
      },
      "source": [
        "# SVM\n",
        "\n",
        "accuracy = train_model(svm.LinearSVC(), xtrain_count, train_y, xvalid_count)\n",
        "print(\"Linear SVM, Count vectors: \", accuracy)"
      ],
      "execution_count": 0,
      "outputs": [
        {
          "output_type": "stream",
          "text": [
            "Linear SVM, Count vectors:  0.9596478356566398\n"
          ],
          "name": "stdout"
        }
      ]
    },
    {
      "cell_type": "code",
      "metadata": {
        "id": "2xT_3djkjRE8",
        "colab_type": "code",
        "outputId": "255c3755-dba1-46a1-fc84-ef9879053c62",
        "colab": {
          "base_uri": "https://localhost:8080/",
          "height": 33
        }
      },
      "source": [
        "# NB Accuracy for TF-IDF\n",
        "\n",
        "accuracy = train_model(naive_bayes.MultinomialNB(), xtrain_tfidf, train_y, xvalid_tfidf)\n",
        "print(\"NB, Count Vectors: \", accuracy)"
      ],
      "execution_count": 0,
      "outputs": [
        {
          "output_type": "stream",
          "text": [
            "NB, Count Vectors:  0.9317681584739546\n"
          ],
          "name": "stdout"
        }
      ]
    },
    {
      "cell_type": "code",
      "metadata": {
        "id": "4qwi_8pISN7M",
        "colab_type": "code",
        "outputId": "3032e537-7bb9-4289-be86-356358f024d3",
        "colab": {
          "base_uri": "https://localhost:8080/",
          "height": 33
        }
      },
      "source": [
        "classify =svm.SVC()\n",
        "\n",
        "classify.fit(xtrain_count,train_y)\n",
        "\n",
        "pred =classify.predict(xvalid_count)\n",
        "\n",
        "print(pred)\n"
      ],
      "execution_count": 0,
      "outputs": [
        {
          "output_type": "stream",
          "text": [
            "[2 3 3 ... 4 2 2]\n"
          ],
          "name": "stdout"
        }
      ]
    },
    {
      "cell_type": "code",
      "metadata": {
        "id": "qoURjpY7UTui",
        "colab_type": "code",
        "outputId": "80bcfe1e-c0c9-412c-bf44-c9ed76262863",
        "colab": {
          "base_uri": "https://localhost:8080/",
          "height": 212
        }
      },
      "source": [
        "print(valid_x)"
      ],
      "execution_count": 0,
      "outputs": [
        {
          "output_type": "stream",
          "text": [
            "2459    cremat What Ernest Hemingway novel had the wor...\n",
            "998               ind Who was the Charlie perfume woman ?\n",
            "4629                    ind Who wrote The Ugly Duckling ?\n",
            "3965         other What are some good fractal web sites ?\n",
            "4499    reason Why does it say on children 's cough sy...\n",
            "                              ...                        \n",
            "1611                         def What is a bourdon tube ?\n",
            "2164                    reason Why can 't ostriches fly ?\n",
            "418     city What Nevada center has been dubbed The Bi...\n",
            "253     gr What schools in the Washington , DC NN NN V...\n",
            "3422    food What fast food is prepared with a `` secr...\n",
            "Name: Text, Length: 1363, dtype: object\n"
          ],
          "name": "stdout"
        }
      ]
    },
    {
      "cell_type": "code",
      "metadata": {
        "id": "kfjwYBbeWNLP",
        "colab_type": "code",
        "outputId": "04c68472-263a-434b-8acd-e3f32e6594bd",
        "colab": {
          "base_uri": "https://localhost:8080/",
          "height": 391
        }
      },
      "source": [
        "\n",
        "\n",
        "testing = pd.read_excel(\"/content/drive/My Drive/NLP/Test.xlsx\")\n",
        "\n",
        "testing"
      ],
      "execution_count": 0,
      "outputs": [
        {
          "output_type": "execute_result",
          "data": {
            "text/html": [
              "<div>\n",
              "<style scoped>\n",
              "    .dataframe tbody tr th:only-of-type {\n",
              "        vertical-align: middle;\n",
              "    }\n",
              "\n",
              "    .dataframe tbody tr th {\n",
              "        vertical-align: top;\n",
              "    }\n",
              "\n",
              "    .dataframe thead th {\n",
              "        text-align: right;\n",
              "    }\n",
              "</style>\n",
              "<table border=\"1\" class=\"dataframe\">\n",
              "  <thead>\n",
              "    <tr style=\"text-align: right;\">\n",
              "      <th></th>\n",
              "      <th>Text</th>\n",
              "    </tr>\n",
              "  </thead>\n",
              "  <tbody>\n",
              "    <tr>\n",
              "      <th>0</th>\n",
              "      <td>Madagascar teetering on the brink of catastro...</td>\n",
              "    </tr>\n",
              "    <tr>\n",
              "      <th>1</th>\n",
              "      <td>You bite up because of your lower jaw.</td>\n",
              "    </tr>\n",
              "    <tr>\n",
              "      <th>2</th>\n",
              "      <td>All the glaciers have started melting</td>\n",
              "    </tr>\n",
              "    <tr>\n",
              "      <th>3</th>\n",
              "      <td>territory announces home loan help</td>\n",
              "    </tr>\n",
              "    <tr>\n",
              "      <th>4</th>\n",
              "      <td>israel seeks act of goodwill before reopening</td>\n",
              "    </tr>\n",
              "    <tr>\n",
              "      <th>...</th>\n",
              "      <td>...</td>\n",
              "    </tr>\n",
              "    <tr>\n",
              "      <th>104</th>\n",
              "      <td>New findings indicate the planet could be in ...</td>\n",
              "    </tr>\n",
              "    <tr>\n",
              "      <th>105</th>\n",
              "      <td>This book is sure to liquefy your brain.</td>\n",
              "    </tr>\n",
              "    <tr>\n",
              "      <th>106</th>\n",
              "      <td>Global warming of course is a worry, it is a w...</td>\n",
              "    </tr>\n",
              "    <tr>\n",
              "      <th>107</th>\n",
              "      <td>Climate change could cause fish extinction in...</td>\n",
              "    </tr>\n",
              "    <tr>\n",
              "      <th>108</th>\n",
              "      <td>He enjoys practicing his ballet in the bathroom.</td>\n",
              "    </tr>\n",
              "  </tbody>\n",
              "</table>\n",
              "<p>109 rows × 1 columns</p>\n",
              "</div>"
            ],
            "text/plain": [
              "                                                  Text\n",
              "0     Madagascar teetering on the brink of catastro...\n",
              "1               You bite up because of your lower jaw.\n",
              "2                All the glaciers have started melting\n",
              "3                   territory announces home loan help\n",
              "4        israel seeks act of goodwill before reopening\n",
              "..                                                 ...\n",
              "104   New findings indicate the planet could be in ...\n",
              "105           This book is sure to liquefy your brain.\n",
              "106  Global warming of course is a worry, it is a w...\n",
              "107   Climate change could cause fish extinction in...\n",
              "108   He enjoys practicing his ballet in the bathroom.\n",
              "\n",
              "[109 rows x 1 columns]"
            ]
          },
          "metadata": {
            "tags": []
          },
          "execution_count": 146
        }
      ]
    },
    {
      "cell_type": "code",
      "metadata": {
        "id": "ImE8wMDyWgMe",
        "colab_type": "code",
        "outputId": "049306db-6319-4644-ac6e-f24dc6c53dea",
        "colab": {
          "base_uri": "https://localhost:8080/",
          "height": 846
        }
      },
      "source": [
        "test_x = testing[\"Text\"]\n",
        "\n",
        "test_x\n",
        "\n",
        "xtest_count =  count_vect.transform(test_x)\n",
        "\n",
        "print(xtest_count)"
      ],
      "execution_count": 0,
      "outputs": [
        {
          "output_type": "stream",
          "text": [
            "  (0, 191)\t1\n",
            "  (0, 2441)\t1\n",
            "  (0, 2832)\t1\n",
            "  (0, 3278)\t1\n",
            "  (0, 6091)\t1\n",
            "  (0, 8104)\t1\n",
            "  (1, 979)\t1\n",
            "  (2, 7005)\t1\n",
            "  (3, 3545)\t1\n",
            "  (3, 3630)\t1\n",
            "  (3, 7358)\t1\n",
            "  (4, 319)\t1\n",
            "  (4, 3936)\t1\n",
            "  (6, 643)\t1\n",
            "  (6, 1468)\t1\n",
            "  (6, 1611)\t1\n",
            "  (6, 5794)\t1\n",
            "  (6, 5974)\t1\n",
            "  (7, 1468)\t1\n",
            "  (7, 1611)\t1\n",
            "  (7, 1882)\t1\n",
            "  (7, 5895)\t1\n",
            "  (8, 6126)\t1\n",
            "  (8, 6597)\t1\n",
            "  (9, 1468)\t1\n",
            "  :\t:\n",
            "  (103, 7634)\t1\n",
            "  (104, 2393)\t1\n",
            "  (104, 3278)\t1\n",
            "  (104, 3807)\t1\n",
            "  (104, 5088)\t1\n",
            "  (104, 5628)\t1\n",
            "  (104, 7412)\t1\n",
            "  (105, 1055)\t1\n",
            "  (105, 1108)\t1\n",
            "  (106, 1930)\t1\n",
            "  (106, 2657)\t1\n",
            "  (106, 3278)\t1\n",
            "  (106, 6403)\t1\n",
            "  (106, 8056)\t1\n",
            "  (107, 17)\t1\n",
            "  (107, 182)\t1\n",
            "  (107, 1032)\t1\n",
            "  (107, 1410)\t1\n",
            "  (107, 1468)\t1\n",
            "  (107, 1611)\t1\n",
            "  (107, 2791)\t1\n",
            "  (107, 2964)\t1\n",
            "  (107, 7935)\t1\n",
            "  (108, 770)\t1\n",
            "  (108, 826)\t1\n"
          ],
          "name": "stdout"
        }
      ]
    },
    {
      "cell_type": "code",
      "metadata": {
        "id": "54J70pJgZLYH",
        "colab_type": "code",
        "outputId": "b30d0b04-bdca-474d-b426-198dda040690",
        "colab": {
          "base_uri": "https://localhost:8080/",
          "height": 391
        }
      },
      "source": [
        "\n",
        "test_pred = classify.predict(xtest_count)\n",
        "\n",
        "test_pred = pd.DataFrame(test_pred)\n",
        "\n",
        "test_pred"
      ],
      "execution_count": 0,
      "outputs": [
        {
          "output_type": "execute_result",
          "data": {
            "text/html": [
              "<div>\n",
              "<style scoped>\n",
              "    .dataframe tbody tr th:only-of-type {\n",
              "        vertical-align: middle;\n",
              "    }\n",
              "\n",
              "    .dataframe tbody tr th {\n",
              "        vertical-align: top;\n",
              "    }\n",
              "\n",
              "    .dataframe thead th {\n",
              "        text-align: right;\n",
              "    }\n",
              "</style>\n",
              "<table border=\"1\" class=\"dataframe\">\n",
              "  <thead>\n",
              "    <tr style=\"text-align: right;\">\n",
              "      <th></th>\n",
              "      <th>0</th>\n",
              "    </tr>\n",
              "  </thead>\n",
              "  <tbody>\n",
              "    <tr>\n",
              "      <th>0</th>\n",
              "      <td>2</td>\n",
              "    </tr>\n",
              "    <tr>\n",
              "      <th>1</th>\n",
              "      <td>4</td>\n",
              "    </tr>\n",
              "    <tr>\n",
              "      <th>2</th>\n",
              "      <td>4</td>\n",
              "    </tr>\n",
              "    <tr>\n",
              "      <th>3</th>\n",
              "      <td>4</td>\n",
              "    </tr>\n",
              "    <tr>\n",
              "      <th>4</th>\n",
              "      <td>4</td>\n",
              "    </tr>\n",
              "    <tr>\n",
              "      <th>...</th>\n",
              "      <td>...</td>\n",
              "    </tr>\n",
              "    <tr>\n",
              "      <th>104</th>\n",
              "      <td>4</td>\n",
              "    </tr>\n",
              "    <tr>\n",
              "      <th>105</th>\n",
              "      <td>4</td>\n",
              "    </tr>\n",
              "    <tr>\n",
              "      <th>106</th>\n",
              "      <td>4</td>\n",
              "    </tr>\n",
              "    <tr>\n",
              "      <th>107</th>\n",
              "      <td>2</td>\n",
              "    </tr>\n",
              "    <tr>\n",
              "      <th>108</th>\n",
              "      <td>4</td>\n",
              "    </tr>\n",
              "  </tbody>\n",
              "</table>\n",
              "<p>109 rows × 1 columns</p>\n",
              "</div>"
            ],
            "text/plain": [
              "     0\n",
              "0    2\n",
              "1    4\n",
              "2    4\n",
              "3    4\n",
              "4    4\n",
              "..  ..\n",
              "104  4\n",
              "105  4\n",
              "106  4\n",
              "107  2\n",
              "108  4\n",
              "\n",
              "[109 rows x 1 columns]"
            ]
          },
          "metadata": {
            "tags": []
          },
          "execution_count": 148
        }
      ]
    }
  ]
}